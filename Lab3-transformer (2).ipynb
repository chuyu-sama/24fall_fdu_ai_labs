{
 "cells": [
  {
   "cell_type": "markdown",
   "metadata": {
    "id": "819e7379"
   },
   "source": [
    "# Transformer\n",
    "在这个notebook中，我们将逐步实现 Transformer 模型，参考原始论文[Attention is all you need](https://arxiv.org/pdf/1706.03762.pdf)。我们还将使用一个AddSub数据集来解决一个向量到向量的问题。\n",
    "\n",
    "在序列到序列的任务中，通常我们会同时使用编码器和解码器。在这次作业中，你将学习如何逐步实现基于编码器-解码器的 Transformer。我们将在这里实现一个更简单的版本，完成一个向量到向量的任务。这基本上意味着输入和输出序列的长度是**固定的**，我们不必担心输入序列的可变长度。\n",
    "\n",
    "1. [**第一部分（准备工作）**](#第一部分：准备工作)：导入需要的包，运行项目中所需要的function\n",
    "1. [**第二部分（实现 Transformer 模块）**](#第二部分：实现Transformer构建模块)：我们将学习如何实现 Transformer 的构建模块。它将包括以下模块：\n",
    "   1. 多头注意力（MultiHeadAttention）\n",
    "   2. 前馈网络（FeedForward）\n",
    "   3. 层归一化（LayerNorm）\n",
    "   4. 编码器块（Encoder Block）\n",
    "   5. 解码器块（Decoder Block）\n",
    "1. [**第三部分（数据加载）**](#第三部分：数据加载器)：我们将预处理一个AddSub数据集，其中包含输入算术表达式和表达式的输出结果。我们将使用位置编码（Positional Embedding）模块，同时我们将会构建数据加载器（DataLoader）。\n",
    "1. [**第四部分（训练模型）**](#第四部分:在AddSub数据集上训练Transformer)：在最后一部分，我们将看看如何将实现的 Transformer 模型拟合到AddSub数据集上。\n",
    "\n",
    "你可以在 CPU 上运行所有事情直到第3部分。第4部分需要 GPU，而在切换到此部分的运行时时，你还需要运行所有之前的部分，因为第4部分依赖于之前的部分。\n",
    "\n"
   ]
  },
  {
   "cell_type": "markdown",
   "metadata": {
    "id": "3e1c7486"
   },
   "source": [
    "# 第一部分：准备工作"
   ]
  },
  {
   "cell_type": "markdown",
   "metadata": {},
   "source": [
    "请同学们运行一下block，导入所需要的包以及功能函数。"
   ]
  },
  {
   "cell_type": "code",
   "execution_count": 3,
   "metadata": {
    "ExecutionIndicator": {
     "show": true
    },
    "execution": {
     "iopub.execute_input": "2024-12-11T00:10:58.748993Z",
     "iopub.status.busy": "2024-12-11T00:10:58.748601Z",
     "iopub.status.idle": "2024-12-11T00:10:58.753888Z",
     "shell.execute_reply": "2024-12-11T00:10:58.753408Z",
     "shell.execute_reply.started": "2024-12-11T00:10:58.748976Z"
    },
    "id": "2cbf5f86",
    "tags": []
   },
   "outputs": [],
   "source": [
    "# 导入所需的包\n",
    "import torch\n",
    "import torch.nn.functional as F\n",
    "from torch import Tensor\n",
    "from torch import nn, optim\n",
    "import torch.nn.functional as F\n",
    "import matplotlib.pyplot as plt\n",
    "import time\n",
    "from IPython.display import Image\n",
    "import math\n",
    "import random\n",
    "from tqdm import tqdm\n",
    "import json\n",
    "import seaborn\n",
    "import os\n",
    "\n",
    "\n",
    "# for plotting\n",
    "%matplotlib inline\n",
    "plt.rcParams[\"figure.figsize\"] = (10.0, 8.0)  # set default size of plots\n",
    "plt.rcParams[\"image.interpolation\"] = \"nearest\"\n",
    "plt.rcParams[\"image.cmap\"] = \"gray\""
   ]
  },
  {
   "cell_type": "markdown",
   "metadata": {
    "id": "b807888a"
   },
   "source": [
    "我们将在第四部分使用GPU，前三个部分可以不开启GPU加速。\n",
    "在第四部分，我们将使用 GPU 来加速我们的计算，运行此单元格以确保你正在使用 GPU。\n",
    "\n",
    "我们将使用 `torch.float = torch.float32` 来表示数据，以及 `torch.long = torch.int64` 来表示标签。\n",
    "\n",
    "请参阅 [torch.dtype](https://pytorch.org/docs/stable/tensor_attributes.html#torch-dtype) 了解有关数据类型的更多细节。"
   ]
  },
  {
   "cell_type": "code",
   "execution_count": 4,
   "metadata": {
    "execution": {
     "iopub.execute_input": "2024-12-11T00:11:01.916428Z",
     "iopub.status.busy": "2024-12-11T00:11:01.915857Z",
     "iopub.status.idle": "2024-12-11T00:11:01.981360Z",
     "shell.execute_reply": "2024-12-11T00:11:01.980906Z",
     "shell.execute_reply.started": "2024-12-11T00:11:01.916409Z"
    },
    "id": "0150e9a5",
    "tags": []
   },
   "outputs": [
    {
     "name": "stdout",
     "output_type": "stream",
     "text": [
      "Good to go!\n"
     ]
    }
   ],
   "source": [
    "to_float = torch.float\n",
    "to_long = torch.long\n",
    "\n",
    "if torch.cuda.is_available():\n",
    "    print(\"Good to go!\")\n",
    "    DEVICE = torch.device(\"cuda\")\n",
    "else:\n",
    "    print(\"Please set GPU via Edit -> Notebook Settings.\")\n",
    "    DEVICE = torch.device(\"cpu\")"
   ]
  },
  {
   "cell_type": "markdown",
   "metadata": {},
   "source": [
    "项目中需要用到的一些function，请运行一下。"
   ]
  },
  {
   "cell_type": "code",
   "execution_count": 5,
   "metadata": {
    "execution": {
     "iopub.execute_input": "2024-12-11T00:11:13.550529Z",
     "iopub.status.busy": "2024-12-11T00:11:13.549948Z",
     "iopub.status.idle": "2024-12-11T00:11:13.554634Z",
     "shell.execute_reply": "2024-12-11T00:11:13.554128Z",
     "shell.execute_reply.started": "2024-12-11T00:11:13.550510Z"
    },
    "tags": []
   },
   "outputs": [],
   "source": [
    "def reset_seed(number):\n",
    "    \"\"\"\n",
    "    重置随机种子为指定的数字\n",
    "\n",
    "    输入：\n",
    "    - number：要使用的种子数\n",
    "    \"\"\"\n",
    "    random.seed(number)\n",
    "    torch.manual_seed(number)\n",
    "    return\n",
    "\n",
    "def rel_error(x, y, eps=1e-10):\n",
    "    \"\"\"\n",
    "    这个函数用于计算两个张量 x 和 y 之间的相对误差。相对误差被定义为：\n",
    "    \n",
    "                            max_i |x_i - y_i]|\n",
    "    rel_error(x, y) = -------------------------------\n",
    "                      max_i |x_i| + max_i |y_i| + eps\n",
    "\n",
    "    输入：\n",
    "    - x，y：具有相同形状的张量\n",
    "    - eps：用于数值稳定性的小正常数\n",
    "\n",
    "    返回：\n",
    "    - rel_error：给出 x 和 y 之间相对误差的标量\n",
    "    \"\"\"\n",
    "    top = (x - y).abs().max().item()\n",
    "    bot = (x.abs() + y.abs()).clamp(min=eps).max().item()\n",
    "    return top / bot"
   ]
  },
  {
   "cell_type": "markdown",
   "metadata": {
    "id": "58aed0ae"
   },
   "source": [
    "# 第二部分：实现Transformer构建模块\n",
    "\n",
    "在这一部分，我们将看到如何实现用于构建 Transformer 模型的各种模块。然后我们将使用这些模块来构建 Transformer 编码器和解码器，最终实现完整的 Transformer 模型。\n",
    "每个模块都将被实现为 `nn.Module` 的子类；我们将使用 PyTorch 的自动微分来计算梯度，因此不需要手动实现反向传播。\n",
    "\n",
    "我们将按照原始论文的参考来实现以下模块：\n",
    "\n",
    "1. 多头注意力（MultiHeadAttention）模块\n",
    "2. 前馈网络（FeedForward）模块\n",
    "3. 层归一化（Layer Normalization）\n",
    "4. 位置编码（Positional Encoding）模块\n",
    "\n",
    "然后，我们将使用这些构建模块，结合输入嵌入层，来构建 Transformer 编码器和解码器。我们将从实现多头注意力（MultiHeadAttention）、前馈网络（FeedForward）和层归一化（Layer Normalization）开始，稍后再看位置编码和输入嵌入。 \n",
    "\n",
    "**注意：** 在实现这些模块时，所有这些模块的输入和输出张量的形状应该相同,可以通过检查检查输入和输出张量的形状判断代码补全是否正确。"
   ]
  },
  {
   "attachments": {
    "1363dc0d-1aa1-481a-af9e-2ceaf1041249.png": {
     "image/png": "[encoded data removed]"
    }
   },
   "cell_type": "markdown",
   "metadata": {},
   "source": [
    "## 多头注意力模块\n",
    "\n",
    "Transformers是一种序列到序列的网络，它接收一个序列（例如英文句子）作为输入，输出一个序列（例如西班牙文句子）。输入序列首先被转换为嵌入向量，类似于我们在RNN部分讨论的内容，然后这些嵌入向量被传递到一个位置编码模块。接着，这些嵌入向量被转换为三个向量：查询（query）、键（key）和值（value），这个转换过程使用的是可学习的权重。然后我们使用一个Transformer编码器和解码器来得到最终的输出序列。\n",
    "\n",
    "![image.png](attachment:1363dc0d-1aa1-481a-af9e-2ceaf1041249.png)\n",
    "\n",
    "在这一部分，我们假设我们已经得到了查询、键和值向量(即我们需要处理的输入是如上图所示的$Q，K，V$)，并且我们将对它们进行处理。为了实现基本的多头注意力模块，我们首先将实现自注意力模块，然后从自注意力模块扩展到多头注意力模块。\n",
    "\n",
    "### 自注意力模块\n",
    "\n",
    "受到信息检索范式的启发，Transformers引入了查询、键和值(*query*、*key* 和*value*)的概念。在给定一个 *query* 的情况下，我们尝试从 *key*-*value* 对中提取信息。按照这些思路，我们通过对每个 *query* 计算 *key* 的加权和来数学上实现这一过程，其中权重由 *query* 和 *key* 的点积计算得到。更确切地说，对于每个 *query* ，我们计算其与所有 *key* 的点积，然后使用这些点积的标量输出作为权重，以找到 *values* 的加权和。请注意，在找到加权和之前，我们还会对权重向量应用 softmax 函数。我们将实现一个注意力模块，它接收查询、键和值向量作为输入，并返回一个张量，即值的加权和。\n",
    "\n",
    "\n",
    "$$Attention(Q, K, V) = softmax(\\frac{QK^T}{\\sqrt{d_k}})V$$\n",
    "\n",
    "其中，$Q$、$K$ 和 $V$ 分别代表查询（Query）、键（Key）和值（Value）。这些都是通过对输入数据进行线性变换得到的。$d_k$ 是键向量的维度。\n",
    "\n",
    "这个公式的含义是：\n",
    "\n",
    "1. 计算查询和所有键的点积，得到一个得分。这个得分表示查询和每个键的匹配程度。\n",
    "\n",
    "2. 除以 $\\sqrt{d_k}$ 是进行scale操作。\n",
    "\n",
    "3. 通过 softmax 函数，将得分转换为概率分布。这个概率分布表示模型在每个位置的“注意力”。\n",
    "\n",
    "4. 最后，这个注意力分布和值向量相乘，得到最终的输出。这个输出是一个加权和，其中的权重就是注意力分布。\n",
    "\n",
    "\n",
    "\n",
    "\n",
    "在这一部分中，你需要实现`scaled_dot_product_no_loop_batch`函数，请**不要用任何loop语句**。\n",
    "\n",
    "可以参考使用:\n",
    "1. [torch.bmm](https://pytorch.org/docs/stable/generated/torch.bmm.html)\n",
    "2. [torch.softmax](https://pytorch.org/docs/stable/generated/torch.softmax.html)\n",
    "3. [转置](https://pytorch.org/docs/stable/generated/torch.transpose.html)"
   ]
  },
  {
   "cell_type": "markdown",
   "metadata": {},
   "source": [
    "#### 代码填空1: 实现注意力计算（12分）"
   ]
  },
  {
   "cell_type": "code",
   "execution_count": 6,
   "metadata": {
    "execution": {
     "iopub.execute_input": "2024-12-11T00:11:20.870289Z",
     "iopub.status.busy": "2024-12-11T00:11:20.869704Z",
     "iopub.status.idle": "2024-12-11T00:11:20.874461Z",
     "shell.execute_reply": "2024-12-11T00:11:20.874007Z",
     "shell.execute_reply.started": "2024-12-11T00:11:20.870269Z"
    },
    "tags": []
   },
   "outputs": [],
   "source": [
    "def scaled_dot_product_no_loop_batch(\n",
    "    query: Tensor, key: Tensor, value: Tensor, mask: Tensor = None\n",
    ") -> Tensor:\n",
    "    \"\"\"\n",
    "    该函数执行注意力机制的基本块，即缩放点积。我们将输入的 query、key 和 value 映射到输出。\n",
    "    它使用矩阵-矩阵乘法来找到缩放权重，然后使用矩阵-矩阵乘法来找到最终输出。\n",
    "\n",
    "    参数：\n",
    "        query：形状为 (N,K, M) 的张量，其中 N 是批次大小，K 是序列长度，M 是序列嵌入维度\n",
    "        key：形状为 (N, K, M) 的张量，其中 N 是批次大小，K 是序列长度，M 是序列嵌入维度\n",
    "        value：形状为 (N, K, M) 的张量，其中 N 是批次大小，K 是序列长度，M 是序列嵌入维度\n",
    "        mask：形状为 (N, K, K) 的布尔张量，用于掩盖计算加权和的权重\n",
    "\n",
    "    返回：\n",
    "        y：形状为 (N, K, M) 的张量，包含值的加权和\n",
    "        weights_softmax：形状为 (N, K, K) 的张量，包含 softmax 后的权重矩阵。\n",
    "\n",
    "    \"\"\"\n",
    "    _, _, M = query.shape\n",
    "    ###############################################################################\n",
    "    # TODO: 该函数执行自注意力操作， 请不要用任何loop实现。 \n",
    "    ###############################################################################\n",
    "    scores = torch.bmm(query, key.transpose(1, 2)) / math.sqrt(M) # TODO: 计算query与key的点积，张量之间的乘法请参考(1)torch.bmm (2)张量的转置操作\n",
    "    if mask is not None: # 将掩码应用于权重矩阵，将 -1e9 赋值给掩码值为 True 的位置，否则保持不变\n",
    "        scores = scores.masked_fill(mask, -1e9)\n",
    "    weights = torch.softmax(scores, dim=-1) # TODO： 对权重应用softmax函数，请参考torch.softmax\n",
    "    y = torch.bmm(weights, value) # TODO: 作为权重的标量和value进行加权\n",
    "    return y, weights"
   ]
  },
  {
   "cell_type": "markdown",
   "metadata": {},
   "source": [
    "#### 测试代码1: 测试注意力代码"
   ]
  },
  {
   "cell_type": "code",
   "execution_count": 8,
   "metadata": {
    "execution": {
     "iopub.execute_input": "2024-12-11T00:11:39.617326Z",
     "iopub.status.busy": "2024-12-11T00:11:39.616752Z",
     "iopub.status.idle": "2024-12-11T00:11:39.624629Z",
     "shell.execute_reply": "2024-12-11T00:11:39.624147Z",
     "shell.execute_reply.started": "2024-12-11T00:11:39.617307Z"
    },
    "id": "b13b2d96",
    "tags": []
   },
   "outputs": [
    {
     "name": "stdout",
     "output_type": "stream",
     "text": [
      "Shapes of y and y_expected are the same\n",
      "scaled_dot_product_no_loop_batch error:  4.020571992067902e-06\n",
      "The error is less than 1e-5. Done!\n"
     ]
    }
   ],
   "source": [
    "N = 2  # 句子数量\n",
    "K = 5  # 每个句子里的单词数\n",
    "M = 4  # 每个单词embedding的特征维度\n",
    "\n",
    "query = torch.linspace(-0.4, 0.6, steps=N * K * M).reshape(N, K, M)  # **to_double_cuda\n",
    "key = torch.linspace(-0.8, 0.5, steps=N * K * M).reshape(N, K, M)  # **to_double_cuda\n",
    "value = torch.linspace(-0.3, 0.8, steps=N * K * M).reshape(N, K, M)  # *to_double_cuda\n",
    "\n",
    "\n",
    "y, _ = scaled_dot_product_no_loop_batch(query, key, value)\n",
    "\n",
    "y_expected = torch.tensor(\n",
    "    [\n",
    "        [\n",
    "            [-0.09603, -0.06782, -0.03962, -0.01141],\n",
    "            [-0.08991, -0.06170, -0.03350, -0.00529],\n",
    "            [-0.08376, -0.05556, -0.02735, 0.00085],\n",
    "            [-0.07760, -0.04939, -0.02119, 0.00702],\n",
    "            [-0.07143, -0.04322, -0.01502, 0.01319],\n",
    "        ],\n",
    "        [\n",
    "            [0.49884, 0.52705, 0.55525, 0.58346],\n",
    "            [0.50499, 0.53319, 0.56140, 0.58960],\n",
    "            [0.51111, 0.53931, 0.56752, 0.59572],\n",
    "            [0.51718, 0.54539, 0.57359, 0.60180],\n",
    "            [0.52321, 0.55141, 0.57962, 0.60782],\n",
    "        ],\n",
    "    ]\n",
    ").to(torch.float32)\n",
    "\n",
    "if y.shape == y_expected.shape:\n",
    "    print(f'Shapes of y and y_expected are the same')\n",
    "else:\n",
    "    print('Check the output shape of your funtion')\n",
    "print(\"scaled_dot_product_no_loop_batch error: \", rel_error(y_expected, y))\n",
    "if rel_error(y_expected, y) > 1e-5:\n",
    "    print('There are some problems with your code, please check!')\n",
    "else:\n",
    "    print('The error is less than 1e-5. Done!')\n",
    "\n",
    "# Error应该小于1e-5"
   ]
  },
  {
   "cell_type": "markdown",
   "metadata": {
    "id": "56e21e2d"
   },
   "source": [
    "### 观察时间复杂度：\n",
    "\n",
    "Transformers 时间复杂度取决于输入序列的大小。\n",
    "现在我们已经实现了 `self_attention_no_loop`，我们可以验证这一点。\n",
    "运行下面的单元格：第一个具有长度为 256 的序列，第二个具有长度为 512 的序列。您应该会发现长度为 512 的情况大约慢 4 倍，从而显示出 Transformers 的复杂度随着序列长度的增加呈二次增长。\n",
    "`%timeit` 行可能需要几秒钟才能运行。"
   ]
  },
  {
   "cell_type": "code",
   "execution_count": 12,
   "metadata": {
    "execution": {
     "iopub.execute_input": "2024-12-11T00:12:09.447087Z",
     "iopub.status.busy": "2024-12-11T00:12:09.446768Z",
     "iopub.status.idle": "2024-12-11T00:12:10.946968Z",
     "shell.execute_reply": "2024-12-11T00:12:10.946449Z",
     "shell.execute_reply.started": "2024-12-11T00:12:09.447070Z"
    },
    "id": "e7d58596",
    "tags": []
   },
   "outputs": [
    {
     "name": "stdout",
     "output_type": "stream",
     "text": [
      "142 ms ± 315 µs per loop (mean ± std. dev. of 2 runs, 5 loops each)\n"
     ]
    }
   ],
   "source": [
    "N = 64\n",
    "K = 256  \n",
    "M = emb_size = 2048\n",
    "dim_q = dim_k = 2048\n",
    "query = torch.linspace(-0.4, 0.6, steps=N * K * M).reshape(N, K, M)  # **to_double_cuda\n",
    "key = torch.linspace(-0.8, 0.5, steps=N * K * M).reshape(N, K, M)  # **to_double_cuda\n",
    "value = torch.linspace(-0.3, 0.8, steps=N * K * M).reshape(N, K, M)  # *to_double_cuda\n",
    "\n",
    "%timeit -n 5 -r 2  y = scaled_dot_product_no_loop_batch(query, key, value)"
   ]
  },
  {
   "cell_type": "code",
   "execution_count": 13,
   "metadata": {
    "execution": {
     "iopub.execute_input": "2024-12-11T00:12:21.766718Z",
     "iopub.status.busy": "2024-12-11T00:12:21.766411Z",
     "iopub.status.idle": "2024-12-11T00:12:26.311715Z",
     "shell.execute_reply": "2024-12-11T00:12:26.311179Z",
     "shell.execute_reply.started": "2024-12-11T00:12:21.766702Z"
    },
    "id": "a85adf69",
    "tags": []
   },
   "outputs": [
    {
     "name": "stdout",
     "output_type": "stream",
     "text": [
      "442 ms ± 67 ms per loop (mean ± std. dev. of 2 runs, 5 loops each)\n"
     ]
    }
   ],
   "source": [
    "N = 64\n",
    "K = 512  \n",
    "M = emb_size = 2048\n",
    "dim_q = dim_k = 2048\n",
    "query = torch.linspace(-0.4, 0.6, steps=N * K * M).reshape(N, K, M)  # **to_double_cuda\n",
    "key = torch.linspace(-0.8, 0.5, steps=N * K * M).reshape(N, K, M)  # **to_double_cuda\n",
    "value = torch.linspace(-0.3, 0.8, steps=N * K * M).reshape(N, K, M)  # *to_double_cuda\n",
    "\n",
    "%timeit -n 5 -r 2  y = scaled_dot_product_no_loop_batch(query, key, value)"
   ]
  },
  {
   "cell_type": "markdown",
   "metadata": {
    "id": "9d6e92b0"
   },
   "source": [
    "#### 代码填空2: 自注意力层的实现（8分）\n",
    "\n",
    "现在我们已经实现了 `scaled_dot_product_no_loop_batch`，让我们实现 `SingleHeadAttention`，它将作为 `MultiHeadAttention` 块的构建模块。对于这个练习，我们创建了一个 `SingleHeadAttention` 类，它继承自 PyTorch 的 `nn.module` 类。你需要 `forward` 函数。\n",
    "\n",
    "自注意力层中，我们初始化的三个linear层，即为$W^q, W^k, W^v$权重。\n"
   ]
  },
  {
   "cell_type": "code",
   "execution_count": 14,
   "metadata": {
    "execution": {
     "iopub.execute_input": "2024-12-11T00:12:32.333328Z",
     "iopub.status.busy": "2024-12-11T00:12:32.332979Z",
     "iopub.status.idle": "2024-12-11T00:12:32.339682Z",
     "shell.execute_reply": "2024-12-11T00:12:32.339245Z",
     "shell.execute_reply.started": "2024-12-11T00:12:32.333308Z"
    },
    "tags": []
   },
   "outputs": [],
   "source": [
    "class SelfAttention(nn.Module):\n",
    "    def __init__(self, dim_in: int, dim_q: int, dim_v: int):\n",
    "        super().__init__()\n",
    "\n",
    "        \"\"\"\n",
    "        该类封装了自注意力层的实现。我们使用 MLP 层映射输入的查询、键和值，\n",
    "        然后使用 scaled_dot_product_no_loop_batch 得到最终输出。\n",
    "\n",
    "        参数：\n",
    "            dim_in：输入序列嵌入维度的整数值\n",
    "            dim_q：查询和键向量输出维度的整数值\n",
    "            dim_v：值向量的输出维度的整数值\n",
    "\n",
    "        \"\"\"\n",
    "        ##########################################################################\n",
    "        # 初始化三个 nn.Linear 层，可以将输入维度为 dim_in 的输入转换为维度为 dim_q 的查询， #\n",
    "        # 维度为 dim_q 的键，和维度为 dim_v 的值。                #\n",
    "        ##########################################################################\n",
    "        # 初始化q, k, v， 由于qk要进行点积计算，其维度需要保持一致\n",
    "        self.q = nn.Linear(dim_in, dim_q)\n",
    "        self.k = nn.Linear(dim_in, dim_q)\n",
    "        self.v = nn.Linear(dim_in, dim_v)\n",
    "        self.weights_softmax = None\n",
    "        # 对于每个 Linear 层，使用以下策略初始化权重： #\n",
    "        # 如果一个 Linear 层具有输入维度 D_in 和输出维度 D_out，则将权重初始化为从 [-c, c]  #\n",
    "        # 范围内的均匀分布中抽取的值，其中 c = sqrt(6/(D_in + D_out))。   \n",
    "        self.q.weight.data.uniform_(-math.sqrt(6/(dim_in+dim_q)), math.sqrt(6/(dim_in+dim_q)))\n",
    "        self.k.weight.data.uniform_(-math.sqrt(6/(dim_in+dim_q)), math.sqrt(6/(dim_in+dim_q)))\n",
    "        self.v.weight.data.uniform_(-math.sqrt(6/(dim_in+dim_v)), math.sqrt(6/(dim_in+dim_v)))\n",
    "\n",
    "    def forward(\n",
    "        self, query: Tensor, key: Tensor, value: Tensor, mask: Tensor = None\n",
    "    ) -> Tensor:\n",
    "\n",
    "        \"\"\"\n",
    "        该函数执行自注意力层的前向传播。\n",
    "\n",
    "        参数：\n",
    "            query：形状为 (N, K, M) 的张量\n",
    "            key：形状为 (N, K, M) 的张量\n",
    "            value：形状为 (N, K, M) 的张量\n",
    "            mask：形状为 (N, K, K) 的张量\n",
    "        返回：\n",
    "            y：形状为 (N, K, dim_v) 的张量\n",
    "        \"\"\"\n",
    "        ##########################################################################\n",
    "        # TODO: 使用 init 函数中初始化的函数找到输出张量。确切地说，将输入 query、key 和 value #\n",
    "        # 传递给上面初始化的三个函数。然后，将这三个转换后的 query、key 和 value 张量传递给 #\n",
    "        # self_attention_no_loop_batch，以获得最终输出。只需将其作为 self_attention_no_loop_batch #\n",
    "        # 中的一个变量传递。将 self_attention_no_loop_batch 的输出权重矩阵值赋给变量 self.weights_softmax。#\n",
    "        ##########################################################################\n",
    "        # 应用self_attention_no_loop_batch\n",
    "        # y和self.weights_softmax为self_attention_no_loop_batch 应用后的输出\n",
    "        # TODO: 添加你的代码\n",
    "        Q = self.q(query)# TODO\n",
    "        K = self.k(key)# TODO\n",
    "        V = self.v(value)# TODO\n",
    "        y, self.weights_softmax = scaled_dot_product_no_loop_batch(Q, K, V, mask)# TODO\n",
    "\n",
    "        return y\n"
   ]
  },
  {
   "cell_type": "markdown",
   "metadata": {},
   "source": [
    "#### 测试代码2: 自注意力层的实现\n"
   ]
  },
  {
   "cell_type": "code",
   "execution_count": 15,
   "metadata": {
    "execution": {
     "iopub.execute_input": "2024-12-11T00:12:39.617576Z",
     "iopub.status.busy": "2024-12-11T00:12:39.617265Z",
     "iopub.status.idle": "2024-12-11T00:12:39.668579Z",
     "shell.execute_reply": "2024-12-11T00:12:39.668137Z",
     "shell.execute_reply.started": "2024-12-11T00:12:39.617559Z"
    },
    "tags": []
   },
   "outputs": [
    {
     "name": "stdout",
     "output_type": "stream",
     "text": [
      "SelfAttention error:  5.567700453666357e-07\n",
      "SelfAttention error:  2.813154686400902e-06\n",
      "The error is less than 1e-5. Done!\n"
     ]
    }
   ],
   "source": [
    "reset_seed(0)\n",
    "N = 2\n",
    "K = 4\n",
    "M = emb_size = 4\n",
    "dim_q = dim_k = 4\n",
    "atten_single = SelfAttention(emb_size, dim_q, dim_k)\n",
    "\n",
    "for k, v in atten_single.named_parameters():\n",
    "    # print(k, v.shape) \n",
    "    v.data.copy_(torch.linspace(-1.4, 1.3, steps=v.numel()).reshape(*v.shape))\n",
    "\n",
    "query = torch.linspace(-0.4, 0.6, steps=N * K * M, requires_grad=True).reshape(\n",
    "    N, K, M\n",
    ")  \n",
    "key = torch.linspace(-0.8, 0.5, steps=N * K * M, requires_grad=True).reshape(\n",
    "    N, K, M\n",
    ")  \n",
    "value = torch.linspace(-0.3, 0.8, steps=N * K * M, requires_grad=True).reshape(\n",
    "    N, K, M\n",
    ")  \n",
    "\n",
    "query.retain_grad()\n",
    "key.retain_grad()\n",
    "value.retain_grad()\n",
    "\n",
    "y_expected = torch.tensor(\n",
    "    [\n",
    "        [\n",
    "            [-1.10382, -0.37219, 0.35944, 1.09108],\n",
    "            [-1.45792, -0.50067, 0.45658, 1.41384],\n",
    "            [-1.74349, -0.60428, 0.53493, 1.67414],\n",
    "            [-1.92584, -0.67044, 0.58495, 1.84035],\n",
    "        ],\n",
    "        [\n",
    "            [-4.59671, -1.63952, 1.31767, 4.27486],\n",
    "            [-4.65586, -1.66098, 1.33390, 4.32877],\n",
    "            [-4.69005, -1.67339, 1.34328, 4.35994],\n",
    "            [-4.71039, -1.68077, 1.34886, 4.37848],\n",
    "        ],\n",
    "    ]\n",
    ")\n",
    "\n",
    "dy_expected = torch.tensor(\n",
    "    [\n",
    "        [\n",
    "            [-0.09084, -0.08961, -0.08838, -0.08715],\n",
    "            [0.69305, 0.68366, 0.67426, 0.66487],\n",
    "            [-0.88989, -0.87783, -0.86576, -0.85370],\n",
    "            [0.25859, 0.25509, 0.25158, 0.24808],\n",
    "        ],\n",
    "        [\n",
    "            [-0.05360, -0.05287, -0.05214, -0.05142],\n",
    "            [0.11627, 0.11470, 0.11312, 0.11154],\n",
    "            [-0.01048, -0.01034, -0.01019, -0.01005],\n",
    "            [-0.03908, -0.03855, -0.03802, -0.03749],\n",
    "        ],\n",
    "    ]\n",
    ")\n",
    "\n",
    "y = atten_single(query, key, value)\n",
    "dy = torch.randn(*y.shape)  \n",
    "\n",
    "y.backward(dy)\n",
    "query_grad = query.grad\n",
    "\n",
    "print(\"SelfAttention error: \", rel_error(y_expected, y))\n",
    "print(\"SelfAttention error: \", rel_error(dy_expected, query_grad))\n",
    "if rel_error(y_expected, y) > 1e-5 and rel_error(dy_expected, query_grad) > 1e-5:\n",
    "    print('There are some problems with your code, please check!')\n",
    "else:\n",
    "    print('The error is less than 1e-5. Done!')"
   ]
  },
  {
   "cell_type": "markdown",
   "metadata": {
    "id": "f4b80b79"
   },
   "source": [
    "#### 代码填空3: 多头注意力（15分）\n",
    "\n",
    "我们已经实现了 `SingleHeadAttention` 块，这让我们非常接近实现 `MultiHeadAttention`。现在我们将看到，通过根据 Multi-Attention 块中的头数来操作输入张量的形状，可以实现这一点。我们设计了一个网络，该网络在相同的输入上使用多个 SingleHeadAttention 块来计算输出张量，并最终将它们连接起来生成单个输出。这不是实际使用的实现方式，因为它强制你初始化多个层，但我们在这里出于简单起见，使用 `SingleHeadAttention` 块实现 `MultiHeadAttention` 块。\n",
    "\n",
    "可以参考：\n",
    "1. [nn.ModuleList](https://pytorch.org/docs/stable/generated/torch.nn.ModuleList.html)\n",
    "2. [nn.Linear](https://pytorch.org/docs/stable/generated/torch.nn.Linear.html)\n",
    "3. [torch.cat](https://pytorch.org/docs/stable/generated/torch.cat.html#torch-cat)"
   ]
  },
  {
   "cell_type": "code",
   "execution_count": 16,
   "metadata": {
    "execution": {
     "iopub.execute_input": "2024-12-11T00:13:11.764501Z",
     "iopub.status.busy": "2024-12-11T00:13:11.764126Z",
     "iopub.status.idle": "2024-12-11T00:13:11.770716Z",
     "shell.execute_reply": "2024-12-11T00:13:11.770308Z",
     "shell.execute_reply.started": "2024-12-11T00:13:11.764482Z"
    },
    "id": "6da2558e",
    "tags": []
   },
   "outputs": [],
   "source": [
    "class MultiHeadAttention(nn.Module):\n",
    "    def __init__(self, num_heads: int, dim_in: int, dim_out: int):\n",
    "        super().__init__()\n",
    "\n",
    "        \"\"\"\n",
    "        \n",
    "        一个简单的 Transformer 模型中 MultiheadAttention 层的实现。\n",
    "        我们在相同的输入上并行使用多个 SelfAttention 层，然后将它们连接成单个张量。\n",
    "        然后通过 MLP 将该张量传递以生成最终输出。\n",
    "        输入形状将为 (N, K, M)，其中 N 是批量大小，K 是序列长度，M 是序列嵌入维度。\n",
    "        参数：\n",
    "            num_heads：指定头数的整数值\n",
    "            dim_in：指定查询、键和值的输入维度的整数值。这将是每个 SingleHeadAttention 块的输入维度\n",
    "            dim_out：指定完整 MultiHeadAttention 块的输出维度的整数值\n",
    "\n",
    "\n",
    "\n",
    "        注意：在这里，当我们说维度时，我们指的是嵌入的维度。\n",
    "              在 Transformers 中，输入是形状为 (N, K, M) 的张量，这里 N 是批量大小，K 是序列长度，\n",
    "              而 M 是输入嵌入的大小。由于序列长度(K)和批量数(N)通常不会改变，我们通常只转换\n",
    "              维度(M) 维度。\n",
    "        \"\"\"\n",
    "        ##########################################################################\n",
    "        # TODO: 在这里初始化两个东西：                                              #\n",
    "        # 1.) 使用 nn.ModuleList 初始化一系列 SingleHeadAttention 层模块。          #\n",
    "        #    这个列表的长度应该等于 num_heads，每个 SingleHeadAttention 层的输入维度为 dim_in， #\n",
    "        #    查询、键和值的维度均为 dim_out。                                       #\n",
    "        # 2.) 使用 nn.Linear 将 nn.Modulelist 块的输出映射回 dim_in。               #\n",
    "        ##########################################################################\n",
    "        self.heads = nn.ModuleList([SelfAttention(dim_in, dim_out, dim_out) for _ in range(num_heads)])\n",
    "        \n",
    "        self.linear = nn.Linear(num_heads * dim_out, dim_in)\n",
    "        nn.init.uniform_(self.linear.weight, -torch.sqrt(torch.tensor(6. / (num_heads * dim_out + dim_in))), torch.sqrt(torch.tensor(6. / (num_heads * dim_out + dim_in))))# 权重初始化\n",
    "\n",
    "    def forward(\n",
    "        self, query: Tensor, key: Tensor, value: Tensor, mask: Tensor = None\n",
    "    ) -> Tensor:\n",
    "\n",
    "        \"\"\"\n",
    "        MultiHeadAttention 层的前向传播的实现。\n",
    "\n",
    "        参数：\n",
    "            query：形状为 (N, K, M) 的张量，其中 N 是批量中的序列数，\n",
    "                K 是序列长度，M 是输入嵌入维度。M 应与初始化函数中的 dim_in 相等\n",
    "\n",
    "            key：形状为 (N, K, M) 的张量，其中 N 是批量中的序列数，\n",
    "                K 是序列长度，M 是输入嵌入维度。M 应与初始化函数中的 dim_in 相等\n",
    "\n",
    "            value：形状为 (N, K, M) 的张量，其中 N 是批量中的序列数，\n",
    "                K 是序列长度，M 是输入嵌入维度。M 应与初始化函数中的 dim_in 相等\n",
    "\n",
    "            mask：形状为 (N, K, K) 的张量，其中 N 是批量中的序列数，\n",
    "                K 是序列长度，M 是输入嵌入维度。M 应与初始化函数中的 dim_in 相等\n",
    "\n",
    "        返回：\n",
    "            y：形状为 (N, K, M) 的张量\n",
    "        \"\"\"\n",
    "        y = None\n",
    "        ##########################################################################\n",
    "        # TODO: 使用初始化函数中定义的变量，通过 MultiHeadAttention 块进行前向传播。\n",
    "        # nn.ModuleList 的行为类似一个列表，你可以使用 for 循环或列表解析来提取其中的不同元素。\n",
    "        # nn.ModuleList 中的每个元素都是一个 SingleHeadAttention，它将使用相同的查询、键、值和掩码张量，\n",
    "        # 并且你将得到一个张量列表作为输出。将这个张量列表连接起来，然后通过\n",
    "        # nn.Linear 映射函数进行处理。                                        #\n",
    "        ##########################################################################\n",
    "        outputs = []\n",
    "        for head in self.heads:\n",
    "            output_head = head(query, key, value, mask) # TODO\n",
    "            outputs.append(output_head)\n",
    "        concat = torch.cat(outputs, dim=2) # torch.cat\n",
    "        y = self.linear(concat) # TODO\n",
    "        return y\n"
   ]
  },
  {
   "cell_type": "markdown",
   "metadata": {},
   "source": [
    "#### 测试代码3: 多头注意力"
   ]
  },
  {
   "cell_type": "code",
   "execution_count": 17,
   "metadata": {
    "execution": {
     "iopub.execute_input": "2024-12-11T00:13:25.472011Z",
     "iopub.status.busy": "2024-12-11T00:13:25.471553Z",
     "iopub.status.idle": "2024-12-11T00:13:25.490726Z",
     "shell.execute_reply": "2024-12-11T00:13:25.490233Z",
     "shell.execute_reply.started": "2024-12-11T00:13:25.471993Z"
    },
    "id": "87bf04ff",
    "tags": []
   },
   "outputs": [
    {
     "name": "stdout",
     "output_type": "stream",
     "text": [
      "MultiHeadAttention error:  5.885471222676873e-07\n",
      "MultiHeadAttention error:  1.3119098269517198e-06\n",
      "The error is less than 1e-5. Done!\n"
     ]
    }
   ],
   "source": [
    "reset_seed(0)\n",
    "N = 2\n",
    "num_heads = 2\n",
    "K = 4\n",
    "M = inp_emb_size = 4\n",
    "out_emb_size = 8\n",
    "atten_multihead = MultiHeadAttention(num_heads, inp_emb_size, out_emb_size)\n",
    "\n",
    "for k, v in atten_multihead.named_parameters():\n",
    "#     print(f'key of parameter:{k}, shape of its value:{v.shape}') \n",
    "    v.data.copy_(torch.linspace(-1.4, 1.3, steps=v.numel()).reshape(*v.shape))\n",
    "\n",
    "query = torch.linspace(-0.4, 0.6, steps=N * K * M, requires_grad=True).reshape(\n",
    "    N, K, M\n",
    ")  \n",
    "key = torch.linspace(-0.8, 0.5, steps=N * K * M, requires_grad=True).reshape(\n",
    "    N, K, M\n",
    ")  \n",
    "value = torch.linspace(-0.3, 0.8, steps=N * K * M, requires_grad=True).reshape(\n",
    "    N, K, M\n",
    ")  \n",
    "\n",
    "query.retain_grad()\n",
    "key.retain_grad()\n",
    "value.retain_grad()\n",
    "\n",
    "y_expected = torch.tensor(\n",
    "    [\n",
    "        [\n",
    "            [-0.23104, 0.50132, 1.23367, 1.96603],\n",
    "            [0.68324, 1.17869, 1.67413, 2.16958],\n",
    "            [1.40236, 1.71147, 2.02058, 2.32969],\n",
    "            [1.77330, 1.98629, 2.19928, 2.41227],\n",
    "        ],\n",
    "        [\n",
    "            [6.74946, 5.67302, 4.59659, 3.52015],\n",
    "            [6.82813, 5.73131, 4.63449, 3.53767],\n",
    "            [6.86686, 5.76001, 4.65315, 3.54630],\n",
    "            [6.88665, 5.77466, 4.66268, 3.55070],\n",
    "        ],\n",
    "    ]\n",
    ")\n",
    "dy_expected = torch.tensor(\n",
    "    [[[ 0.56268,  0.55889,  0.55510,  0.55131],\n",
    "         [ 0.43286,  0.42994,  0.42702,  0.42411],\n",
    "         [ 2.29865,  2.28316,  2.26767,  2.25218],\n",
    "         [ 0.49172,  0.48841,  0.48509,  0.48178]],\n",
    "\n",
    "        [[ 0.25083,  0.24914,  0.24745,  0.24576],\n",
    "         [ 0.14949,  0.14849,  0.14748,  0.14647],\n",
    "         [-0.03105, -0.03084, -0.03063, -0.03043],\n",
    "         [-0.02082, -0.02068, -0.02054, -0.02040]]]\n",
    ")\n",
    "\n",
    "y = atten_multihead(query, key, value)\n",
    "dy = torch.randn(*y.shape)  \n",
    "\n",
    "y.backward(dy)\n",
    "query_grad = query.grad\n",
    "print(\"MultiHeadAttention error: \", rel_error(y_expected, y)) # error < 1e-5\n",
    "print(\"MultiHeadAttention error: \", rel_error(dy_expected, query_grad)) # error < 1e-5\n",
    "if rel_error(y_expected, y)> 1e-5 and rel_error(dy_expected, query_grad) > 1e-5:\n",
    "    print('There are some problems with your code, please check!')\n",
    "else:\n",
    "    print('The error is less than 1e-5. Done!')"
   ]
  },
  {
   "cell_type": "markdown",
   "metadata": {
    "id": "9be6374e-a968-4b56-a1e4-31d745330b62"
   },
   "source": [
    "## LayerNormalization"
   ]
  },
  {
   "cell_type": "markdown",
   "metadata": {
    "id": "524ff12e"
   },
   "source": [
    "我们在处理 CNN 时实现了 BatchNorm。BatchNorm 的一个问题是它依赖于完整的批次，当批次大小较小时可能会导致结果不佳。Ba 等人提出了 `LayerNormalization`，它考虑了这些问题，在序列到序列任务中已成为标准。在本节中，我们将实现 `LayerNormalization`。`LayerNormalization` 的另一个好处是，它依赖于序列的各个时间步骤或每个元素，因此可以并行化，并且测试时间的运行方式类似，因此在实现上更好。同样，您只需实现前向传播，而反向传播将由 Pytorch 自动求导来处理。在 `transformers.py` 中实现 `LayerNormalization` 类。可参考[LayerNorm](https://arxiv.org/abs/1607.06450)原理。\n",
    "\n",
    "\n",
    "可参考：\n",
    "1. [torch.mean](https://pytorch.org/docs/stable/generated/torch.mean.html#torch-mean)\n",
    "2. [torch.sqrt](https://pytorch.org/docs/stable/generated/torch.sqrt.html#torch-sqrt)"
   ]
  },
  {
   "cell_type": "markdown",
   "metadata": {},
   "source": [
    "#### 代码填空4: 层归一化（10分）"
   ]
  },
  {
   "cell_type": "code",
   "execution_count": 18,
   "metadata": {
    "execution": {
     "iopub.execute_input": "2024-12-11T00:13:39.955917Z",
     "iopub.status.busy": "2024-12-11T00:13:39.955628Z",
     "iopub.status.idle": "2024-12-11T00:13:39.961556Z",
     "shell.execute_reply": "2024-12-11T00:13:39.961021Z",
     "shell.execute_reply.started": "2024-12-11T00:13:39.955898Z"
    },
    "id": "cdbc1bf9",
    "tags": []
   },
   "outputs": [],
   "source": [
    "class LayerNormalization(nn.Module):\n",
    "    def __init__(self, emb_dim: int, epsilon: float = 1e-10):\n",
    "        super().__init__()\n",
    "        \"\"\"\n",
    "        该类实现了 Transformers 中线性层的层归一化。与 BatchNorm 不同，它估计每个批次中的每个元素的归一化统计量，因此不依赖于完整的批次。\n",
    "        输入形状类似 (N, K, M)，其中 N 是批次大小，K 是序列长度，M 是序列长度的嵌入。我们使用形状为 (N, K) 的均值和形状为 (N, K) 的标准差来归一化每个序列。\n",
    "\n",
    "        参数:\n",
    "            emb_dim: 表示嵌入维度的整数\n",
    "            epsilon: 浮点数值\n",
    "\n",
    "        \"\"\"\n",
    "        self.epsilon = epsilon\n",
    "        self.gamma = nn.Parameter(torch.ones(emb_dim))\n",
    "        self.beta = nn.Parameter(torch.zeros(emb_dim))\n",
    "\n",
    "    def forward(self, x: Tensor):\n",
    "        \"\"\"\n",
    "        层归一化层的前向传播的实现。\n",
    "\n",
    "        参数:\n",
    "            x: 形状为 (N, K, M) 或 (N, K) 的张量，其中 N 是批次大小，K 是序列长度，M 是嵌入维度\n",
    "\n",
    "        返回:\n",
    "            y: 在应用层归一化后的形状为 (N, K, M) 或 (N, K) 的张量\n",
    "\n",
    "        \"\"\"\n",
    "        ##########################################################################\n",
    "        # TODO: 实现层归一化层的前向传播。                                      #\n",
    "        # 计算输入的均值和标准差，并使用它们对输入进行归一化。                       #\n",
    "        # 进一步，使用 self.gamma 和 self.beta 来缩放和偏移这个归一化的输入。         #\n",
    "        # 不要使用 torch.std 来计算标准差。                                      #\n",
    "        ##########################################################################\n",
    "        mean = x.mean(dim=-1, keepdim=True)# TODO:计算输入的均值，在最后1个维度上计算的， 可参考torch.mean，注意keepdim的用法\n",
    "        var = ((x - mean) ** 2).mean(dim=-1, keepdim=True)# TODO：计算方差，在最后一个维度上计算,注意keepdim的用法\n",
    "        std = torch.sqrt(var + self.epsilon)# TODO: 计算标准差\n",
    "        y = (x - mean) / std # 进行归一化\n",
    "        return self.gamma * y + self.beta # 使用self.gamma和self.beta来缩放和偏移归一化的输入"
   ]
  },
  {
   "cell_type": "markdown",
   "metadata": {},
   "source": [
    "#### 测试代码4: 层归一化"
   ]
  },
  {
   "cell_type": "code",
   "execution_count": 19,
   "metadata": {
    "execution": {
     "iopub.execute_input": "2024-12-11T00:13:44.900395Z",
     "iopub.status.busy": "2024-12-11T00:13:44.899918Z",
     "iopub.status.idle": "2024-12-11T00:13:44.910676Z",
     "shell.execute_reply": "2024-12-11T00:13:44.910259Z",
     "shell.execute_reply.started": "2024-12-11T00:13:44.900376Z"
    },
    "id": "cdf95ed8",
    "tags": []
   },
   "outputs": [
    {
     "name": "stdout",
     "output_type": "stream",
     "text": [
      "LayerNormalization error:  1.3772273765080196e-06\n",
      "LayerNormalization grad error:  2.2087854796632033e-07\n",
      "The error is less than 1e-5. Done!\n"
     ]
    }
   ],
   "source": [
    "reset_seed(0)\n",
    "N = 2\n",
    "K = 4\n",
    "norm = LayerNormalization(K)\n",
    "inp = torch.linspace(-0.4, 0.6, steps=N * K, requires_grad=True).reshape(N, K)\n",
    "\n",
    "inp.retain_grad()\n",
    "y = norm(inp)\n",
    "\n",
    "y_expected = torch.tensor(\n",
    "    [[-1.34164, -0.44721, 0.44721, 1.34164], [-1.34164, -0.44721, 0.44721, 1.34164]]\n",
    ")\n",
    "\n",
    "dy_expected = torch.tensor(\n",
    "    [[  5.70524,  -2.77289, -11.56993,   8.63758],\n",
    "        [  2.26242,  -4.44330,   2.09933,   0.08154]]\n",
    ")\n",
    "\n",
    "dy = torch.randn(*y.shape)\n",
    "y.backward(dy)\n",
    "inp_grad = inp.grad\n",
    "\n",
    "print(\"LayerNormalization error: \", rel_error(y_expected, y)) # error < 1e-5\n",
    "print(\"LayerNormalization grad error: \", rel_error(dy_expected, inp_grad)) # error < 1e-5\n",
    "if rel_error(y_expected, y)> 1e-5 and rel_error(dy_expected, inp_grad) > 1e-5:\n",
    "    print('There are some problems with your code, please check!')\n",
    "else:\n",
    "    print('The error is less than 1e-5. Done!')"
   ]
  },
  {
   "cell_type": "markdown",
   "metadata": {
    "id": "5e86954f-f7df-4d7f-ab6c-2fe1dcb1f5b0"
   },
   "source": [
    "## FeedForward Block"
   ]
  },
  {
   "cell_type": "markdown",
   "metadata": {
    "id": "5d49a145"
   },
   "source": [
    "接下来，我们将实现 `Feedforward` 块。这些在 Transformer 的编码器和解码器网络中都会使用，它们由堆叠的 MLP 和 ReLU 层组成。在总体架构中，`MultiHeadAttention` 的输出被输入到 `FeedForward` 块中。在 `transformers.py` 中实现 `FeedForwardBlock`，并执行以下单元格以检查你的实现。可参考：[nn.ReLU](https://pytorch.org/docs/stable/generated/torch.nn.ReLU.html)\n",
    "\n",
    "\n"
   ]
  },
  {
   "cell_type": "code",
   "execution_count": 20,
   "metadata": {
    "execution": {
     "iopub.execute_input": "2024-12-11T00:13:51.271019Z",
     "iopub.status.busy": "2024-12-11T00:13:51.270467Z",
     "iopub.status.idle": "2024-12-11T00:13:51.276762Z",
     "shell.execute_reply": "2024-12-11T00:13:51.276290Z",
     "shell.execute_reply.started": "2024-12-11T00:13:51.271001Z"
    },
    "tags": []
   },
   "outputs": [],
   "source": [
    "class FeedForwardBlock(nn.Module):\n",
    "    def __init__(self, inp_dim: int, hidden_dim_feedforward: int):\n",
    "        super().__init__()\n",
    "        \"\"\"\n",
    "        Transformers 中 FeedForward 块的实现。我们通过两个堆叠的 MLP 和一个 ReLU 层传递输入。\n",
    "        前向传播具有以下架构:\n",
    "        \n",
    "        线性层 - ReLU - 线性层\n",
    "        \n",
    "        输入的形状将是 (N, K, M)，其中 N 是批量大小，K 是序列长度，M 是嵌入维度。\n",
    "        \n",
    "        参数:\n",
    "            inp_dim: 输入张量的嵌入维度的整数表示\n",
    "                     \n",
    "            hidden_dim_feedforward: feedforward 块的隐藏维度\n",
    "        \"\"\"\n",
    "        ##########################################################################\n",
    "        # 在这里初始化两个 MLP，第一个使用 inp_dim 作为输入维度，hidden_dim_feedforward 作为输出，\n",
    "        # 第二个使用 hidden_dim_feedforward 作为输入。使用 inp_dim 作为输出维度         \n",
    "        ##########################################################################\n",
    "        \n",
    "        self.linear1 = nn.Linear(inp_dim, hidden_dim_feedforward)\n",
    "        self.linear2 = nn.Linear(hidden_dim_feedforward, inp_dim)\n",
    "        self.relu = nn.ReLU()\n",
    "\n",
    "        nn.init.uniform_(self.linear1.weight, -torch.sqrt(torch.tensor(6. / (inp_dim + hidden_dim_feedforward))), torch.sqrt(torch.tensor(6. / (inp_dim + hidden_dim_feedforward))))\n",
    "        nn.init.uniform_(self.linear2.weight, -torch.sqrt(torch.tensor(6. / (hidden_dim_feedforward + inp_dim))), torch.sqrt(torch.tensor(6. / (hidden_dim_feedforward + inp_dim))))\n",
    "\n",
    "    def forward(self, x):\n",
    "        \"\"\"\n",
    "        FeedForward 块的前向传播的实现。\n",
    "\n",
    "        参数:\n",
    "            x: 形状为 (N, K, M) 的张量，是 MultiHeadAttention 的输出\n",
    "        返回:\n",
    "            y: 形状为 (N, K, M) 的张量\n",
    "            \n",
    "        两个 MLP 层执行前向传播。在第一个 MLP 后使用 ReLU 层，\n",
    "        在第二个 MLP 后不使用激活函数。\n",
    "        结构： linear1 -> relu -> linear2\n",
    "        \"\"\"\n",
    "        y = self.linear1(x)\n",
    "        y = self.relu(y)\n",
    "        y = self.linear2(y)\n",
    "\n",
    "        return y\n"
   ]
  },
  {
   "cell_type": "markdown",
   "metadata": {
    "id": "09489f50"
   },
   "source": [
    "## Encoder 模块\n",
    "现在，如果你回顾一下原始论文《Attention is all you Need》，那么我们几乎完成了 Transformer 的构建模块。剩下的是：\n",
    "\n",
    "- 将构建模块封装成编码器块\n",
    "- 将构建模块封装成解码器块\n",
    "- 处理输入数据的预处理和位置编码。\n",
    "\n",
    "\n",
    "我们首先来实现编码器块和解码器块。位置编码是一个非可学习的嵌入，我们可以将其视为 DataLoader 中的预处理步骤。"
   ]
  },
  {
   "cell_type": "markdown",
   "metadata": {
    "id": "c1364689-db62-44f4-85ca-ed005a357f54"
   },
   "source": [
    "编码器块的输入是三个张量。我们假设我们有这三个张量，查询（query）、键（key）和值（value）。运行下面的单元格来检查你的 EncoderBlock 实现。你应该期望错误在 1e-5 以下。"
   ]
  },
  {
   "cell_type": "markdown",
   "metadata": {},
   "source": [
    "#### 代码填空5: Encoder模块（10分）"
   ]
  },
  {
   "cell_type": "code",
   "execution_count": 21,
   "metadata": {
    "execution": {
     "iopub.execute_input": "2024-12-11T00:13:57.187853Z",
     "iopub.status.busy": "2024-12-11T00:13:57.187499Z",
     "iopub.status.idle": "2024-12-11T00:13:57.193880Z",
     "shell.execute_reply": "2024-12-11T00:13:57.193384Z",
     "shell.execute_reply.started": "2024-12-11T00:13:57.187834Z"
    },
    "id": "b9fa5fea",
    "tags": []
   },
   "outputs": [],
   "source": [
    "class EncoderBlock(nn.Module):\n",
    "    def __init__(\n",
    "        self, num_heads: int, emb_dim: int, feedforward_dim: int, dropout: float\n",
    "    ):\n",
    "        super().__init__()\n",
    "        \"\"\"\n",
    "        这个类实现了 Transformer 模型的编码器块。原始论文中使用了 6 个这样的块串行地训练了最终模型。\n",
    "        在这里，我们首先使用已经实现的构建块初始化所需的层，然后最终编写前向传播过程，其中包括残差连接和 dropout。\n",
    "\n",
    "        如论文中的图1所示，注意力就是你所需要的，\n",
    "        编码器由四个组件组成:\n",
    "\n",
    "        1. MultiHead Attention\n",
    "        2. FeedForward 层\n",
    "        3. 多头注意力和前馈层之后的残差连接\n",
    "        4. LayerNorm\n",
    "\n",
    "        架构如下:\n",
    "\n",
    "       输入 - 多头注意力 - 输出1 - 层规范化(输出1 + 输入) - dropout - 输出2 \\ \n",
    "        - 前馈 - 输出3 - 层规范化(输出3 + 输出2) - dropout - 输出\n",
    "\n",
    "        这里，输入是多头注意力的输入，形状为 (N, K, M)，输出1、输出2 和输出3 是相应层的输出，\n",
    "        我们将这些输出添加到它们各自的输入中以实现残差连接。\n",
    "\n",
    "        参数:\n",
    "            num_heads: int 值，指定编码器中 MultiHeadAttention 块的头数\n",
    "            emb_dim: int 值，指定输入序列的嵌入维度\n",
    "            feedforward_dim: int 值，指定 Transformer 的 FeedForward 层中的隐藏单元数\n",
    "            dropout: float 值，指定 dropout 值\n",
    "        \"\"\"\n",
    "\n",
    "        if emb_dim % num_heads != 0:\n",
    "            raise ValueError(\n",
    "                f\"\"\"嵌入维度 emb_dim = {emb_dim} 不能被\n",
    "                             num_heads = {num_heads} 整除。请选择一个\n",
    "                             合适的值。\"\"\"\n",
    "            )\n",
    "\n",
    "        ##########################################################################\n",
    "        # 初始化以下层:                                                    #\n",
    "        # 1. 一个 MultiHead Attention 块，使用 num_heads 作为头数和             #\n",
    "        #    emb_dim 作为输入维度。您还应该能够计算 MultiheadHead 注意力的输出  #\n",
    "        #    维度，给定 num_heads 和 emb_dim。                                    #\n",
    "        #    提示: 使用的逻辑是在 MultiHead Attention 块内连接每个               #\n",
    "        #    SingleHeadAttention 的输出，并选择输出维度，使得连接后的张量和    #\n",
    "        #    输入张量具有相同的嵌入维度。                                       #\n",
    "        #                                                                        #\n",
    "        # 2. 两个输入维度等于 emb_dim 的 LayerNorm 层                          #\n",
    "        # 3. 一个以 emb_dim 为输入，feedforward_dim 为隐藏单元的 FeedForward 块  #\n",
    "        # 4. 一个具有给定 dropout 参数的 Dropout 层                             #\n",
    "        ##########################################################################\n",
    "        self.multihead_attention = MultiHeadAttention(num_heads, emb_dim, int(emb_dim // num_heads))\n",
    "        self.layer_norm1 = LayerNormalization(emb_dim)\n",
    "        self.dropout1 = nn.Dropout(dropout)\n",
    "\n",
    "        self.feedforward = FeedForwardBlock(emb_dim, feedforward_dim)\n",
    "        self.layer_norm2 = LayerNormalization(emb_dim)\n",
    "        self.dropout2 = nn.Dropout(dropout)\n",
    "\n",
    "    def forward(self, x):\n",
    "\n",
    "        \"\"\"\n",
    "        Transformer 模型的 EncoderBlock 的前向传播的实现。\n",
    "        参数:\n",
    "            x: 形状为 (N, K, M) 的张量，作为输入序列\n",
    "        返回:\n",
    "            y: 形状为 (N, K, M) 的张量，作为前向传播的输出\n",
    "         \n",
    "       架构如下:\n",
    "\n",
    "       输入 - 多头注意力 - 输出1 - 层规范化(输出1 + 输入) - dropout - 输出2 \\ \n",
    "        - 前馈 - 输出3 - 层规范化(输出3 + 输出2) - dropout - 输出\n",
    "\n",
    "        \"\"\"\n",
    "        y = None\n",
    "        ##########################################################################\n",
    "        # TODO: 使用在 init 函数中初始化的层完成前向传播。由于 Multihead Attention #\n",
    "        # 需要3个输入，因此将同一个输入x用三次作为输入。\n",
    "        ##########################################################################\n",
    "        out1 = self.layer_norm1(self.multihead_attention(x, x, x) + x)# TODO\n",
    "        out2 = self.dropout1(out1)# TODO\n",
    "        out3 = self.layer_norm2(self.feedforward(out2) + out2)# TODO\n",
    "        y = self.dropout2(out3)# TODO\n",
    "        return y\n"
   ]
  },
  {
   "cell_type": "markdown",
   "metadata": {},
   "source": [
    "#### 测试代码5：Encoder"
   ]
  },
  {
   "cell_type": "code",
   "execution_count": 22,
   "metadata": {
    "execution": {
     "iopub.execute_input": "2024-12-11T00:14:07.519836Z",
     "iopub.status.busy": "2024-12-11T00:14:07.519518Z",
     "iopub.status.idle": "2024-12-11T00:14:07.535366Z",
     "shell.execute_reply": "2024-12-11T00:14:07.534811Z",
     "shell.execute_reply.started": "2024-12-11T00:14:07.519819Z"
    },
    "id": "76e8ccb0",
    "tags": []
   },
   "outputs": [
    {
     "name": "stdout",
     "output_type": "stream",
     "text": [
      "EncoderBlock error 1:  5.951869338703975e-07\n",
      "EncoderBlock error 2:  6.344433064213184e-07\n"
     ]
    }
   ],
   "source": [
    "reset_seed(0)\n",
    "N = 2\n",
    "num_heads = 2\n",
    "emb_dim = K = 4\n",
    "feedforward_dim = 8\n",
    "M = inp_emb_size = 4\n",
    "out_emb_size = 8\n",
    "dropout = 0.2\n",
    "\n",
    "enc_seq_inp = torch.linspace(-0.4, 0.6, steps=N * K * M, requires_grad=True).reshape(\n",
    "    N, K, M\n",
    ")\n",
    "\n",
    "enc_block = EncoderBlock(num_heads, emb_dim, feedforward_dim, dropout)\n",
    "\n",
    "\n",
    "for k, v in enc_block.named_parameters():\n",
    "#     print(k, v.shape) \n",
    "    v.data.copy_(torch.linspace(-1.4, 1.3, steps=v.numel()).reshape(*v.shape))\n",
    "\n",
    "encoder_out1_expected = torch.tensor(\n",
    "    [[[ 0.00000, -0.31357,  0.69126,  0.00000],\n",
    "         [ 0.42630, -0.25859,  0.72412,  3.87013],\n",
    "         [ 0.00000, -0.31357,  0.69126,  3.89884],\n",
    "         [ 0.47986, -0.30568,  0.69082,  3.90563]],\n",
    "\n",
    "        [[ 0.00000, -0.31641,  0.69000,  3.89921],\n",
    "         [ 0.47986, -0.30568,  0.69082,  3.90563],\n",
    "         [ 0.47986, -0.30568,  0.69082,  3.90563],\n",
    "         [ 0.51781, -0.30853,  0.71598,  3.85171]]]\n",
    ")\n",
    "encoder_out1 = enc_block(enc_seq_inp)\n",
    "print(\"EncoderBlock error 1: \", rel_error(encoder_out1, encoder_out1_expected))\n",
    "\n",
    "\n",
    "\n",
    "N = 2\n",
    "num_heads = 1\n",
    "emb_dim = K = 4\n",
    "feedforward_dim = 8\n",
    "M = inp_emb_size = 4\n",
    "out_emb_size = 8\n",
    "dropout = 0.2\n",
    "\n",
    "enc_seq_inp = torch.linspace(-0.4, 0.6, steps=N * K * M, requires_grad=True).reshape(\n",
    "    N, K, M\n",
    ")  \n",
    "\n",
    "enc_block = EncoderBlock(num_heads, emb_dim, feedforward_dim, dropout)\n",
    "\n",
    "for k, v in enc_block.named_parameters():\n",
    "    # print(k, v.shape) \n",
    "    v.data.copy_(torch.linspace(-1.4, 1.3, steps=v.numel()).reshape(*v.shape))\n",
    "\n",
    "encoder_out2_expected = torch.tensor(\n",
    "    [[[ 0.42630, -0.00000,  0.72412,  3.87013],\n",
    "         [ 0.49614, -0.31357,  0.00000,  3.89884],\n",
    "         [ 0.47986, -0.30568,  0.69082,  0.00000],\n",
    "         [ 0.51654, -0.32455,  0.69035,  3.89216]],\n",
    "\n",
    "        [[ 0.47986, -0.30568,  0.69082,  0.00000],\n",
    "         [ 0.49614, -0.31357,  0.69126,  3.89884],\n",
    "         [ 0.00000, -0.30354,  0.76272,  3.75311],\n",
    "         [ 0.49614, -0.31357,  0.69126,  3.89884]]]\n",
    ")\n",
    "encoder_out2 = enc_block(enc_seq_inp)\n",
    "print(\"EncoderBlock error 2: \", rel_error(encoder_out2, encoder_out2_expected))"
   ]
  },
  {
   "cell_type": "markdown",
   "metadata": {
    "id": "4b2616ef-5934-4a50-8f51-642ef635e2cb"
   },
   "source": [
    "## Decoder Block"
   ]
  },
  {
   "cell_type": "markdown",
   "metadata": {
    "id": "19e2d5d7-6918-4ea8-a369-0d53304ff1a7"
   },
   "source": [
    "现在，我们将看一下解码器的实现。对于更复杂的任务，如序列到序列的任务，我们需要一个解码器网络，它可以将编码器的输出转换为目标序列。这种架构在诸如语言翻译之类的任务中非常重要，其中我们有一个序列作为输入和一个序列作为输出。这个解码器从编码器获取输入和先前生成的值来生成下一个值。在训练过程中，我们在输入上使用掩码，以便解码器网络不能预先查看未来，在推理过程中，我们顺序处理数据。\n",
    "\n",
    "在转到实现解码器块之前，我们应该注意\"Masked MultiHead Attention\"，实际上防止了解码器预测未来。让我们通过一个例子来理解这个。我们有一个表达式 `BOS POSITIVE 01 add POSITIVE 00 EOS`，即 `1+0`，它的输出是 `BOS POSITIVE 01 EOS`，即 `+1`。让我们关注输出序列。这是一个长度为5的序列（经过我们的预处理代码），将会转换成维度为$5\\times128$的 *key*、*query* 和 *value* 矩阵，其中128是Transformer的嵌入维度。现在，在训练过程中，我们将这些向量输入到 `self_attention_no_loop_batch` 中而不使用掩码。它将计算 *query* 和 *key* 之间的点积，生成一个 $5\\times5$ 的矩阵，其中第一行（形状为 $1\\times5$）告诉我们单词 `EOS` 与 `EOS`、`POSITIVE`、`0`、`1` 和 `EOS` 之间的相关程度。这意味着它将使用所有这些标记的权重来学习最终要预测的序列。当我们训练模型时，这是可以接受的，但当我们进行推理时会发生什么呢？我们从一个全新的表达式开始，将这个表达式输入编码器，但这次我们只有解码器的第一个起始标记 `EOS`，我们不知道序列中的其他标记。因此，解决这个问题的方法是在函数 `self_attention_no_loop_batch` 中为解码器部分掩码权重。这种掩码应该防止解码器访问未来或下一个元素。"
   ]
  },
  {
   "cell_type": "code",
   "execution_count": 24,
   "metadata": {
    "execution": {
     "iopub.execute_input": "2024-12-11T00:15:02.171692Z",
     "iopub.status.busy": "2024-12-11T00:15:02.171373Z",
     "iopub.status.idle": "2024-12-11T00:15:02.175932Z",
     "shell.execute_reply": "2024-12-11T00:15:02.175511Z",
     "shell.execute_reply.started": "2024-12-11T00:15:02.171674Z"
    },
    "tags": []
   },
   "outputs": [],
   "source": [
    "def get_subsequent_mask(seq):\n",
    "    \"\"\"\n",
    "    解码器自注意力掩码的实现。在训练模型时，这将用于屏蔽目标序列。这里的输入形状是 (N, K)，其中 N 是批量大小，K 是序列长度。\n",
    "\n",
    "    参数:\n",
    "        seq: 形状为 (N, K) 的张量，其中 N 是批量大小，K 是序列长度\n",
    "    返回:\n",
    "        mask: 形状为 (N, K, K) 的张量，其中 N 是批量大小，K 是序列长度\n",
    "\n",
    "    给定长度为 K 的序列，我们希望在函数 `self_attention_no_loop_batch` 中掩码权重，\n",
    "    以防止解码器预测未来。\n",
    "    \"\"\"\n",
    "    ###############################################################################\n",
    "    # 这个函数构造了 Transformer 解码器部分的掩码。                         #\n",
    "    # 要实现这一点，对于批量（N）中的每个序列（长度为 K），返回一个布尔矩阵，       #\n",
    "    # 在应用掩码的地方为 True，不应用掩码的地方为 False。                         #                                                                           #\n",
    "    ###############################################################################\n",
    "    N, K = seq.shape\n",
    "    ones_matrix = torch.ones((N, K, K), device=seq.device, dtype=torch.bool)\n",
    "    mask = torch.triu(ones_matrix, diagonal=1)\n",
    "\n",
    "    return mask\n"
   ]
  },
  {
   "cell_type": "code",
   "execution_count": 26,
   "metadata": {
    "execution": {
     "iopub.execute_input": "2024-12-11T00:15:12.177344Z",
     "iopub.status.busy": "2024-12-11T00:15:12.177019Z",
     "iopub.status.idle": "2024-12-11T00:15:12.184517Z",
     "shell.execute_reply": "2024-12-11T00:15:12.183996Z",
     "shell.execute_reply.started": "2024-12-11T00:15:12.177326Z"
    },
    "tags": []
   },
   "outputs": [],
   "source": [
    "class DecoderBlock(nn.Module):\n",
    "    def __init__(\n",
    "        self, num_heads: int, emb_dim: int, feedforward_dim: int, dropout: float\n",
    "    ):\n",
    "        super().__init__()\n",
    "        if emb_dim % num_heads != 0:\n",
    "            raise ValueError(\n",
    "                f\"\"\"The value emb_dim = {emb_dim} is not divisible\n",
    "                             by num_heads = {num_heads}. Please select an\n",
    "                             appropriate value.\"\"\"\n",
    "            )\n",
    "\n",
    "        \"\"\"\n",
    "        该函数实现了Transformer模型的解码器块。\n",
    "    \n",
    "        args:\n",
    "            num_heads: 表示头数的整数值\n",
    "\n",
    "            emb_dim: 表示嵌入维度的整数值\n",
    "\n",
    "            feedforward_dim: 表示前馈模型中的隐藏层的整数值\n",
    "\n",
    "            dropout: 表示丢弃概率的浮点数值\n",
    "        \"\"\"\n",
    "        ##########################################################################\n",
    "        # 初始化以下层:                                                   #\n",
    "        # 1. 两个具有 num_heads 个头数和 emb_dim 作为嵌入维度的MultiheadAttention 层。#\n",
    "        #     与编码器一样，你应该能够确定两个MultiHeadAttention的输出维度。            #\n",
    "        # 2. 一个FeedForward块，它将emb_dim作为输入维度，feedforward_dim作为隐藏层的维度 #\n",
    "        # 3. 在每个块之后添加LayerNormalization层                                      #\n",
    "        # 4. 在每个块之后添加丢弃层                                                    #\n",
    "        ##########################################################################\n",
    "\n",
    "        self.attention_self = MultiHeadAttention(num_heads, emb_dim, int(emb_dim/num_heads))\n",
    "        self.attention_cross = MultiHeadAttention(num_heads, emb_dim, int(emb_dim/num_heads))\n",
    "\n",
    "        self.feed_forward = FeedForwardBlock(emb_dim, feedforward_dim)\n",
    "\n",
    "        self.norm1 = LayerNormalization(emb_dim)\n",
    "        self.norm2 = LayerNormalization(emb_dim)\n",
    "        self.norm3 = LayerNormalization(emb_dim)\n",
    "\n",
    "        self.dropout = nn.Dropout(dropout)\n",
    "\n",
    "    def forward(\n",
    "        self, dec_inp: Tensor, enc_inp: Tensor, mask: Tensor = None\n",
    "    ) -> Tensor:\n",
    "\n",
    "        \"\"\"\n",
    "        args:\n",
    "            dec_inp: 形状为 (N, K, M) 的张量\n",
    "            enc_inp: 形状为 (N, K, M) 的张量\n",
    "            mask: 形状为 (N, K, K) 的张量\n",
    "\n",
    "        此函数将处理解码器块的前向传递。它将输入 enc_inp 作为编码器输出，\n",
    "        以及一个张量 dec_inp 作为目标序列，训练时目标序列将向后移动一个位置，\n",
    "        推理时为一个初始标记 \"BOS\"。\n",
    "        \"\"\"\n",
    "        ##########################################################################\n",
    "        # 使用init函数中初始化的层，实现解码器块的前向传递。将 dec_inp 传递给  #\n",
    "        # self.attention_self 层。这一层负责解码器输入的自我交互。                # \n",
    "        # 架构如下:\n",
    "        \n",
    "        # 输入 - 带有mask的多头注意力 - 输出1 - 层归一化(输入 + 输出1) - \\\n",
    "        # dp层 - (输出2和编码器输出) - 多头注意力 - 输出3 - \\\n",
    "        # 层归一化(输出3 + 输出2) - dp层 - 输出4 - 前馈网络 - 输出5 - \\\n",
    "        # 层归一化(输出5 + 输出4) - dp层 - 输出\n",
    "        \n",
    "        # 这里，输出1、输出2、输出3、输出4、输出5是各层对应的输出，编码器输出是编码器的输出，\n",
    "        # 我们将这些输出添加到它们各自的输入中以实现残差连接。\n",
    "        \n",
    "        ##########################################################################\n",
    "        out1 = self.attention_self(dec_inp, dec_inp, dec_inp, mask) # (N, K2, M)\n",
    "        out2 = self.norm1(out1 + dec_inp) # (N, K2, M)\n",
    "        out2 = self.dropout(out2) # (N, K2, M)\n",
    "        out3 = self.attention_cross(out2, enc_inp, enc_inp) # query: out2, key&values: enc_inp\n",
    "                                                            # out3: (N, K2, M)\n",
    "        out4 = self.norm2(out3 + out2) # (N, K2, M)\n",
    "        out4 = self.dropout(out4) # (N, K2, M)\n",
    "        out5 = self.feed_forward(out4) # (N, K2, M)\n",
    "        out = self.norm3(out5 + out4) # (N, K2, M)\n",
    "        y = self.dropout(out) # (N, K2, M)\n",
    "        return y\n"
   ]
  },
  {
   "cell_type": "markdown",
   "metadata": {},
   "source": [
    "## 构建Transformer结构"
   ]
  },
  {
   "cell_type": "markdown",
   "metadata": {},
   "source": [
    "Transformer的结构由N个encoder和decoder结构组成，以下代码将使用nn.ModuleList将N个编码器和解码器串联起来。"
   ]
  },
  {
   "cell_type": "code",
   "execution_count": 27,
   "metadata": {
    "execution": {
     "iopub.execute_input": "2024-12-11T00:15:20.204652Z",
     "iopub.status.busy": "2024-12-11T00:15:20.204339Z",
     "iopub.status.idle": "2024-12-11T00:15:20.211259Z",
     "shell.execute_reply": "2024-12-11T00:15:20.210774Z",
     "shell.execute_reply.started": "2024-12-11T00:15:20.204634Z"
    },
    "tags": []
   },
   "outputs": [],
   "source": [
    "class Encoder(nn.Module):\n",
    "    def __init__(\n",
    "        self,\n",
    "        num_heads: int,\n",
    "        emb_dim: int,\n",
    "        feedforward_dim: int,\n",
    "        num_layers: int,\n",
    "        dropout: float,\n",
    "    ):\n",
    "        \"\"\"\n",
    "        该类封装了使用多个EncoderBlock层的最终编码器的实现。\n",
    "\n",
    "        args:\n",
    "            num_heads: 表示EncoderBlock中要使用的头数的整数值\n",
    "            emb_dim: 表示Transformer模型的嵌入维度的整数值\n",
    "            feedforward_dim: 表示前馈块的隐藏层维度的整数值\n",
    "\n",
    "        \"\"\"\n",
    "\n",
    "        super().__init__()\n",
    "        self.layers = nn.ModuleList(\n",
    "            [\n",
    "                EncoderBlock(num_heads, emb_dim, feedforward_dim, dropout)\n",
    "                for _ in range(num_layers)\n",
    "            ]\n",
    "        )\n",
    "\n",
    "    def forward(self, src_seq: Tensor):\n",
    "        for _layer in self.layers:\n",
    "            src_seq = _layer(src_seq)\n",
    "\n",
    "        return src_seq\n",
    "\n",
    "\n",
    "class Decoder(nn.Module):\n",
    "    def __init__(\n",
    "        self,\n",
    "        num_heads: int,\n",
    "        emb_dim: int,\n",
    "        feedforward_dim: int,\n",
    "        num_layers: int,\n",
    "        dropout: float,\n",
    "        vocab_len: int,\n",
    "    ):\n",
    "        super().__init__()\n",
    "        \"\"\"\n",
    "        解码器从编码器接收输入和目标序列，生成输出的最终序列。我们首先将输入通过堆叠的DecoderBlock，\n",
    "        然后将输出投影到vocab_len，这是获取实际序列所需的。\n",
    "\n",
    "        args:\n",
    "            num_heads: 表示Transformer中MultiheadAttention的头数的整数\n",
    "            emb_dim: 表示序列的嵌入维度的整数\n",
    "            feedforward_dim: 表示前馈块中隐藏层的维度的整数\n",
    "            num_layers: 表示解码器中DecoderBlock的数量的整数\n",
    "            dropout: 表示每个DecoderBlock中的丢弃率的浮点数\n",
    "            vocab_len: 词汇表的长度\n",
    "\n",
    "\n",
    "        \"\"\"\n",
    "\n",
    "        self.layers = nn.ModuleList(\n",
    "            [\n",
    "                DecoderBlock(num_heads, emb_dim, feedforward_dim, dropout)\n",
    "                for _ in range(num_layers)\n",
    "            ]\n",
    "        )\n",
    "        self.proj_to_vocab = nn.Linear(emb_dim, vocab_len)\n",
    "        a = (6 / (emb_dim + vocab_len)) ** 0.5\n",
    "        nn.init.uniform_(self.proj_to_vocab.weight, -a, a)\n",
    "\n",
    "    def forward(self, target_seq: Tensor, enc_out: Tensor, mask: Tensor):\n",
    "\n",
    "        out = target_seq.clone()\n",
    "        for _layer in self.layers:\n",
    "            out = _layer(out, enc_out, mask)\n",
    "        out = self.proj_to_vocab(out)\n",
    "        return out\n",
    "\n",
    "    \n"
   ]
  },
  {
   "cell_type": "code",
   "execution_count": 28,
   "metadata": {
    "execution": {
     "iopub.execute_input": "2024-12-11T00:15:23.873463Z",
     "iopub.status.busy": "2024-12-11T00:15:23.873135Z",
     "iopub.status.idle": "2024-12-11T00:15:23.879690Z",
     "shell.execute_reply": "2024-12-11T00:15:23.879219Z",
     "shell.execute_reply.started": "2024-12-11T00:15:23.873443Z"
    },
    "tags": []
   },
   "outputs": [],
   "source": [
    "class Transformer(nn.Module):\n",
    "    def __init__(\n",
    "        self,\n",
    "        num_heads: int,\n",
    "        emb_dim: int,\n",
    "        feedforward_dim: int,\n",
    "        dropout: float,\n",
    "        num_enc_layers: int,\n",
    "        num_dec_layers: int,\n",
    "        vocab_len: int,\n",
    "    ):\n",
    "        super().__init__()\n",
    "\n",
    "        \"\"\"\n",
    "        该类实现了带有编码器和解码器的Transformer模型。模型的输入是形状为(N, K)的张量，\n",
    "        输出是形状为(N*O, V)的张量。这里，N是批量大小，K是输入序列长度，O是输出序列长度，\n",
    "        V是词汇表大小。输入通过共享的nn.Embedding层传递，然后加上输入位置编码。\n",
    "        类似地，目标通过相同的nn.Embedding层传递，然后加上目标位置编码。唯一的区别是，\n",
    "        我们在目标中取倒数第二个值。总结的输入（请查看代码了解详情）然后通过编码器和解码器\n",
    "        块以获得最终输出。\n",
    "        args:\n",
    "            num_heads: 表示Encoder和Decoder中要使用的头数的整数\n",
    "            emb_dim: 表示Transformer的嵌入维度的整数\n",
    "            dim_feedforward: 表示Encoder和Decoder中隐藏层的数量的整数\n",
    "            dropout: 表示丢弃层的概率的浮点数\n",
    "            num_enc_layers: 表示编码器块的数量的整数\n",
    "            num_dec_layers: 表示解码器块的数量的整数\n",
    "\n",
    "        \"\"\"\n",
    "        self.emb_layer = None\n",
    "        ##########################################################################\n",
    "        # 初始化一个Embedding层，将vocab_len映射到emb_dim。这是我们模型的第一个输入，\n",
    "        # 并将此输入转换为整个模型中保持不变的emb_dim。请使用self.emb_layer作为此层的名称。 #\n",
    "        ##########################################################################\n",
    "        self.emb_layer = nn.Embedding(vocab_len, emb_dim)\n",
    "        self.encoder = Encoder(\n",
    "            num_heads, emb_dim, feedforward_dim, num_enc_layers, dropout\n",
    "        )\n",
    "        self.decoder = Decoder(\n",
    "            num_heads,\n",
    "            emb_dim,\n",
    "            feedforward_dim,\n",
    "            num_dec_layers,\n",
    "            dropout,\n",
    "            vocab_len,\n",
    "        )\n",
    "\n",
    "    def forward(\n",
    "        self, ques_b: Tensor, ques_pos: Tensor, ans_b: Tensor, ans_pos: Tensor\n",
    "    ) -> Tensor:\n",
    "\n",
    "        \"\"\"\n",
    "\n",
    "        实现Transformer的前向传递。\n",
    "\n",
    "        args:\n",
    "            ques_b: 形状为(N, K)的张量，包含算术表达式的输入序列\n",
    "            ques_pos: 形状为(N, K, M)的张量，包含输入序列的位置编码\n",
    "            ans_b: 形状为(N, K)的张量，包含算术表达式的目标序列\n",
    "            ans_pos: 形状为(N, K, M)的张量，包含目标序列的位置编码\n",
    "\n",
    "        返回:\n",
    "            dec_out: 形状为(N*O, M)的张量，其中O是目标序列的大小。\n",
    "        \"\"\"\n",
    "        q_emb = self.emb_layer(ques_b)\n",
    "        a_emb = self.emb_layer(ans_b)\n",
    "        q_emb_inp = q_emb + ques_pos\n",
    "        a_emb_inp = a_emb[:, :-1] + ans_pos[:, :-1]\n",
    "        dec_out = None\n",
    "        ##########################################################################\n",
    "        # 此部分包括编写完整Transformer的前向部分。首先，将q_emb_inp传递给编码器，\n",
    "        # 这将是解码器输入之一。除了编码器输出外，还应构建一个适当的掩码，使用get_subsequent_mask。\n",
    "        # 最后，将a_emb_inp、编码器输出和掩码传递给解码器。任务是屏蔽目标(a_emb_inp)的值。  #\n",
    "        # 掩码形状将取决于张量ans_b                                      #\n",
    "        ##########################################################################\n",
    "        enc_out = self.encoder(q_emb_inp)\n",
    "        mask = get_subsequent_mask(ans_b[:,:-1])\n",
    "        dec_out = self.decoder(a_emb_inp, enc_out, mask)\n",
    "        dec_out = dec_out.reshape(-1, dec_out.shape[2])\n",
    "\n",
    "        return dec_out\n"
   ]
  },
  {
   "cell_type": "markdown",
   "metadata": {
    "id": "20a41e64-4de5-4289-be47-3e7282e88f35"
   },
   "source": [
    "# 第三部分：数据加载器\n",
    "\n",
    "在这一部分中，我们将创建用于训练Transformer模型的最终数据加载器。这将包括两件事情：\n",
    "\n",
    "- 实现位置编码（Positional Encoding）\n",
    "- 使用我们在第一部分创建的`prepocess_input_sequence`函数创建一个数据加载器。"
   ]
  },
  {
   "cell_type": "markdown",
   "metadata": {
    "id": "1249f651-4de3-4dd7-aa85-7d8bfb3e1e4f"
   },
   "source": [
    "让我们开始实现输入的位置编码。位置编码使得Transformer在处理序列时能够感知位置信息。这些位置编码通常被添加到输入中，因此它们的形状应该与输入相同。由于位置编码不可学习，在训练过程中它们保持不变。因此，我们可以将其视为对输入进行的预处理步骤。我们的策略是实现位置编码函数，并在稍后创建玩具数据集的DataLoader时使用它。"
   ]
  },
  {
   "cell_type": "markdown",
   "metadata": {
    "id": "8c8ddbbc-1631-4781-849d-3fd27a3b0619"
   },
   "source": [
    "### Sinusoid positional encoding"
   ]
  },
  {
   "cell_type": "markdown",
   "metadata": {
    "id": "1e3db3a0"
   },
   "source": [
    "对于简单位置编码的一个主要缺点，那就是如果序列长度变大，两个连续位置编码之间的差异会变得越来越小，从而失去了位置感知的目的，因为连续位置之间的差异非常小。另一个问题是，对于每个位置，我们都沿着嵌入维度进行了复制，引入了冗余，这可能不会帮助网络学到任何新知识。可以使用不同的技巧来创建一个位置编码来解决这些问题。\n",
    "\n",
    "让我们看一下更成熟的位置编码版本，它使用正弦和余弦函数的组合，也称为正弦波。这也是原始Transformer论文中使用的位置编码。对于序列（长度为 K）中的每个元素，具有位置 $p$ 和嵌入（维度 M）位置 $i$，我们可以将位置编码定义为：\n",
    "\n",
    "$$PE_{(p, 2i)} = \\sin\\left(\\frac{p}{10000^a}\\right)$$\n",
    "$$PE_{(p, 2i+1)} = \\cos\\left(\\frac{p}{10000^a}\\right)$$\n",
    "\n",
    "$$\\text{其中 }a = \\left\\lfloor{\\frac{2i}{M}}\\right\\rfloor \\text{，而 M 是Transformer的嵌入维度}$$\n",
    "\n",
    "在这里，$p$ 对于序列中的位置保持不变，并且我们沿着嵌入维度交替分配正弦和余弦。\n"
   ]
  },
  {
   "cell_type": "code",
   "execution_count": 29,
   "metadata": {
    "execution": {
     "iopub.execute_input": "2024-12-11T00:15:40.633044Z",
     "iopub.status.busy": "2024-12-11T00:15:40.632731Z",
     "iopub.status.idle": "2024-12-11T00:15:40.638219Z",
     "shell.execute_reply": "2024-12-11T00:15:40.637676Z",
     "shell.execute_reply.started": "2024-12-11T00:15:40.633026Z"
    },
    "tags": []
   },
   "outputs": [],
   "source": [
    "def position_encoding_sinusoid(K: int, M: int) -> Tensor:\n",
    "\n",
    "    \"\"\"\n",
    "    正弦位置编码的实现。\n",
    "\n",
    "    参数:\n",
    "        K: 表示序列长度的整数\n",
    "        M: 表示序列的嵌入维度的整数\n",
    "\n",
    "    返回:\n",
    "        y: 形状为 (1, K, M) 的张量\n",
    "    \"\"\"\n",
    "    ##############################################################################\n",
    "    # 给定输入序列长度 K 和嵌入维度 M，构造形状为 (K, M) 的张量，其中沿着     #\n",
    "    # 维度的值遵循上面给出的方程。请注意在嵌入维度 M 上交替使用正弦和余弦。         #\n",
    "    ##############################################################################\n",
    "    y = torch.zeros(1, K, M)\n",
    "    temp = torch.arange(M)\n",
    "    temp = torch.div(temp, M, rounding_mode=\"floor\").reshape(1, -1) #(1, M)\n",
    "    p = torch.arange(K).unsqueeze(dim=-1)\n",
    "    \"\"\"\n",
    "    temp:我们得到的是从 0 到 1 之间的均匀间隔的值。\n",
    "    接下来，我们创建一个形状为 (K, 1) 的张量 num，其中包含从 0 到 K-1 的整数，并在最后一个维度上增加一个维度。\n",
    "    \"\"\"\n",
    "    y[0, :, 0::2] = torch.sin(p / torch.pow(10000, temp[0, 0::2]))\n",
    "    y[0, :, 1::2] = torch.cos(p / torch.pow(10000, temp[0, 1::2]))\n",
    "    return y\n"
   ]
  },
  {
   "cell_type": "markdown",
   "metadata": {},
   "source": [
    "### 加载数据"
   ]
  },
  {
   "cell_type": "markdown",
   "metadata": {},
   "source": [
    "由于Transformer在序列到序列任务上表现非常好，我们将在一个算术操作的玩具任务上实现它。我们将使用Transformer模型来执行两个整数的加法和减法，其中整数的绝对值最多为50。一个简单的例子是使用Transformer模型执行 `-5 + 2` 的计算，并得到正确的结果 `-3`。由于解决这个问题可以有多种方法，我们将看到如何将其作为序列到序列问题提出，并使用Transformer模型解决它。\n",
    "让我们先看一下数据："
   ]
  },
  {
   "cell_type": "code",
   "execution_count": 30,
   "metadata": {
    "ExecutionIndicator": {
     "show": true
    },
    "execution": {
     "iopub.execute_input": "2024-12-11T00:15:43.404325Z",
     "iopub.status.busy": "2024-12-11T00:15:43.404007Z",
     "iopub.status.idle": "2024-12-11T00:15:43.409712Z",
     "shell.execute_reply": "2024-12-11T00:15:43.409261Z",
     "shell.execute_reply.started": "2024-12-11T00:15:43.404308Z"
    },
    "tags": []
   },
   "outputs": [],
   "source": [
    "train_data_path = 'train_data.json'\n",
    "val_data_path = 'val_data.json'\n",
    "test_data_path = 'test_data.json'\n",
    "\n",
    "train_data = json.load(open(train_data_path))\n",
    "val_data = json.load(open(val_data_path))\n",
    "test_data = json.load(open(test_data_path))"
   ]
  },
  {
   "cell_type": "code",
   "execution_count": 31,
   "metadata": {
    "execution": {
     "iopub.execute_input": "2024-12-11T00:15:45.893897Z",
     "iopub.status.busy": "2024-12-11T00:15:45.893587Z",
     "iopub.status.idle": "2024-12-11T00:15:45.897472Z",
     "shell.execute_reply": "2024-12-11T00:15:45.896881Z",
     "shell.execute_reply.started": "2024-12-11T00:15:45.893879Z"
    },
    "tags": []
   },
   "outputs": [
    {
     "name": "stdout",
     "output_type": "stream",
     "text": [
      "Expression: BOS POSITIVE 17 add NEGATIVE 49 EOS Output: BOS NEGATIVE 32 EOS\n",
      "Expression: BOS POSITIVE 30 add POSITIVE 01 EOS Output: BOS POSITIVE 31 EOS\n",
      "Expression: BOS POSITIVE 21 subtract NEGATIVE 43 EOS Output: BOS POSITIVE 64 EOS\n",
      "Expression: BOS NEGATIVE 22 subtract NEGATIVE 44 EOS Output: BOS POSITIVE 22 EOS\n"
     ]
    }
   ],
   "source": [
    "num_examples = 4\n",
    "for q, a in zip(\n",
    "    train_data[\"inp_expression\"][:num_examples], \n",
    "    train_data[\"out_expression\"][:num_examples]\n",
    "    ):\n",
    "  print(\"Expression: \" + q + \" Output: \" + a)"
   ]
  },
  {
   "cell_type": "markdown",
   "metadata": {},
   "source": [
    "## 这些示例代表什么意思：\n",
    "\n",
    "让我们首先看一下这里的第一个和第三个示例，并理解它们代表了什么：\n",
    "\n",
    "- 表达式：`BOS NEGATIVE 30 subtract NEGATIVE 34 EOS` 输出：`BOS POSITIVE 04 EOS`：这里的表达式是 $(-30) - (-34)$。这里符号 `+` 有两个含义：一个是表示数字的符号，另一个是两个整数之间的加法操作。为了简化神经网络的问题，我们用不同的文本标记表示它们。$(-30) - (-34)$ 的输出是 $+4$。这里的 `BOS` 和 `EOS` 分别指示序列的开头和结尾。\n",
    "- 同样，第二个表达式，`BOS NEGATIVE 34 add NEGATIVE 15 EOS` 输出：`BOS NEGATIVE 49 EOS` 意味着我们正在进行计算 $(-34) + (-15)$。与上面类似，这里的符号 `-` 表示两个东西：第一个是整数的符号，第二个是两个整数之间的操作。同样，我们用不同的标记表示，以简化神经网络的问题。这里的输出是 -49。这里的 `BOS` 和 `EOS` 分别指示序列的开头和结尾。\n",
    "\n",
    "现在我们对数据有了一定的了解，让我们开始对数据进行预处理，因为神经网络无法理解字符串，我们需要将它们表示为数字。\n",
    "\n",
    "## 预处理数据\n",
    "我们需要将原始输入序列转换为可以用神经网络处理的格式。\n",
    "具体来说，我们需要将一个人类可读的字符串（例如 `BOS NEGATIVE 30 subtract NEGATIVE 34 EOS`）转换为一系列**标记**，其中每个标记将是一个整数。\n",
    "将输入字符串转换为一系列标记的过程称为**标记化**。\n",
    "\n",
    "在我们可以对任何特定序列进行标记化之前，我们首先需要构建一个**词汇表**；这是一个包含数据集中所有标记的详尽列表，并且从每个标记到一个唯一整数值的映射。\n",
    "在我们的例子中，我们的词汇表将包含16个元素：一个条目表示每个数字 `0` 到 `9`，两个标记用于表示数字的符号（`POSITIVE` 和 `NEGATIVE`），两个标记表示加法和减法运算（`add` 和 `subtract`），最后两个特殊标记表示序列的开头和结尾（`BOS`，`EOS`）。\n",
    "\n",
    "我们通常使用一对数据结构来表示词汇表。\n",
    "第一个是所有字符串标记的列表（下面的 `vocab`），使得 `vocab[i] = s` 意味着字符串 `s` 被分配了整数值 `i`。这使我们能够查找与任何数值索引 `i` 关联的字符串。\n",
    "我们还需要一个数据结构，使我们能够反向映射：给定一个字符串 `s`，找到它分配的索引 `i`。通常，这表示为一个哈希映射（Python中的 `dict` 对象），其键是字符串，其值是分配给这些字符串的索引。\n",
    "您将实现函数 `generate_token_dict`，该函数输入列表 `vocab` 并返回给定此映射的字典 `convert_str_to_token`。\n",
    "\n",
    "一旦您构建了词汇表，然后您可以实现函数 `preprocess_input_sequence`，它使用词汇表数据结构将输入字符串转换为整数标记列表。"
   ]
  },
  {
   "cell_type": "code",
   "execution_count": 32,
   "metadata": {
    "execution": {
     "iopub.execute_input": "2024-12-11T00:16:04.477862Z",
     "iopub.status.busy": "2024-12-11T00:16:04.477560Z",
     "iopub.status.idle": "2024-12-11T00:16:04.481473Z",
     "shell.execute_reply": "2024-12-11T00:16:04.481061Z",
     "shell.execute_reply.started": "2024-12-11T00:16:04.477844Z"
    },
    "tags": []
   },
   "outputs": [],
   "source": [
    "SPECIAL_TOKENS = [\"POSITIVE\", \"NEGATIVE\", \"add\", \"subtract\", \"BOS\", \"EOS\"]\n",
    "vocab = [\"0\", \"1\", \"2\", \"3\", \"4\", \"5\", \"6\", \"7\", \"8\", \"9\"] + SPECIAL_TOKENS"
   ]
  },
  {
   "cell_type": "code",
   "execution_count": 33,
   "metadata": {
    "execution": {
     "iopub.execute_input": "2024-12-11T00:16:06.053646Z",
     "iopub.status.busy": "2024-12-11T00:16:06.053358Z",
     "iopub.status.idle": "2024-12-11T00:16:06.057303Z",
     "shell.execute_reply": "2024-12-11T00:16:06.056825Z",
     "shell.execute_reply.started": "2024-12-11T00:16:06.053630Z"
    },
    "tags": []
   },
   "outputs": [],
   "source": [
    "def generate_token_dict(vocab):\n",
    "    \"\"\"\n",
    "    该函数从词汇表中的元素创建一个哈希映射，将其映射到唯一的正整数值。\n",
    "\n",
    "    参数:\n",
    "        - vocab: 这是一个包含词汇表中所有项目的字符串的一维列表\n",
    "\n",
    "    返回值:\n",
    "        - token_dict: 一个Python字典，键是词汇表中的字符串项，值是唯一的整数值\n",
    "    \"\"\"\n",
    "\n",
    "    ##############################################################################                             #\n",
    "    # 使用此函数为词汇表列表中的每个元素分配一个唯一的整数元素。\n",
    "    #  将词汇表中的第一个元素映射为0，将词汇表中的最后一个元素映射为len(vocab)，\n",
    "    #  并将中间的元素映射为连续的数字。\n",
    "    ##############################################################################\n",
    "    token_dict = {}\n",
    "    for idx, item in enumerate(vocab):\n",
    "      token_dict[item] = idx\n",
    "    return token_dict\n"
   ]
  },
  {
   "cell_type": "code",
   "execution_count": 34,
   "metadata": {
    "execution": {
     "iopub.execute_input": "2024-12-11T00:16:08.829725Z",
     "iopub.status.busy": "2024-12-11T00:16:08.829149Z",
     "iopub.status.idle": "2024-12-11T00:16:08.833912Z",
     "shell.execute_reply": "2024-12-11T00:16:08.833400Z",
     "shell.execute_reply.started": "2024-12-11T00:16:08.829706Z"
    },
    "tags": []
   },
   "outputs": [],
   "source": [
    "def prepocess_input_sequence(\n",
    "    input_str: str, token_dict: dict, spc_tokens: list\n",
    ") -> list:\n",
    "    \"\"\"\n",
    "    该函数的目标是将输入字符串转换为一系列正整数，以便我们能够进一步使用神经网络处理该字符串。我们将使用上一个函数中生成的字典将字符串中的元素映射到唯一的值。\n",
    "    请注意，我们为输入序列中的每个整数分配一个值。例如，对于输入序列中存在的数字 \"33\"，您应该将其拆分为数字列表，['0', '3']，并将其分配给token_dict中相应的值。\n",
    "\n",
    "    参数:\n",
    "    - input_str: 输入数据中的单个字符串\n",
    "               例如: \"BOS POSITIVE 0333 add POSITIVE 0696 EOS\"\n",
    "    - token_dict: 令牌字典，其键为字符串中的元素，值为唯一的正整数。这是使用 generate_token_dict 函数生成的\n",
    "    - spc_tokens: 除了数字以外的特殊令牌。\n",
    "    返回值:\n",
    "    - out_tokens: 与输入字符串对应的整数列表\n",
    "\n",
    "    \"\"\"\n",
    "    out = []\n",
    "    ##############################################################################\n",
    "    # 对于输入序列中的每个数字，将其拆分为数字列表，并使用该数字列表从token_dict中分配适当的值。\n",
    "    # 对于输入字符串中存在的特殊令牌，为完整的令牌分配适当的值。\n",
    "    ##############################################################################\n",
    "    for item in input_str.split():\n",
    "      if item in spc_tokens:\n",
    "        out.append(token_dict[item])\n",
    "\n",
    "      else:\n",
    "        for digit in item:\n",
    "          out.append(token_dict[digit])\n",
    "    return out\n"
   ]
  },
  {
   "cell_type": "code",
   "execution_count": 35,
   "metadata": {
    "execution": {
     "iopub.execute_input": "2024-12-11T00:16:10.399314Z",
     "iopub.status.busy": "2024-12-11T00:16:10.398749Z",
     "iopub.status.idle": "2024-12-11T00:16:10.408604Z",
     "shell.execute_reply": "2024-12-11T00:16:10.408163Z",
     "shell.execute_reply.started": "2024-12-11T00:16:10.399293Z"
    },
    "tags": []
   },
   "outputs": [
    {
     "name": "stdout",
     "output_type": "stream",
     "text": [
      "preprocess input token error 1:  0.0\n",
      "preprocess input token error 2:  0.0\n",
      "preprocess input token error 3:  0.0\n",
      "preprocess input token error 4:  0.0\n",
      "\n",
      "\n",
      "preprocess output token error 1:  0.0\n",
      "preprocess output token error 2:  0.0\n",
      "preprocess output token error 3:  0.0\n",
      "preprocess output token error 4:  0.0\n"
     ]
    }
   ],
   "source": [
    "convert_str_to_tokens = generate_token_dict(vocab)\n",
    "\n",
    "ex1_in = \"BOS POSITIVE 0333 add POSITIVE 0696 EOS\"\n",
    "ex2_in = \"BOS POSITIVE 0673 add POSITIVE 0675 EOS\"\n",
    "ex3_in = \"BOS NEGATIVE 0286 subtract NEGATIVE 0044 EOS\"\n",
    "ex4_in = \"BOS NEGATIVE 0420 add POSITIVE 0342 EOS\"\n",
    "\n",
    "ex1_out = \"BOS POSITIVE 1029 EOS\"\n",
    "ex2_out = \"BOS POSITIVE 1348 EOS\"\n",
    "ex3_out = \"BOS NEGATIVE 0242 EOS\"\n",
    "ex4_out = \"BOS NEGATIVE 0078 EOS\"\n",
    "\n",
    "ex1_inp_preprocessed = torch.tensor(\n",
    "    prepocess_input_sequence(ex1_in, convert_str_to_tokens, SPECIAL_TOKENS)\n",
    ")\n",
    "ex2_inp_preprocessed = torch.tensor(\n",
    "    prepocess_input_sequence(ex2_in, convert_str_to_tokens, SPECIAL_TOKENS)\n",
    ")\n",
    "ex3_inp_preprocessed = torch.tensor(\n",
    "    prepocess_input_sequence(ex3_in, convert_str_to_tokens, SPECIAL_TOKENS)\n",
    ")\n",
    "ex4_inp_preprocessed = torch.tensor(\n",
    "    prepocess_input_sequence(ex4_in, convert_str_to_tokens, SPECIAL_TOKENS)\n",
    ")\n",
    "\n",
    "ex1_processed_expected = torch.tensor([14, 10, 0, 3, 3, 3, 12, 10, 0, 6, 9, 6, 15])\n",
    "ex2_processed_expected = torch.tensor([14, 10, 0, 6, 7, 3, 12, 10, 0, 6, 7, 5, 15])\n",
    "ex3_processed_expected = torch.tensor([14, 11, 0, 2, 8, 6, 13, 11, 0, 0, 4, 4, 15])\n",
    "ex4_processed_expected = torch.tensor([14, 11, 0, 4, 2, 0, 12, 10, 0, 3, 4, 2, 15])\n",
    "\n",
    "ex1_out = torch.tensor(\n",
    "    prepocess_input_sequence(ex1_out, convert_str_to_tokens, SPECIAL_TOKENS)\n",
    ")\n",
    "ex2_out = torch.tensor(\n",
    "    prepocess_input_sequence(ex2_out, convert_str_to_tokens, SPECIAL_TOKENS)\n",
    ")\n",
    "ex3_out = torch.tensor(\n",
    "    prepocess_input_sequence(ex3_out, convert_str_to_tokens, SPECIAL_TOKENS)\n",
    ")\n",
    "ex4_out = torch.tensor(\n",
    "    prepocess_input_sequence(ex4_out, convert_str_to_tokens, SPECIAL_TOKENS)\n",
    ")\n",
    "\n",
    "ex1_out_expected = torch.tensor([14, 10, 1, 0, 2, 9, 15])\n",
    "ex2_out_expected = torch.tensor([14, 10, 1, 3, 4, 8, 15])\n",
    "ex3_out_expected = torch.tensor([14, 11, 0, 2, 4, 2, 15])\n",
    "ex4_out_expected = torch.tensor([14, 11, 0, 0, 7, 8, 15])\n",
    "\n",
    "print(\n",
    "    \"preprocess input token error 1: \",\n",
    "    rel_error(ex1_processed_expected, ex1_inp_preprocessed),\n",
    ")\n",
    "print(\n",
    "    \"preprocess input token error 2: \",\n",
    "    rel_error(ex2_processed_expected, ex2_inp_preprocessed),\n",
    ")\n",
    "print(\n",
    "    \"preprocess input token error 3: \",\n",
    "    rel_error(ex3_processed_expected, ex3_inp_preprocessed),\n",
    ")\n",
    "print(\n",
    "    \"preprocess input token error 4: \",\n",
    "    rel_error(ex4_processed_expected, ex4_inp_preprocessed),\n",
    ")\n",
    "print(\"\\n\")\n",
    "print(\"preprocess output token error 1: \", rel_error(ex1_out_expected, ex1_out))\n",
    "print(\"preprocess output token error 2: \", rel_error(ex2_out_expected, ex2_out))\n",
    "print(\"preprocess output token error 3: \", rel_error(ex3_out_expected, ex3_out))\n",
    "print(\"preprocess output token error 4: \", rel_error(ex4_out_expected, ex4_out))\n",
    "# 所有error都应该为0"
   ]
  },
  {
   "cell_type": "markdown",
   "metadata": {
    "id": "579e6f2e-d2f0-4a10-a54f-c65ecdccc587"
   },
   "source": [
    "### 构建DataLoader"
   ]
  },
  {
   "cell_type": "markdown",
   "metadata": {
    "id": "5f2d8dd1"
   },
   "source": [
    "现在，我们将使用实现的位置编码来构建一个PyTorch中的数据加载器。数据加载器的作用是为训练/验证返回一个批次。我们首先创建一个Dataset类，该类为我们提供批次中的单个元素，然后使用DataLoader来封装数据集。我们从`torch.utils.data.Dataset`类继承Dataset。这个类包含两个重要的函数，根据你的用例,你会更改这些函数。第一个函数是`__init__`，这包含了*静态*的组件，换句话说，当我们从完整数据中获取下一个元素时，这些变量不会改变。第二个函数是`__getitem__`，它包含最终数据加载器的核心功能。\n",
    "\n",
    "要获取最终的数据加载器，我们将`train_data`和`test_data`包装在`torch.utils.data.DataLoader`类中。\n"
   ]
  },
  {
   "cell_type": "code",
   "execution_count": 36,
   "metadata": {
    "execution": {
     "iopub.execute_input": "2024-12-11T00:16:14.821058Z",
     "iopub.status.busy": "2024-12-11T00:16:14.820756Z",
     "iopub.status.idle": "2024-12-11T00:16:14.827117Z",
     "shell.execute_reply": "2024-12-11T00:16:14.826492Z",
     "shell.execute_reply.started": "2024-12-11T00:16:14.821041Z"
    },
    "tags": []
   },
   "outputs": [],
   "source": [
    "class AddSubDataset(torch.utils.data.Dataset):\n",
    "    def __init__(\n",
    "        self,\n",
    "        input_seqs,\n",
    "        target_seqs,\n",
    "        convert_str_to_tokens,\n",
    "        special_tokens,\n",
    "        emb_dim,\n",
    "        pos_encode,\n",
    "    ):\n",
    "\n",
    "        \"\"\"\n",
    "       该类实现了将用于玩具数据集的数据加载器。\n",
    "\n",
    "        参数:\n",
    "        - `input_seqs`: 输入字符串列表\n",
    "        - `target_seqs`: 输出字符串列表\n",
    "        - `convert_str_to_tokens`: 将输入字符串转换为标记的字典\n",
    "        - `special_tokens`: 特殊字符串列表\n",
    "        - `emb_dim`: Transformer的嵌入维度\n",
    "        - `pos_encode`: 用于计算数据的位置编码的函数\n",
    "        \"\"\"\n",
    "\n",
    "        self.input_seqs = input_seqs\n",
    "        self.target_seqs = target_seqs\n",
    "        self.convert_str_to_tokens = convert_str_to_tokens\n",
    "        self.emb_dim = emb_dim\n",
    "        self.special_tokens = special_tokens\n",
    "        self.pos_encode = pos_encode\n",
    "\n",
    "    def preprocess(self, inp):\n",
    "        return prepocess_input_sequence(\n",
    "            inp, self.convert_str_to_tokens, self.special_tokens\n",
    "        )\n",
    "\n",
    "    def __getitem__(self, idx):\n",
    "        \"\"\"\n",
    "        获取数据中索引为idx的元素的核心函数。\n",
    "        参数：\n",
    "        - `idx`：需要从数据中提取的元素的索引\n",
    "        返回：\n",
    "        - `preprocess_inp`：长度为K的一维张量，其中K是输入序列的长度\n",
    "        - `inp_pos_enc`：形状为(K, M)的张量，其中K是序列长度，M是嵌入维度\n",
    "        - `preprocess_out`：长度为O的一维张量，其中O是输出序列的长度\n",
    "        - `out_pos_enc`：形状为(O, M)的张量，其中O是序列长度，M是嵌入维度\n",
    "        \"\"\"\n",
    "\n",
    "        inp = self.input_seqs[idx]\n",
    "        out = self.target_seqs[idx]\n",
    "        preprocess_inp = torch.tensor(self.preprocess(inp))\n",
    "        preprocess_out = torch.tensor(self.preprocess(out))\n",
    "        inp_pos = len(preprocess_inp)\n",
    "        inp_pos_enc = self.pos_encode(inp_pos, self.emb_dim)\n",
    "        out_pos = len(preprocess_out)\n",
    "        out_pos_enc = self.pos_encode(out_pos, self.emb_dim)\n",
    "\n",
    "        return preprocess_inp, inp_pos_enc[0], preprocess_out, out_pos_enc[0]\n",
    "\n",
    "    def __len__(self):\n",
    "        return len(self.input_seqs)"
   ]
  },
  {
   "cell_type": "code",
   "execution_count": 37,
   "metadata": {
    "execution": {
     "iopub.execute_input": "2024-12-11T00:16:18.961863Z",
     "iopub.status.busy": "2024-12-11T00:16:18.960528Z",
     "iopub.status.idle": "2024-12-11T00:16:18.967279Z",
     "shell.execute_reply": "2024-12-11T00:16:18.966860Z",
     "shell.execute_reply.started": "2024-12-11T00:16:18.961718Z"
    },
    "id": "a673ee9f-c5ae-438c-b696-9662dcb87c52",
    "tags": []
   },
   "outputs": [],
   "source": [
    "def setup_seed(seed):\n",
    "    torch.manual_seed(seed)\n",
    "    torch.cuda.manual_seed_all(seed)\n",
    "    torch.backends.cudnn.deterministic = True\n",
    "setup_seed(2024)\n",
    "\n",
    "BATCH_SIZE = 16\n",
    "\n",
    "X_train, y_train = train_data[\"inp_expression\"], train_data[\"out_expression\"]\n",
    "X_val, y_val = val_data[\"inp_expression\"], val_data[\"out_expression\"]\n",
    "X_test, y_test = test_data[\"inp_expression\"], test_data[\"out_expression\"]\n",
    "\n",
    "train_data = AddSubDataset(\n",
    "    X_train,\n",
    "    y_train,\n",
    "    convert_str_to_tokens,\n",
    "    SPECIAL_TOKENS,\n",
    "    32,\n",
    "    position_encoding_sinusoid\n",
    "    \n",
    ")\n",
    "valid_data = AddSubDataset(\n",
    "    X_val, y_val, convert_str_to_tokens, SPECIAL_TOKENS, 32, position_encoding_sinusoid\n",
    ")\n",
    "test_data = valid_data = AddSubDataset(\n",
    "    X_test, y_test, convert_str_to_tokens, SPECIAL_TOKENS, 32, position_encoding_sinusoid\n",
    ")\n",
    "\n",
    "\n",
    "train_loader = torch.utils.data.DataLoader(\n",
    "    train_data, batch_size=BATCH_SIZE, shuffle=False, drop_last=True\n",
    ")\n",
    "valid_loader = torch.utils.data.DataLoader(\n",
    "    valid_data, batch_size=BATCH_SIZE, shuffle=False, drop_last=True\n",
    ")\n",
    "test_loader = torch.utils.data.DataLoader(\n",
    "    test_data, batch_size=BATCH_SIZE, shuffle=False, drop_last=True\n",
    ")"
   ]
  },
  {
   "cell_type": "code",
   "execution_count": 39,
   "metadata": {
    "execution": {
     "iopub.execute_input": "2024-12-11T00:16:26.984224Z",
     "iopub.status.busy": "2024-12-11T00:16:26.983911Z",
     "iopub.status.idle": "2024-12-11T00:16:27.027067Z",
     "shell.execute_reply": "2024-12-11T00:16:27.026645Z",
     "shell.execute_reply.started": "2024-12-11T00:16:26.984204Z"
    },
    "tags": []
   },
   "outputs": [],
   "source": [
    "import torch.optim as optim\n",
    "\n",
    "inp_seq_len = 9\n",
    "out_seq_len = 5\n",
    "num_heads = 4\n",
    "emb_dim = 32\n",
    "dim_feedforward = 64\n",
    "dropout = 0.2\n",
    "num_enc_layers = 4\n",
    "num_dec_layers = 4\n",
    "vocab_len = len(vocab)\n",
    "\n",
    "model = Transformer(\n",
    "    num_heads,\n",
    "    emb_dim,\n",
    "    dim_feedforward,\n",
    "    dropout,\n",
    "    num_enc_layers,\n",
    "    num_dec_layers,\n",
    "    vocab_len,\n",
    ")\n",
    "for it in test_loader:\n",
    "  it\n",
    "  break\n",
    "inp, inp_pos, out, out_pos = it\n",
    "device = DEVICE\n",
    "model = model.to(device)\n",
    "inp_pos = inp_pos.to(device)\n",
    "out_pos = out_pos.to(device)\n",
    "out = out.to(device)\n",
    "inp = inp.to(device)\n",
    "\n",
    "# 验证模型的输出维度是否与数据一致\n",
    "model_out = model(inp.long(), inp_pos, out.long(), out_pos)\n",
    "assert model_out.size(0) == BATCH_SIZE * (out_seq_len - 1)\n",
    "assert model_out.size(1) == vocab_len"
   ]
  },
  {
   "cell_type": "markdown",
   "metadata": {
    "id": "17ac4856-63fd-4693-87b2-ae616f438202"
   },
   "source": [
    "# 第四部分:在AddSub数据集上训练Transformer"
   ]
  },
  {
   "cell_type": "markdown",
   "metadata": {
    "id": "62a4b8da"
   },
   "source": [
    "现在我们已经实现了Transformer模型，我们将进行模型的训练。\n",
    "- 通常，Transformer的训练制度会以预热开始，换句话说，我们会使用较低的学习率对模型进行一些迭代训练，然后增加学习率，以使网络更快地学习。直觉上讲，这有助于在损失函数中获得一个稳定的流形，然后我们增加学习率以在这个稳定的流形中更快地学习。从某种意义上讲，我们在预热网络以进入稳定流形，并在此预热后以更高的学习率开始训练。对于过拟合，我们没有使用这种预热，因为对于如此小的数据，可以直接使用较高的学习率，但在使用完整数据进行训练时，您应该记住这一点。我们从a5_helper.py中使用了两个函数，`train`和`val`。在这里，`train`有三个参数需要注意：\n",
    "  - `warmup_interval`：指定网络应该使用较低学习率进行训练的迭代次数。换句话说，它是在网络将使用较高学习率的迭代次数之后的迭代次数。\n",
    "  - `warmup_lr`：这是在预热期间将使用的学习率。\n",
    "  - `lr`：这是在预热后将使用的学习率。如果warmup_interval为None，则我们将以此学习率开始训练。\n",
    "\n",
    "- 运行以下单元格来使用完整数据拟合模型。请记住，在这里你可以尝试各种实验，包括损失函数、位置编码、预热程序和学习率。"
   ]
  },
  {
   "cell_type": "code",
   "execution_count": 114,
   "metadata": {
    "ExecutionIndicator": {
     "show": true
    },
    "execution": {
     "iopub.execute_input": "2024-12-11T01:47:03.824950Z",
     "iopub.status.busy": "2024-12-11T01:47:03.824643Z",
     "iopub.status.idle": "2024-12-11T01:47:03.829417Z",
     "shell.execute_reply": "2024-12-11T01:47:03.828954Z",
     "shell.execute_reply.started": "2024-12-11T01:47:03.824913Z"
    },
    "tags": []
   },
   "outputs": [],
   "source": [
    "def LabelSmoothingLoss(pred, ground):\n",
    "    \"\"\"\n",
    "    参数：\n",
    "        pred：预测张量，形状为（N*O，V），其中N是批量大小，O\n",
    "            是目标序列长度，V是词汇表的大小\n",
    "        ground：地面真实张量，形状为（N，O），其中N是批量大小，O\n",
    "            是目标序列\n",
    "    \"\"\"\n",
    "    ground = ground.contiguous().view(-1)\n",
    "    eps = 0.1\n",
    "    n_class = pred.size(1)\n",
    "    one_hot = torch.nn.functional.one_hot(ground).to(pred.dtype)\n",
    "    one_hot = one_hot * (1 - eps) + (1 - one_hot) * eps / (n_class - 1)\n",
    "    log_prb = F.log_softmax(pred, dim=1)\n",
    "    loss = -(one_hot * log_prb).sum(dim=1)\n",
    "    loss = loss.sum()\n",
    "    return loss\n",
    "\n",
    "\n",
    "def CrossEntropyLoss(pred, ground):\n",
    "    \"\"\"\n",
    "    参数：\n",
    "        pred：预测张量，形状为（N*O，V），其中N是批量大小，O\n",
    "            是目标序列长度，V是词汇表的大小\n",
    "        ground：地面真实张量，形状为（N，O），其中N是批量大小，O\n",
    "            是目标序列\n",
    "    \"\"\"\n",
    "    loss = F.cross_entropy(pred, ground, reduction=\"sum\")\n",
    "    return loss\n"
   ]
  },
  {
   "cell_type": "code",
   "execution_count": 115,
   "metadata": {
    "ExecutionIndicator": {
     "show": true
    },
    "execution": {
     "iopub.execute_input": "2024-12-11T01:47:05.319484Z",
     "iopub.status.busy": "2024-12-11T01:47:05.319210Z",
     "iopub.status.idle": "2024-12-11T01:47:05.342157Z",
     "shell.execute_reply": "2024-12-11T01:47:05.341715Z",
     "shell.execute_reply.started": "2024-12-11T01:47:05.319465Z"
    },
    "tags": []
   },
   "outputs": [],
   "source": [
    "inp_seq_len = 9\n",
    "out_seq_len = 5\n",
    "BATCH_SIZE = 256\n",
    "\n",
    "#You should change these!\n",
    "\n",
    "num_heads = 4\n",
    "emb_dim = 64\n",
    "dim_feedforward = 64 #32\n",
    "dropout = 0.2\n",
    "num_enc_layers = 4 #4\n",
    "num_dec_layers = 4 #4\n",
    "vocab_len = len(vocab)\n",
    "loss_func = LabelSmoothingLoss\n",
    "poss_enc = position_encoding_sinusoid\n",
    "num_epochs = 200\n",
    "warmup_interval = 300 #300\n",
    "lr = 1e-3 #1e-3\n",
    "\n",
    "model = Transformer(\n",
    "    num_heads,\n",
    "    emb_dim,\n",
    "    dim_feedforward,\n",
    "    dropout,\n",
    "    num_enc_layers,\n",
    "    num_dec_layers,\n",
    "    vocab_len,\n",
    ")\n",
    "\n",
    "\n",
    "train_data = AddSubDataset(\n",
    "    X_train,\n",
    "    y_train,\n",
    "    convert_str_to_tokens,\n",
    "    SPECIAL_TOKENS,\n",
    "    emb_dim,\n",
    "    position_encoding_sinusoid,\n",
    ")\n",
    "valid_data = AddSubDataset(\n",
    "    X_val,\n",
    "    y_val,\n",
    "    convert_str_to_tokens,\n",
    "    SPECIAL_TOKENS,\n",
    "    emb_dim,\n",
    "    position_encoding_sinusoid,\n",
    ")\n",
    "test_data = AddSubDataset(\n",
    "    X_test,\n",
    "    y_test,\n",
    "    convert_str_to_tokens,\n",
    "    SPECIAL_TOKENS,\n",
    "    emb_dim,\n",
    "    position_encoding_sinusoid,\n",
    ")\n",
    "\n",
    "train_loader = torch.utils.data.DataLoader(\n",
    "    train_data, batch_size=BATCH_SIZE, shuffle=False, drop_last=True\n",
    ")\n",
    "valid_loader = torch.utils.data.DataLoader(\n",
    "    valid_data, batch_size=BATCH_SIZE, shuffle=False, drop_last=True\n",
    ")\n",
    "test_loader = torch.utils.data.DataLoader(\n",
    "    test_data, batch_size=BATCH_SIZE, shuffle=False, drop_last=True\n",
    ")\n",
    "\n"
   ]
  },
  {
   "cell_type": "code",
   "execution_count": 116,
   "metadata": {
    "ExecutionIndicator": {
     "show": true
    },
    "execution": {
     "iopub.execute_input": "2024-12-11T01:47:07.883084Z",
     "iopub.status.busy": "2024-12-11T01:47:07.882788Z",
     "iopub.status.idle": "2024-12-11T01:47:07.893779Z",
     "shell.execute_reply": "2024-12-11T01:47:07.893333Z",
     "shell.execute_reply.started": "2024-12-11T01:47:07.883063Z"
    },
    "tags": []
   },
   "outputs": [],
   "source": [
    "def train(\n",
    "    model,\n",
    "    train_dataloader,\n",
    "    val_dataloader,\n",
    "    loss_func,\n",
    "    num_epochs,\n",
    "    batch_size=32,\n",
    "    warmup_lr=6e-6,\n",
    "    warmup_interval=1000,\n",
    "    lr=6e-4,\n",
    "    device=torch.device(\"cuda\"),\n",
    "):\n",
    "    print(\"Training started...\")\n",
    "    if warmup_interval is None:\n",
    "        optimizer = torch.optim.AdamW(\n",
    "            model.parameters(), lr=lr, betas=(0.9, 0.995), eps=1e-9\n",
    "        )\n",
    "    else:\n",
    "        optimizer = torch.optim.AdamW(\n",
    "            model.parameters(), lr=warmup_lr, betas=(0.9, 0.995), eps=1e-9\n",
    "        )\n",
    "    iteration = 0\n",
    "    for epoch_num in range(num_epochs):\n",
    "        epoch_loss = []\n",
    "        epoch_correct = 0\n",
    "        epoch_total = 0\n",
    "        model.train()\n",
    "        for it in train_dataloader:\n",
    "            inp, inp_pos, out, out_pos = it\n",
    "            model = model.to(device)\n",
    "            inp_pos = inp_pos.to(device)\n",
    "            out_pos = out_pos.to(device)\n",
    "            out = out.to(device)\n",
    "            inp = inp.to(device)\n",
    "            gnd = out[:, 1:].contiguous().view(-1).long()\n",
    "            optimizer.zero_grad()\n",
    "\n",
    "            pred = model(inp.long(), inp_pos, out.long(), out_pos)\n",
    "            # TRAIN ACC\n",
    "            pred_max = pred.max(1)[1]\n",
    "            gnd = gnd.contiguous().view(-1)\n",
    "            n_correct = pred_max.eq(gnd).sum().item()\n",
    "            epoch_correct += n_correct\n",
    "            epoch_total += len(pred_max)\n",
    "            loss = loss_func(pred, gnd)\n",
    "            epoch_loss.append(loss.item())\n",
    "            if warmup_interval is not None and iteration == warmup_interval:\n",
    "                print(\n",
    "                    f\"End of warmup. Swapping learning rates from {warmup_lr} to {lr}\"\n",
    "                )\n",
    "                for param_group in optimizer.param_groups:\n",
    "                    warmup_lr = lr\n",
    "                    param_group[\"lr\"] = lr\n",
    "\n",
    "            loss.backward()\n",
    "            optimizer.step()\n",
    "            iteration = iteration + 1\n",
    "\n",
    "        train_acc = epoch_correct / epoch_total\n",
    "        avg_epoch_loss = sum(epoch_loss) / len(epoch_loss)\n",
    "        val_loss, val_acc = val(model, val_dataloader, loss_func, batch_size)\n",
    "        loss_hist = avg_epoch_loss / (batch_size * 4)\n",
    "        print(\n",
    "            f\"[epoch: {epoch_num+1}]\",\n",
    "            \"[loss: \",\n",
    "            f\"{loss_hist:.4f}\",\n",
    "            \"]\",\n",
    "            \"[train_acc: \",\n",
    "            f\"{train_acc:.4f}\",\n",
    "            \"]\",\n",
    "            \"[val_acc: \",\n",
    "            f\"{val_acc:.4f}\",\n",
    "            \"]\",\n",
    "            \"val_loss: [val_loss \",\n",
    "            f\"{val_loss:.4f}\",\n",
    "            \"]\",\n",
    "        )\n",
    "\n",
    "    return model\n",
    "\n",
    "\n",
    "def val(model, dataloader, loss_func, batch_size, device=torch.device(\"cpu\")):\n",
    "    model.eval()\n",
    "    with torch.no_grad():\n",
    "        epoch_loss = []\n",
    "        num_correct = 0\n",
    "        total = 0\n",
    "        for it in dataloader:\n",
    "            inp, inp_pos, out, out_pos = it\n",
    "\n",
    "            model = model.to(device)\n",
    "            inp_pos = inp_pos.to(device)\n",
    "            out_pos = out_pos.to(device)\n",
    "            out = out.to(device)\n",
    "            inp = inp.to(device)\n",
    "            gnd = out[:, 1:].contiguous().view(-1).long()\n",
    "            pred = model(inp.long(), inp_pos, out.long(), out_pos)\n",
    "            loss = loss_func(pred, gnd)\n",
    "\n",
    "            pred_max = pred.max(1)[1]\n",
    "            gnd = gnd.contiguous().view(-1)\n",
    "\n",
    "            n_correct = pred_max.eq(gnd)\n",
    "            n_correct = n_correct.sum().item()\n",
    "            num_correct = num_correct + n_correct\n",
    "\n",
    "            total = total + len(pred_max)\n",
    "            epoch_loss.append(loss.item())\n",
    "\n",
    "        avg_epoch_loss = sum(epoch_loss) / len(epoch_loss)\n",
    "    return avg_epoch_loss / (batch_size * 4), n_correct / total"
   ]
  },
  {
   "cell_type": "code",
   "execution_count": null,
   "metadata": {
    "ExecutionIndicator": {
     "show": true
    },
    "execution": {
     "iopub.execute_input": "2024-12-11T01:47:11.278007Z",
     "iopub.status.busy": "2024-12-11T01:47:11.277708Z"
    },
    "tags": []
   },
   "outputs": [
    {
     "name": "stdout",
     "output_type": "stream",
     "text": [
      "Training started...\n",
      "[epoch: 1] [loss:  3.5564 ] [train_acc:  0.0518 ] [val_acc:  0.0459 ] val_loss: [val_loss  3.3646 ]\n",
      "[epoch: 2] [loss:  3.4899 ] [train_acc:  0.0551 ] [val_acc:  0.0449 ] val_loss: [val_loss  3.2431 ]\n",
      "[epoch: 3] [loss:  3.4391 ] [train_acc:  0.0589 ] [val_acc:  0.0439 ] val_loss: [val_loss  3.1332 ]\n",
      "[epoch: 4] [loss:  3.3830 ] [train_acc:  0.0662 ] [val_acc:  0.0469 ] val_loss: [val_loss  3.0381 ]\n",
      "[epoch: 5] [loss:  3.3344 ] [train_acc:  0.0690 ] [val_acc:  0.0547 ] val_loss: [val_loss  2.9569 ]\n",
      "[epoch: 6] [loss:  3.2912 ] [train_acc:  0.0746 ] [val_acc:  0.0615 ] val_loss: [val_loss  2.8885 ]\n",
      "[epoch: 7] [loss:  3.2610 ] [train_acc:  0.0825 ] [val_acc:  0.0771 ] val_loss: [val_loss  2.8304 ]\n",
      "[epoch: 8] [loss:  3.2282 ] [train_acc:  0.0811 ] [val_acc:  0.1006 ] val_loss: [val_loss  2.7822 ]\n",
      "[epoch: 9] [loss:  3.1891 ] [train_acc:  0.0925 ] [val_acc:  0.1289 ] val_loss: [val_loss  2.7430 ]\n",
      "[epoch: 10] [loss:  3.1524 ] [train_acc:  0.0966 ] [val_acc:  0.1582 ] val_loss: [val_loss  2.7117 ]\n",
      "[epoch: 11] [loss:  3.1273 ] [train_acc:  0.1048 ] [val_acc:  0.1748 ] val_loss: [val_loss  2.6856 ]\n",
      "[epoch: 12] [loss:  3.1018 ] [train_acc:  0.1085 ] [val_acc:  0.1885 ] val_loss: [val_loss  2.6640 ]\n",
      "[epoch: 13] [loss:  3.0826 ] [train_acc:  0.1162 ] [val_acc:  0.2012 ] val_loss: [val_loss  2.6465 ]\n",
      "[epoch: 14] [loss:  3.0559 ] [train_acc:  0.1184 ] [val_acc:  0.2168 ] val_loss: [val_loss  2.6315 ]\n",
      "[epoch: 15] [loss:  3.0310 ] [train_acc:  0.1204 ] [val_acc:  0.2305 ] val_loss: [val_loss  2.6188 ]\n",
      "[epoch: 16] [loss:  3.0179 ] [train_acc:  0.1234 ] [val_acc:  0.2354 ] val_loss: [val_loss  2.6075 ]\n",
      "[epoch: 17] [loss:  2.9933 ] [train_acc:  0.1313 ] [val_acc:  0.2354 ] val_loss: [val_loss  2.5975 ]\n",
      "[epoch: 18] [loss:  2.9741 ] [train_acc:  0.1338 ] [val_acc:  0.2363 ] val_loss: [val_loss  2.5884 ]\n",
      "[epoch: 19] [loss:  2.9727 ] [train_acc:  0.1355 ] [val_acc:  0.2383 ] val_loss: [val_loss  2.5801 ]\n",
      "[epoch: 20] [loss:  2.9453 ] [train_acc:  0.1400 ] [val_acc:  0.2393 ] val_loss: [val_loss  2.5725 ]\n",
      "End of warmup. Swapping learning rates from 6e-06 to 0.001\n",
      "[epoch: 21] [loss:  2.7089 ] [train_acc:  0.1851 ] [val_acc:  0.2500 ] val_loss: [val_loss  2.4683 ]\n",
      "[epoch: 22] [loss:  2.6066 ] [train_acc:  0.1999 ] [val_acc:  0.2500 ] val_loss: [val_loss  2.4545 ]\n",
      "[epoch: 23] [loss:  2.5769 ] [train_acc:  0.2055 ] [val_acc:  0.2500 ] val_loss: [val_loss  2.4514 ]\n",
      "[epoch: 24] [loss:  2.5626 ] [train_acc:  0.2148 ] [val_acc:  0.2500 ] val_loss: [val_loss  2.4508 ]\n",
      "[epoch: 25] [loss:  2.5464 ] [train_acc:  0.2187 ] [val_acc:  0.2500 ] val_loss: [val_loss  2.4512 ]\n",
      "[epoch: 26] [loss:  2.5375 ] [train_acc:  0.2204 ] [val_acc:  0.2500 ] val_loss: [val_loss  2.4510 ]\n",
      "[epoch: 27] [loss:  2.5250 ] [train_acc:  0.2283 ] [val_acc:  0.2500 ] val_loss: [val_loss  2.4500 ]\n",
      "[epoch: 28] [loss:  2.5169 ] [train_acc:  0.2287 ] [val_acc:  0.2500 ] val_loss: [val_loss  2.4493 ]\n",
      "[epoch: 29] [loss:  2.5026 ] [train_acc:  0.2389 ] [val_acc:  0.2500 ] val_loss: [val_loss  2.4486 ]\n",
      "[epoch: 30] [loss:  2.4943 ] [train_acc:  0.2460 ] [val_acc:  0.2500 ] val_loss: [val_loss  2.4463 ]\n",
      "[epoch: 31] [loss:  2.4837 ] [train_acc:  0.2469 ] [val_acc:  0.2500 ] val_loss: [val_loss  2.4371 ]\n",
      "[epoch: 32] [loss:  2.4614 ] [train_acc:  0.2637 ] [val_acc:  0.2744 ] val_loss: [val_loss  2.3638 ]\n",
      "[epoch: 33] [loss:  2.3136 ] [train_acc:  0.3489 ] [val_acc:  0.3857 ] val_loss: [val_loss  2.0797 ]\n",
      "[epoch: 34] [loss:  2.1219 ] [train_acc:  0.3734 ] [val_acc:  0.3926 ] val_loss: [val_loss  2.0316 ]\n",
      "[epoch: 35] [loss:  2.0790 ] [train_acc:  0.3764 ] [val_acc:  0.4189 ] val_loss: [val_loss  2.0165 ]\n",
      "[epoch: 36] [loss:  2.0582 ] [train_acc:  0.3848 ] [val_acc:  0.4189 ] val_loss: [val_loss  2.0012 ]\n",
      "[epoch: 37] [loss:  2.0411 ] [train_acc:  0.3910 ] [val_acc:  0.4355 ] val_loss: [val_loss  1.9491 ]\n",
      "[epoch: 38] [loss:  2.0002 ] [train_acc:  0.4094 ] [val_acc:  0.4873 ] val_loss: [val_loss  1.8555 ]\n",
      "[epoch: 39] [loss:  1.8770 ] [train_acc:  0.4490 ] [val_acc:  0.5010 ] val_loss: [val_loss  1.6454 ]\n",
      "[epoch: 40] [loss:  1.7241 ] [train_acc:  0.4831 ] [val_acc:  0.5039 ] val_loss: [val_loss  1.6367 ]\n",
      "[epoch: 41] [loss:  1.6822 ] [train_acc:  0.4971 ] [val_acc:  0.5117 ] val_loss: [val_loss  1.6270 ]\n",
      "[epoch: 42] [loss:  1.6659 ] [train_acc:  0.4994 ] [val_acc:  0.5127 ] val_loss: [val_loss  1.6180 ]\n",
      "[epoch: 43] [loss:  1.6527 ] [train_acc:  0.5043 ] [val_acc:  0.5137 ] val_loss: [val_loss  1.6070 ]\n",
      "[epoch: 44] [loss:  1.6375 ] [train_acc:  0.5104 ] [val_acc:  0.5244 ] val_loss: [val_loss  1.5926 ]\n",
      "[epoch: 45] [loss:  1.6313 ] [train_acc:  0.5061 ] [val_acc:  0.5293 ] val_loss: [val_loss  1.5804 ]\n",
      "[epoch: 46] [loss:  1.6184 ] [train_acc:  0.5212 ] [val_acc:  0.5400 ] val_loss: [val_loss  1.5660 ]\n",
      "[epoch: 47] [loss:  1.6064 ] [train_acc:  0.5270 ] [val_acc:  0.5566 ] val_loss: [val_loss  1.5491 ]\n",
      "[epoch: 48] [loss:  1.5936 ] [train_acc:  0.5415 ] [val_acc:  0.5684 ] val_loss: [val_loss  1.5451 ]\n",
      "[epoch: 49] [loss:  1.5802 ] [train_acc:  0.5480 ] [val_acc:  0.5684 ] val_loss: [val_loss  1.5249 ]\n",
      "[epoch: 50] [loss:  1.5672 ] [train_acc:  0.5516 ] [val_acc:  0.5742 ] val_loss: [val_loss  1.5141 ]\n",
      "[epoch: 51] [loss:  1.5548 ] [train_acc:  0.5630 ] [val_acc:  0.5830 ] val_loss: [val_loss  1.5048 ]\n",
      "[epoch: 52] [loss:  1.5507 ] [train_acc:  0.5646 ] [val_acc:  0.5703 ] val_loss: [val_loss  1.5127 ]\n",
      "[epoch: 53] [loss:  1.5404 ] [train_acc:  0.5709 ] [val_acc:  0.5918 ] val_loss: [val_loss  1.4937 ]\n",
      "[epoch: 54] [loss:  1.5304 ] [train_acc:  0.5759 ] [val_acc:  0.6045 ] val_loss: [val_loss  1.4832 ]\n",
      "[epoch: 55] [loss:  1.5261 ] [train_acc:  0.5803 ] [val_acc:  0.6113 ] val_loss: [val_loss  1.4776 ]\n",
      "[epoch: 56] [loss:  1.5184 ] [train_acc:  0.5855 ] [val_acc:  0.6143 ] val_loss: [val_loss  1.4694 ]\n",
      "[epoch: 57] [loss:  1.5143 ] [train_acc:  0.5869 ] [val_acc:  0.6172 ] val_loss: [val_loss  1.4754 ]\n",
      "[epoch: 58] [loss:  1.5084 ] [train_acc:  0.5889 ] [val_acc:  0.6162 ] val_loss: [val_loss  1.4737 ]\n",
      "[epoch: 59] [loss:  1.5042 ] [train_acc:  0.5913 ] [val_acc:  0.6172 ] val_loss: [val_loss  1.4708 ]\n",
      "[epoch: 60] [loss:  1.5031 ] [train_acc:  0.5911 ] [val_acc:  0.6240 ] val_loss: [val_loss  1.4639 ]\n",
      "[epoch: 61] [loss:  1.4969 ] [train_acc:  0.5928 ] [val_acc:  0.6133 ] val_loss: [val_loss  1.4652 ]\n",
      "[epoch: 62] [loss:  1.4956 ] [train_acc:  0.5928 ] [val_acc:  0.6182 ] val_loss: [val_loss  1.4636 ]\n",
      "[epoch: 63] [loss:  1.4890 ] [train_acc:  0.5988 ] [val_acc:  0.6230 ] val_loss: [val_loss  1.4575 ]\n",
      "[epoch: 64] [loss:  1.4852 ] [train_acc:  0.5978 ] [val_acc:  0.6230 ] val_loss: [val_loss  1.4538 ]\n",
      "[epoch: 65] [loss:  1.4774 ] [train_acc:  0.5986 ] [val_acc:  0.6260 ] val_loss: [val_loss  1.4357 ]\n",
      "[epoch: 66] [loss:  1.4733 ] [train_acc:  0.6003 ] [val_acc:  0.6348 ] val_loss: [val_loss  1.4165 ]\n",
      "[epoch: 67] [loss:  1.4579 ] [train_acc:  0.6030 ] [val_acc:  0.6494 ] val_loss: [val_loss  1.4114 ]\n",
      "[epoch: 68] [loss:  1.4484 ] [train_acc:  0.6068 ] [val_acc:  0.6582 ] val_loss: [val_loss  1.3927 ]\n",
      "[epoch: 69] [loss:  1.4358 ] [train_acc:  0.6111 ] [val_acc:  0.6436 ] val_loss: [val_loss  1.3883 ]\n",
      "[epoch: 70] [loss:  1.4252 ] [train_acc:  0.6169 ] [val_acc:  0.6533 ] val_loss: [val_loss  1.3817 ]\n",
      "[epoch: 71] [loss:  1.4169 ] [train_acc:  0.6186 ] [val_acc:  0.6582 ] val_loss: [val_loss  1.3703 ]\n",
      "[epoch: 72] [loss:  1.4090 ] [train_acc:  0.6209 ] [val_acc:  0.6680 ] val_loss: [val_loss  1.3535 ]\n",
      "[epoch: 73] [loss:  1.3967 ] [train_acc:  0.6215 ] [val_acc:  0.6504 ] val_loss: [val_loss  1.3484 ]\n",
      "[epoch: 74] [loss:  1.3866 ] [train_acc:  0.6243 ] [val_acc:  0.6582 ] val_loss: [val_loss  1.3457 ]\n",
      "[epoch: 75] [loss:  1.3782 ] [train_acc:  0.6297 ] [val_acc:  0.6523 ] val_loss: [val_loss  1.3445 ]\n",
      "[epoch: 76] [loss:  1.3686 ] [train_acc:  0.6357 ] [val_acc:  0.6494 ] val_loss: [val_loss  1.3380 ]\n",
      "[epoch: 77] [loss:  1.3613 ] [train_acc:  0.6380 ] [val_acc:  0.6592 ] val_loss: [val_loss  1.3192 ]\n",
      "[epoch: 78] [loss:  1.3520 ] [train_acc:  0.6400 ] [val_acc:  0.6650 ] val_loss: [val_loss  1.3124 ]\n",
      "[epoch: 79] [loss:  1.3395 ] [train_acc:  0.6460 ] [val_acc:  0.6748 ] val_loss: [val_loss  1.2914 ]\n",
      "[epoch: 80] [loss:  1.3312 ] [train_acc:  0.6493 ] [val_acc:  0.6680 ] val_loss: [val_loss  1.2912 ]\n",
      "[epoch: 81] [loss:  1.3243 ] [train_acc:  0.6534 ] [val_acc:  0.6797 ] val_loss: [val_loss  1.2752 ]\n",
      "[epoch: 82] [loss:  1.3240 ] [train_acc:  0.6523 ] [val_acc:  0.6729 ] val_loss: [val_loss  1.2742 ]\n",
      "[epoch: 83] [loss:  1.3181 ] [train_acc:  0.6538 ] [val_acc:  0.6621 ] val_loss: [val_loss  1.2919 ]\n",
      "[epoch: 84] [loss:  1.3167 ] [train_acc:  0.6533 ] [val_acc:  0.6855 ] val_loss: [val_loss  1.2706 ]\n",
      "[epoch: 85] [loss:  1.3065 ] [train_acc:  0.6601 ] [val_acc:  0.6768 ] val_loss: [val_loss  1.2703 ]\n",
      "[epoch: 86] [loss:  1.3055 ] [train_acc:  0.6615 ] [val_acc:  0.6807 ] val_loss: [val_loss  1.2650 ]\n",
      "[epoch: 87] [loss:  1.2977 ] [train_acc:  0.6645 ] [val_acc:  0.6758 ] val_loss: [val_loss  1.2664 ]\n",
      "[epoch: 88] [loss:  1.2939 ] [train_acc:  0.6667 ] [val_acc:  0.6992 ] val_loss: [val_loss  1.2461 ]\n",
      "[epoch: 89] [loss:  1.2866 ] [train_acc:  0.6720 ] [val_acc:  0.6943 ] val_loss: [val_loss  1.2428 ]\n",
      "[epoch: 90] [loss:  1.2831 ] [train_acc:  0.6742 ] [val_acc:  0.6953 ] val_loss: [val_loss  1.2436 ]\n",
      "[epoch: 91] [loss:  1.2822 ] [train_acc:  0.6745 ] [val_acc:  0.7041 ] val_loss: [val_loss  1.2308 ]\n",
      "[epoch: 92] [loss:  1.2808 ] [train_acc:  0.6726 ] [val_acc:  0.6934 ] val_loss: [val_loss  1.2380 ]\n",
      "[epoch: 93] [loss:  1.2750 ] [train_acc:  0.6758 ] [val_acc:  0.6973 ] val_loss: [val_loss  1.2340 ]\n",
      "[epoch: 94] [loss:  1.2712 ] [train_acc:  0.6809 ] [val_acc:  0.6885 ] val_loss: [val_loss  1.2354 ]\n",
      "[epoch: 95] [loss:  1.2618 ] [train_acc:  0.6880 ] [val_acc:  0.7129 ] val_loss: [val_loss  1.2208 ]\n",
      "[epoch: 96] [loss:  1.2658 ] [train_acc:  0.6844 ] [val_acc:  0.6992 ] val_loss: [val_loss  1.2276 ]\n",
      "[epoch: 97] [loss:  1.2593 ] [train_acc:  0.6869 ] [val_acc:  0.7148 ] val_loss: [val_loss  1.2138 ]\n",
      "[epoch: 98] [loss:  1.2552 ] [train_acc:  0.6870 ] [val_acc:  0.6924 ] val_loss: [val_loss  1.2294 ]\n",
      "[epoch: 99] [loss:  1.2478 ] [train_acc:  0.6926 ] [val_acc:  0.7109 ] val_loss: [val_loss  1.2101 ]\n",
      "[epoch: 100] [loss:  1.2478 ] [train_acc:  0.6911 ] [val_acc:  0.7178 ] val_loss: [val_loss  1.2050 ]\n",
      "[epoch: 101] [loss:  1.2538 ] [train_acc:  0.6894 ] [val_acc:  0.7227 ] val_loss: [val_loss  1.2085 ]\n",
      "[epoch: 102] [loss:  1.2504 ] [train_acc:  0.6898 ] [val_acc:  0.7031 ] val_loss: [val_loss  1.2063 ]\n",
      "[epoch: 103] [loss:  1.2523 ] [train_acc:  0.6883 ] [val_acc:  0.7031 ] val_loss: [val_loss  1.2036 ]\n",
      "[epoch: 104] [loss:  1.2395 ] [train_acc:  0.6950 ] [val_acc:  0.7158 ] val_loss: [val_loss  1.2035 ]\n",
      "[epoch: 105] [loss:  1.2386 ] [train_acc:  0.6975 ] [val_acc:  0.7158 ] val_loss: [val_loss  1.1985 ]\n",
      "[epoch: 106] [loss:  1.2332 ] [train_acc:  0.6985 ] [val_acc:  0.7178 ] val_loss: [val_loss  1.1998 ]\n",
      "[epoch: 107] [loss:  1.2325 ] [train_acc:  0.6999 ] [val_acc:  0.7080 ] val_loss: [val_loss  1.2033 ]\n",
      "[epoch: 108] [loss:  1.2314 ] [train_acc:  0.7012 ] [val_acc:  0.7236 ] val_loss: [val_loss  1.1892 ]\n",
      "[epoch: 109] [loss:  1.2277 ] [train_acc:  0.7047 ] [val_acc:  0.7119 ] val_loss: [val_loss  1.1979 ]\n",
      "[epoch: 110] [loss:  1.2267 ] [train_acc:  0.7044 ] [val_acc:  0.7295 ] val_loss: [val_loss  1.1792 ]\n",
      "[epoch: 111] [loss:  1.2215 ] [train_acc:  0.7077 ] [val_acc:  0.7295 ] val_loss: [val_loss  1.1763 ]\n",
      "[epoch: 112] [loss:  1.2210 ] [train_acc:  0.7040 ] [val_acc:  0.7305 ] val_loss: [val_loss  1.1725 ]\n",
      "[epoch: 113] [loss:  1.2170 ] [train_acc:  0.7101 ] [val_acc:  0.7236 ] val_loss: [val_loss  1.1837 ]\n",
      "[epoch: 114] [loss:  1.2148 ] [train_acc:  0.7116 ] [val_acc:  0.7256 ] val_loss: [val_loss  1.1792 ]\n",
      "[epoch: 115] [loss:  1.2164 ] [train_acc:  0.7118 ] [val_acc:  0.7295 ] val_loss: [val_loss  1.1758 ]\n",
      "[epoch: 116] [loss:  1.2126 ] [train_acc:  0.7127 ] [val_acc:  0.7236 ] val_loss: [val_loss  1.1744 ]\n",
      "[epoch: 117] [loss:  1.2120 ] [train_acc:  0.7099 ] [val_acc:  0.7363 ] val_loss: [val_loss  1.1669 ]\n",
      "[epoch: 118] [loss:  1.2093 ] [train_acc:  0.7133 ] [val_acc:  0.7354 ] val_loss: [val_loss  1.1638 ]\n",
      "[epoch: 119] [loss:  1.2084 ] [train_acc:  0.7145 ] [val_acc:  0.7344 ] val_loss: [val_loss  1.1658 ]\n",
      "[epoch: 120] [loss:  1.2128 ] [train_acc:  0.7096 ] [val_acc:  0.7363 ] val_loss: [val_loss  1.1653 ]\n",
      "[epoch: 121] [loss:  1.2067 ] [train_acc:  0.7147 ] [val_acc:  0.7227 ] val_loss: [val_loss  1.1803 ]\n",
      "[epoch: 122] [loss:  1.2072 ] [train_acc:  0.7115 ] [val_acc:  0.7188 ] val_loss: [val_loss  1.1817 ]\n",
      "[epoch: 123] [loss:  1.2009 ] [train_acc:  0.7186 ] [val_acc:  0.7275 ] val_loss: [val_loss  1.1763 ]\n",
      "[epoch: 124] [loss:  1.1969 ] [train_acc:  0.7197 ] [val_acc:  0.7305 ] val_loss: [val_loss  1.1616 ]\n",
      "[epoch: 125] [loss:  1.1929 ] [train_acc:  0.7237 ] [val_acc:  0.7305 ] val_loss: [val_loss  1.1656 ]\n",
      "[epoch: 126] [loss:  1.1981 ] [train_acc:  0.7170 ] [val_acc:  0.7432 ] val_loss: [val_loss  1.1543 ]\n",
      "[epoch: 127] [loss:  1.1938 ] [train_acc:  0.7221 ] [val_acc:  0.7393 ] val_loss: [val_loss  1.1531 ]\n",
      "[epoch: 128] [loss:  1.1966 ] [train_acc:  0.7197 ] [val_acc:  0.7402 ] val_loss: [val_loss  1.1591 ]\n",
      "[epoch: 129] [loss:  1.1966 ] [train_acc:  0.7172 ] [val_acc:  0.7461 ] val_loss: [val_loss  1.1543 ]\n",
      "[epoch: 130] [loss:  1.1905 ] [train_acc:  0.7188 ] [val_acc:  0.7402 ] val_loss: [val_loss  1.1505 ]\n",
      "[epoch: 131] [loss:  1.1915 ] [train_acc:  0.7219 ] [val_acc:  0.7334 ] val_loss: [val_loss  1.1551 ]\n",
      "[epoch: 132] [loss:  1.1868 ] [train_acc:  0.7266 ] [val_acc:  0.7314 ] val_loss: [val_loss  1.1521 ]\n",
      "[epoch: 133] [loss:  1.1895 ] [train_acc:  0.7221 ] [val_acc:  0.7422 ] val_loss: [val_loss  1.1549 ]\n",
      "[epoch: 134] [loss:  1.1903 ] [train_acc:  0.7230 ] [val_acc:  0.7461 ] val_loss: [val_loss  1.1446 ]\n",
      "[epoch: 135] [loss:  1.1834 ] [train_acc:  0.7268 ] [val_acc:  0.7441 ] val_loss: [val_loss  1.1472 ]\n",
      "[epoch: 136] [loss:  1.1856 ] [train_acc:  0.7253 ] [val_acc:  0.7471 ] val_loss: [val_loss  1.1474 ]\n",
      "[epoch: 137] [loss:  1.1889 ] [train_acc:  0.7232 ] [val_acc:  0.7441 ] val_loss: [val_loss  1.1546 ]\n",
      "[epoch: 138] [loss:  1.1828 ] [train_acc:  0.7285 ] [val_acc:  0.7441 ] val_loss: [val_loss  1.1444 ]\n",
      "[epoch: 139] [loss:  1.1784 ] [train_acc:  0.7294 ] [val_acc:  0.7568 ] val_loss: [val_loss  1.1395 ]\n",
      "[epoch: 140] [loss:  1.1850 ] [train_acc:  0.7262 ] [val_acc:  0.7373 ] val_loss: [val_loss  1.1483 ]\n",
      "[epoch: 141] [loss:  1.1841 ] [train_acc:  0.7252 ] [val_acc:  0.7451 ] val_loss: [val_loss  1.1485 ]\n",
      "[epoch: 142] [loss:  1.1841 ] [train_acc:  0.7257 ] [val_acc:  0.7461 ] val_loss: [val_loss  1.1486 ]\n",
      "[epoch: 143] [loss:  1.1847 ] [train_acc:  0.7279 ] [val_acc:  0.7266 ] val_loss: [val_loss  1.1677 ]\n",
      "[epoch: 144] [loss:  1.1842 ] [train_acc:  0.7285 ] [val_acc:  0.7402 ] val_loss: [val_loss  1.1511 ]\n",
      "[epoch: 145] [loss:  1.1854 ] [train_acc:  0.7256 ] [val_acc:  0.7500 ] val_loss: [val_loss  1.1452 ]\n",
      "[epoch: 146] [loss:  1.1822 ] [train_acc:  0.7257 ] [val_acc:  0.7490 ] val_loss: [val_loss  1.1430 ]\n",
      "[epoch: 147] [loss:  1.1760 ] [train_acc:  0.7326 ] [val_acc:  0.7373 ] val_loss: [val_loss  1.1507 ]\n",
      "[epoch: 148] [loss:  1.1745 ] [train_acc:  0.7328 ] [val_acc:  0.7314 ] val_loss: [val_loss  1.1505 ]\n",
      "[epoch: 149] [loss:  1.1719 ] [train_acc:  0.7340 ] [val_acc:  0.7559 ] val_loss: [val_loss  1.1355 ]\n",
      "[epoch: 150] [loss:  1.1704 ] [train_acc:  0.7333 ] [val_acc:  0.7510 ] val_loss: [val_loss  1.1364 ]\n",
      "[epoch: 151] [loss:  1.1680 ] [train_acc:  0.7363 ] [val_acc:  0.7490 ] val_loss: [val_loss  1.1370 ]\n",
      "[epoch: 152] [loss:  1.1678 ] [train_acc:  0.7367 ] [val_acc:  0.7539 ] val_loss: [val_loss  1.1334 ]\n",
      "[epoch: 153] [loss:  1.1686 ] [train_acc:  0.7337 ] [val_acc:  0.7539 ] val_loss: [val_loss  1.1297 ]\n",
      "[epoch: 154] [loss:  1.1687 ] [train_acc:  0.7313 ] [val_acc:  0.7354 ] val_loss: [val_loss  1.1560 ]\n",
      "[epoch: 155] [loss:  1.1747 ] [train_acc:  0.7269 ] [val_acc:  0.7354 ] val_loss: [val_loss  1.1590 ]\n",
      "[epoch: 156] [loss:  1.1710 ] [train_acc:  0.7324 ] [val_acc:  0.7451 ] val_loss: [val_loss  1.1333 ]\n",
      "[epoch: 157] [loss:  1.1675 ] [train_acc:  0.7350 ] [val_acc:  0.7422 ] val_loss: [val_loss  1.1378 ]\n",
      "[epoch: 158] [loss:  1.1644 ] [train_acc:  0.7383 ] [val_acc:  0.7490 ] val_loss: [val_loss  1.1338 ]\n",
      "[epoch: 159] [loss:  1.1584 ] [train_acc:  0.7430 ] [val_acc:  0.7510 ] val_loss: [val_loss  1.1314 ]\n",
      "[epoch: 160] [loss:  1.1594 ] [train_acc:  0.7400 ] [val_acc:  0.7627 ] val_loss: [val_loss  1.1271 ]\n",
      "[epoch: 161] [loss:  1.1636 ] [train_acc:  0.7391 ] [val_acc:  0.7432 ] val_loss: [val_loss  1.1341 ]\n",
      "[epoch: 162] [loss:  1.1649 ] [train_acc:  0.7371 ] [val_acc:  0.7578 ] val_loss: [val_loss  1.1274 ]\n",
      "[epoch: 163] [loss:  1.1619 ] [train_acc:  0.7389 ] [val_acc:  0.7539 ] val_loss: [val_loss  1.1306 ]\n",
      "[epoch: 164] [loss:  1.1589 ] [train_acc:  0.7419 ] [val_acc:  0.7549 ] val_loss: [val_loss  1.1259 ]\n",
      "[epoch: 165] [loss:  1.1598 ] [train_acc:  0.7387 ] [val_acc:  0.7656 ] val_loss: [val_loss  1.1165 ]\n",
      "[epoch: 166] [loss:  1.1566 ] [train_acc:  0.7374 ] [val_acc:  0.7539 ] val_loss: [val_loss  1.1203 ]\n",
      "[epoch: 167] [loss:  1.1618 ] [train_acc:  0.7382 ] [val_acc:  0.7490 ] val_loss: [val_loss  1.1293 ]\n",
      "[epoch: 168] [loss:  1.1571 ] [train_acc:  0.7410 ] [val_acc:  0.7471 ] val_loss: [val_loss  1.1284 ]\n",
      "[epoch: 169] [loss:  1.1537 ] [train_acc:  0.7415 ] [val_acc:  0.7471 ] val_loss: [val_loss  1.1330 ]\n"
     ]
    }
   ],
   "source": [
    "# model.load_state_dict(torch.load()))\n",
    "# model.to(DEVICE)\n",
    "trained_model = train(\n",
    "    model,\n",
    "    train_loader,\n",
    "    valid_loader,\n",
    "    loss_func,\n",
    "    num_epochs,\n",
    "    lr = lr,\n",
    "    batch_size=BATCH_SIZE,\n",
    "    warmup_interval=warmup_interval,\n",
    "    device=DEVICE\n",
    ")\n",
    "weights_path = os.path.join(os.getcwd(), \"transformer.pt\")\n",
    "torch.save(trained_model.state_dict(), weights_path)"
   ]
  },
  {
   "cell_type": "code",
   "execution_count": 110,
   "metadata": {
    "ExecutionIndicator": {
     "show": true
    },
    "execution": {
     "iopub.execute_input": "2024-12-11T01:44:38.210306Z",
     "iopub.status.busy": "2024-12-11T01:44:38.210001Z",
     "iopub.status.idle": "2024-12-11T01:44:38.286542Z",
     "shell.execute_reply": "2024-12-11T01:44:38.286093Z",
     "shell.execute_reply.started": "2024-12-11T01:44:38.210286Z"
    },
    "tags": []
   },
   "outputs": [
    {
     "name": "stdout",
     "output_type": "stream",
     "text": [
      "Final Model accuracy:  0.74\n"
     ]
    }
   ],
   "source": [
    "#Final test accuracy\n",
    "print(\n",
    "    \"Final Model accuracy: \",\n",
    "    \"{:.2f}\".format(\n",
    "        val(\n",
    "            trained_model, test_loader, CrossEntropyLoss, 4, device=DEVICE\n",
    "        )[1]\n",
    "    ),\n",
    ")\n",
    "\n",
    "# model.load_state_dict(torch.load(weights_path))\n",
    "# model.to(DEVICE)"
   ]
  },
  {
   "cell_type": "markdown",
   "metadata": {},
   "source": [
    "请自行调节模型训练的超参数、优化器等，使得模型在测试集上的准确率尽可能高。\n",
    "\n",
    "分段给分（计分时准确率四舍五入保留到小数点后2位，例如0.623计为0.62）：\n",
    "\n",
    "| Baseline  | Accuracy        | Score  |\n",
    "| :---:     |    :----:       |  :---: |\n",
    "| Vallina   | [0.50, 0.57\\)  |   6   |\n",
    "| Simple    | [0.57, 0.64\\)   |   9  |\n",
    "| Medium    | [0.64, 0.71\\)   |   11   |\n",
    "| Hard      | [0.71, 0.80\\)   |   13   |\n",
    "| Strong    | [0.80, 1.00\\)   |   15   |"
   ]
  },
  {
   "cell_type": "markdown",
   "metadata": {
    "id": "c19615d0-9b82-42ac-ba28-e079ca96aed2"
   },
   "source": [
    "## 可视化与推断：模型展示"
   ]
  },
  {
   "cell_type": "markdown",
   "metadata": {
    "id": "3f413c17-ede5-4d4d-a1fa-54458ca948c5"
   },
   "source": [
    "既然我们已经训练了一个模型，让我们来看看最终的结果。我们将首先查看来自验证数据的结果，并可视化注意力权重（记住self.weights_softmax吗？）。这些注意力权重应该让你对网络学习到了什么有一些直觉。我们已经为您实现了所有内容，意图是帮助您探索模型并了解网络学习到了什么。"
   ]
  },
  {
   "cell_type": "code",
   "execution_count": 91,
   "metadata": {
    "execution": {
     "iopub.execute_input": "2024-12-11T01:10:56.209388Z",
     "iopub.status.busy": "2024-12-11T01:10:56.208798Z",
     "iopub.status.idle": "2024-12-11T01:10:56.213785Z",
     "shell.execute_reply": "2024-12-11T01:10:56.213363Z",
     "shell.execute_reply.started": "2024-12-11T01:10:56.209368Z"
    },
    "id": "c39117ef-da8b-4fb0-904b-c5c4c37fc800",
    "tags": []
   },
   "outputs": [],
   "source": [
    "def inference(model, inp_exp, inp_exp_pos, out_pos_exp, out_seq_len):\n",
    "    model.eval()\n",
    "    y_init = torch.LongTensor([14]).unsqueeze(0).cuda().view(1, 1)\n",
    "\n",
    "    ques_emb = model.emb_layer(inp_exp)\n",
    "    q_emb_inp = ques_emb + inp_exp_pos\n",
    "    enc_out = model.encoder(q_emb_inp)\n",
    "    for i in range(out_seq_len - 1):\n",
    "        ans_emb = model.emb_layer(y_init)\n",
    "        a_emb_inp = ans_emb + out_pos_exp[:, : y_init.shape[1], :]\n",
    "        dec_out = model.decoder(a_emb_inp, enc_out, None)\n",
    "        _, next_word = torch.max(\n",
    "            dec_out[0, y_init.shape[1] - 1 : y_init.shape[1]], dim=1\n",
    "        )\n",
    "\n",
    "        y_init = torch.cat([y_init, next_word.view(1, 1)], dim=1)\n",
    "    return y_init, model"
   ]
  },
  {
   "cell_type": "markdown",
   "metadata": {
    "id": "137296b8-8ab8-4f9d-bff5-e2584370a757"
   },
   "source": [
    "### 验证数据的结果\n",
    "\n",
    "在下面的单元格中，我们选择验证数据中的第一个数据点，并找到其结果。"
   ]
  },
  {
   "cell_type": "code",
   "execution_count": 82,
   "metadata": {
    "execution": {
     "iopub.execute_input": "2024-12-11T00:52:44.046170Z",
     "iopub.status.busy": "2024-12-11T00:52:44.045610Z",
     "iopub.status.idle": "2024-12-11T00:52:44.164506Z",
     "shell.execute_reply": "2024-12-11T00:52:44.164064Z",
     "shell.execute_reply.started": "2024-12-11T00:52:44.046151Z"
    },
    "id": "37c01cc4-96b0-4a4e-a820-64e5c2dd5549",
    "tags": []
   },
   "outputs": [
    {
     "name": "stdout",
     "output_type": "stream",
     "text": [
      "Input sequence: \n",
      " BOS POSITIVE 28 add POSITIVE 16 EOS\n"
     ]
    }
   ],
   "source": [
    "for it in valid_loader:\n",
    "    it\n",
    "    break\n",
    "inp, inp_pos, out, out_pos = it\n",
    "opposite_tokens_to_str = {v: k for k, v in convert_str_to_tokens.items()}\n",
    "device = torch.device(\"cuda\")\n",
    "model = model.to(device)\n",
    "inp_pos = inp_pos.to(device)\n",
    "out_pos = out_pos.to(device)\n",
    "out = out.to(device)\n",
    "inp = inp.to(device)\n",
    "\n",
    "inp_exp = inp[:1, :]\n",
    "inp_exp_pos = inp_pos[:1]\n",
    "out_pos_exp = out_pos[:1, :]\n",
    "inp_seq = [opposite_tokens_to_str[w.item()] for w in inp_exp[0]]\n",
    "print(\n",
    "    \"Input sequence: \\n\",\n",
    "    inp_seq[0]\n",
    "    + \" \"\n",
    "    + inp_seq[1]\n",
    "    + \" \"\n",
    "    + inp_seq[2]\n",
    "    + inp_seq[3]\n",
    "    + \" \"\n",
    "    + inp_seq[4]\n",
    "    + \" \"\n",
    "    + inp_seq[5]\n",
    "    + \" \"\n",
    "    + inp_seq[6]\n",
    "    + inp_seq[7]\n",
    "    + \" \"\n",
    "    + inp_seq[8],\n",
    ")"
   ]
  },
  {
   "cell_type": "code",
   "execution_count": 83,
   "metadata": {
    "execution": {
     "iopub.execute_input": "2024-12-11T00:52:47.690172Z",
     "iopub.status.busy": "2024-12-11T00:52:47.689868Z",
     "iopub.status.idle": "2024-12-11T00:52:47.730993Z",
     "shell.execute_reply": "2024-12-11T00:52:47.730528Z",
     "shell.execute_reply.started": "2024-12-11T00:52:47.690154Z"
    },
    "id": "ab535f1d-3be0-40ef-a0fd-8fca2fae2414",
    "tags": []
   },
   "outputs": [
    {
     "name": "stdout",
     "output_type": "stream",
     "text": [
      "Output Sequence:\tBOS POSITIVE \n"
     ]
    }
   ],
   "source": [
    "out_seq_ans, _ = inference(\n",
    "    trained_model, inp_exp, inp_exp_pos, out_pos_exp, out_seq_len\n",
    ")\n",
    "\n",
    "trained_model.eval()\n",
    "\n",
    "print(\"Output Sequence:\", end=\"\\t\")\n",
    "res = \"BOS \"\n",
    "for i in range(1, out_seq_ans.size(1)):\n",
    "    sym = opposite_tokens_to_str[out_seq_ans[0, i].item()]\n",
    "    if sym == \"EOS\":\n",
    "        break\n",
    "    res += sym + \" \" \n",
    "print(res)"
   ]
  },
  {
   "cell_type": "markdown",
   "metadata": {
    "id": "3412c073-d239-450a-aa46-9ec3d61309a6"
   },
   "source": [
    "### 选择您自己的探索示例\n",
    "\n",
    "在下面的单元格中，您可以输入一个示例到输入样式中，更改变量 `custom_seq`。我们已经为您填写了一个占位表达式，但随意更改它。"
   ]
  },
  {
   "cell_type": "code",
   "execution_count": 84,
   "metadata": {
    "execution": {
     "iopub.execute_input": "2024-12-11T00:52:49.883537Z",
     "iopub.status.busy": "2024-12-11T00:52:49.883016Z",
     "iopub.status.idle": "2024-12-11T00:52:49.886952Z",
     "shell.execute_reply": "2024-12-11T00:52:49.886233Z",
     "shell.execute_reply.started": "2024-12-11T00:52:49.883493Z"
    },
    "id": "d7d2f3b1-ba94-4ccf-84e3-f3238059f25d",
    "tags": []
   },
   "outputs": [],
   "source": [
    "custom_seq = \"BOS POSITIVE 02 subtract NEGATIVE 07 EOS\""
   ]
  },
  {
   "cell_type": "code",
   "execution_count": 85,
   "metadata": {
    "execution": {
     "iopub.execute_input": "2024-12-11T00:52:50.930370Z",
     "iopub.status.busy": "2024-12-11T00:52:50.930070Z",
     "iopub.status.idle": "2024-12-11T00:52:50.975483Z",
     "shell.execute_reply": "2024-12-11T00:52:50.975041Z",
     "shell.execute_reply.started": "2024-12-11T00:52:50.930353Z"
    },
    "id": "3caa768d-f61f-4ee4-8e87-259043e93cdb",
    "tags": []
   },
   "outputs": [
    {
     "name": "stdout",
     "output_type": "stream",
     "text": [
      "Output Sequence:\tBOS POSITIVE \n"
     ]
    }
   ],
   "source": [
    "out = prepocess_input_sequence(custom_seq, convert_str_to_tokens, SPECIAL_TOKENS)\n",
    "inp_exp = torch.tensor(out).to(DEVICE)\n",
    "\n",
    "out_seq_ans, model_for_visv = inference(\n",
    "    trained_model, inp_exp, inp_exp_pos, out_pos_exp, out_seq_len\n",
    ")\n",
    "\n",
    "trained_model.eval()\n",
    "\n",
    "print(\"Output Sequence:\", end=\"\\t\")\n",
    "res = \"BOS \"\n",
    "for i in range(1, out_seq_ans.size(1)):\n",
    "    sym = opposite_tokens_to_str[out_seq_ans[0, i].item()]\n",
    "    if sym == \"EOS\":\n",
    "        break\n",
    "    res += sym + \" \"\n",
    "print(res)"
   ]
  },
  {
   "cell_type": "markdown",
   "metadata": {
    "id": "0b9ae8cd-2813-4845-a4df-d47ebdc60971"
   },
   "source": [
    "### 可视化注意力权重\n",
    "\n",
    "在这部分中，我们将为您输入的特定自定义输入可视化注意力权重。编码器和解码器有单独的热图。颜色中的较浅值显示了该行和列中存在的令牌之间的较高关联，而较暗的颜色则显示它们之间的关系较弱。"
   ]
  },
  {
   "cell_type": "code",
   "execution_count": 86,
   "metadata": {
    "execution": {
     "iopub.execute_input": "2024-12-11T00:52:53.459482Z",
     "iopub.status.busy": "2024-12-11T00:52:53.458951Z",
     "iopub.status.idle": "2024-12-11T00:52:53.463173Z",
     "shell.execute_reply": "2024-12-11T00:52:53.462650Z",
     "shell.execute_reply.started": "2024-12-11T00:52:53.459465Z"
    },
    "id": "8e82ff56-d55b-45b7-8507-514ee5968ed5",
    "tags": []
   },
   "outputs": [],
   "source": [
    "def draw(data, x, y, ax):\n",
    "    seaborn.heatmap(\n",
    "        data,\n",
    "        xticklabels=x,\n",
    "        square=True,\n",
    "        yticklabels=y,\n",
    "        vmin=0.0,\n",
    "        vmax=1.0,\n",
    "        cbar=False,\n",
    "        ax=ax,\n",
    "    )"
   ]
  },
  {
   "cell_type": "code",
   "execution_count": 87,
   "metadata": {
    "execution": {
     "iopub.execute_input": "2024-12-11T00:52:55.686584Z",
     "iopub.status.busy": "2024-12-11T00:52:55.686110Z",
     "iopub.status.idle": "2024-12-11T00:52:55.689827Z",
     "shell.execute_reply": "2024-12-11T00:52:55.689313Z",
     "shell.execute_reply.started": "2024-12-11T00:52:55.686564Z"
    },
    "id": "db22789f",
    "tags": []
   },
   "outputs": [],
   "source": [
    "target_exp = res.split()"
   ]
  },
  {
   "cell_type": "code",
   "execution_count": 88,
   "metadata": {
    "execution": {
     "iopub.execute_input": "2024-12-11T00:52:57.069170Z",
     "iopub.status.busy": "2024-12-11T00:52:57.068814Z",
     "iopub.status.idle": "2024-12-11T00:52:58.326372Z",
     "shell.execute_reply": "2024-12-11T00:52:58.325921Z",
     "shell.execute_reply.started": "2024-12-11T00:52:57.069154Z"
    },
    "id": "9cae7e26-2587-4297-a44c-c59ab541dfc8",
    "tags": []
   },
   "outputs": [
    {
     "name": "stdout",
     "output_type": "stream",
     "text": [
      "Encoder Block Number 1\n"
     ]
    },
    {
     "data": {
      "image/png": "[encoded data removed]",
      "text/plain": [
       "<Figure size 2000x1000 with 4 Axes>"
      ]
     },
     "metadata": {},
     "output_type": "display_data"
    },
    {
     "name": "stdout",
     "output_type": "stream",
     "text": [
      "Encoder Block Number 2\n"
     ]
    },
    {
     "data": {
      "image/png": "[encoded data removed]",
      "text/plain": [
       "<Figure size 2000x1000 with 4 Axes>"
      ]
     },
     "metadata": {},
     "output_type": "display_data"
    },
    {
     "name": "stdout",
     "output_type": "stream",
     "text": [
      "Encoder Block Number 3\n"
     ]
    },
    {
     "data": {
      "image/png": "[encoded data removed]",
      "text/plain": [
       "<Figure size 2000x1000 with 4 Axes>"
      ]
     },
     "metadata": {},
     "output_type": "display_data"
    },
    {
     "name": "stdout",
     "output_type": "stream",
     "text": [
      "Encoder Block Number 4\n"
     ]
    },
    {
     "data": {
      "image/png": "[encoded data removed]",
      "text/plain": [
       "<Figure size 2000x1000 with 4 Axes>"
      ]
     },
     "metadata": {},
     "output_type": "display_data"
    }
   ],
   "source": [
    "for layer in range(num_enc_layers):\n",
    "    fig, axs = plt.subplots(1, num_heads, figsize=(20, 10))\n",
    "    print(\"Encoder Block Number\", layer + 1)\n",
    "    for h in range(num_heads):\n",
    "        draw(\n",
    "            trained_model.encoder.layers[layer]\n",
    "            .multihead_attention.heads[h]\n",
    "            .weights_softmax.data.cpu()\n",
    "            .numpy()[0],\n",
    "            inp_seq,\n",
    "            inp_seq if h == 0 else [],\n",
    "            ax=axs[h],\n",
    "        )\n",
    "    plt.show()\n",
    "plt.close()\n"
   ]
  },
  {
   "cell_type": "code",
   "execution_count": 89,
   "metadata": {
    "ExecutionIndicator": {
     "show": true
    },
    "execution": {
     "iopub.execute_input": "2024-12-11T00:53:04.337195Z",
     "iopub.status.busy": "2024-12-11T00:53:04.336625Z",
     "iopub.status.idle": "2024-12-11T00:53:06.319155Z",
     "shell.execute_reply": "2024-12-11T00:53:06.318696Z",
     "shell.execute_reply.started": "2024-12-11T00:53:04.337175Z"
    },
    "id": "be6ba6cb",
    "tags": []
   },
   "outputs": [
    {
     "name": "stdout",
     "output_type": "stream",
     "text": [
      "axs: [<AxesSubplot:> <AxesSubplot:> <AxesSubplot:> <AxesSubplot:>], type: <class 'numpy.ndarray'>\n",
      "Decoder Block number  1\n",
      "Decoder Self Attention 1\n"
     ]
    },
    {
     "data": {
      "image/png": "[encoded data removed]",
      "text/plain": [
       "<Figure size 2000x1000 with 4 Axes>"
      ]
     },
     "metadata": {},
     "output_type": "display_data"
    },
    {
     "name": "stdout",
     "output_type": "stream",
     "text": [
      "Decoder Cross attention 1\n"
     ]
    },
    {
     "data": {
      "image/png": "[encoded data removed]",
      "text/plain": [
       "<Figure size 2000x1000 with 4 Axes>"
      ]
     },
     "metadata": {},
     "output_type": "display_data"
    },
    {
     "name": "stdout",
     "output_type": "stream",
     "text": [
      "Decoder Block number  2\n",
      "Decoder Self Attention 2\n"
     ]
    },
    {
     "data": {
      "image/png": "[encoded data removed]",
      "text/plain": [
       "<Figure size 2000x1000 with 4 Axes>"
      ]
     },
     "metadata": {},
     "output_type": "display_data"
    },
    {
     "name": "stdout",
     "output_type": "stream",
     "text": [
      "Decoder Cross attention 2\n"
     ]
    },
    {
     "data": {
      "image/png": "[encoded data removed]",
      "text/plain": [
       "<Figure size 2000x1000 with 4 Axes>"
      ]
     },
     "metadata": {},
     "output_type": "display_data"
    },
    {
     "name": "stdout",
     "output_type": "stream",
     "text": [
      "Decoder Block number  3\n",
      "Decoder Self Attention 3\n"
     ]
    },
    {
     "data": {
      "image/png": "[encoded data removed]",
      "text/plain": [
       "<Figure size 2000x1000 with 4 Axes>"
      ]
     },
     "metadata": {},
     "output_type": "display_data"
    },
    {
     "name": "stdout",
     "output_type": "stream",
     "text": [
      "Decoder Cross attention 3\n"
     ]
    },
    {
     "data": {
      "image/png": "[encoded data removed]",
      "text/plain": [
       "<Figure size 2000x1000 with 4 Axes>"
      ]
     },
     "metadata": {},
     "output_type": "display_data"
    },
    {
     "name": "stdout",
     "output_type": "stream",
     "text": [
      "Decoder Block number  4\n",
      "Decoder Self Attention 4\n"
     ]
    },
    {
     "data": {
      "image/png": "[encoded data removed]",
      "text/plain": [
       "<Figure size 2000x1000 with 4 Axes>"
      ]
     },
     "metadata": {},
     "output_type": "display_data"
    },
    {
     "name": "stdout",
     "output_type": "stream",
     "text": [
      "Decoder Cross attention 4\n"
     ]
    },
    {
     "data": {
      "image/png": "[encoded data removed]",
      "text/plain": [
       "<Figure size 2000x1000 with 4 Axes>"
      ]
     },
     "metadata": {},
     "output_type": "display_data"
    }
   ],
   "source": [
    "print(f\"axs: {axs}, type: {type(axs)}\")\n",
    "\n",
    "for layer in range(num_dec_layers):\n",
    "    fig, axs = plt.subplots(1, num_heads, figsize=(20, 10))\n",
    "\n",
    "    print(\"Decoder Block number \", layer + 1)\n",
    "\n",
    "    print(\"Decoder Self Attention\", layer + 1)\n",
    "    for h in range(num_heads):\n",
    "        draw(\n",
    "            trained_model.decoder.layers[layer]\n",
    "            .attention_self.heads[h]\n",
    "            .weights_softmax.data.cpu()\n",
    "            .numpy()[0],\n",
    "            target_exp,\n",
    "            target_exp if h == 0 else [],\n",
    "            ax=axs[h],\n",
    "        )\n",
    "    plt.show()\n",
    "    print(\"Decoder Cross attention\", layer + 1)\n",
    "    fig, axs = plt.subplots(1, 4, figsize=(20, 10))\n",
    "    for h in range(num_heads):\n",
    "        draw(\n",
    "            trained_model.decoder.layers[layer]\n",
    "            .attention_cross.heads[h]\n",
    "            .weights_softmax.data.cpu()\n",
    "            .numpy()[0],\n",
    "            inp_seq,\n",
    "            target_exp if h == 0 else [],\n",
    "            ax=axs[h],\n",
    "        )\n",
    "    plt.show()"
   ]
  }
 ],
 "metadata": {
  "accelerator": "GPU",
  "colab": {
   "collapsed_sections": [
    "b43b5e66-7d96-49a7-8d73-649c1d8de2ef",
    "137296b8-8ab8-4f9d-bff5-e2584370a757",
    "3412c073-d239-450a-aa46-9ec3d61309a6",
    "0b9ae8cd-2813-4845-a4df-d47ebdc60971"
   ],
   "name": "Transformers.ipynb",
   "provenance": []
  },
  "interpreter": {
   "hash": "3e6a8e772529b48ea93620fbc55d49ea9e469a86dedbc53ac24607b5264d00e5"
  },
  "kaggle": {
   "accelerator": "none",
   "dataSources": [
    {
     "datasetId": 4867368,
     "sourceId": 8212761,
     "sourceType": "datasetVersion"
    }
   ],
   "dockerImageVersionId": 30699,
   "isGpuEnabled": false,
   "isInternetEnabled": true,
   "language": "python",
   "sourceType": "notebook"
  },
  "kernelspec": {
   "display_name": "Python 3 (ipykernel)",
   "language": "python",
   "name": "python3"
  },
  "language_info": {
   "codemirror_mode": {
    "name": "ipython",
    "version": 3
   },
   "file_extension": ".py",
   "mimetype": "text/x-python",
   "name": "python",
   "nbconvert_exporter": "python",
   "pygments_lexer": "ipython3",
   "version": "3.9.15"
  }
 },
 "nbformat": 4,
 "nbformat_minor": 4
}
