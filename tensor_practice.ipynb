{
 "cells": [
  {
   "cell_type": "markdown",
   "metadata": {},
   "source": [
    "# Lab 1.1 PyTorch Tensor基础\n",
    "在这个notebook中，我们将学习PyTorch Tensor的一些基础知识，并完成最后的练习。\n",
    "\n",
    "同学可以阅读教程并逐个运行代码块来观察程序输出。Lab 1.1中不需要用到大量的GPU加速，只需要同学们在notebook最后部分尝试。如果要打开GPU加速，请参考Lab1 PPT中阿里云算力使用的说明。\n",
    "\n",
    "如果是CPU环境，下面的torch.cuda.is_available()会输出False；GPU环境则输出True。"
   ]
  },
  {
   "cell_type": "code",
   "execution_count": 3,
   "metadata": {
    "_cell_guid": "b1076dfc-b9ad-4769-8c92-a6c4dae69d19",
    "_uuid": "8f2839f25d086af736a60e9eeb907d3b93b6e0e5",
    "execution": {
     "iopub.execute_input": "2024-10-18T11:36:05.198967Z",
     "iopub.status.busy": "2024-10-18T11:36:05.198614Z",
     "iopub.status.idle": "2024-10-18T11:36:05.202078Z",
     "shell.execute_reply": "2024-10-18T11:36:05.201556Z",
     "shell.execute_reply.started": "2024-10-18T11:36:05.198949Z"
    },
    "tags": []
   },
   "outputs": [
    {
     "name": "stdout",
     "output_type": "stream",
     "text": [
      "True\n",
      "1.12.1+cu113\n"
     ]
    }
   ],
   "source": [
    "import torch\n",
    "print(torch.cuda.is_available())\n",
    "print(torch.__version__)"
   ]
  },
  {
   "cell_type": "markdown",
   "metadata": {},
   "source": [
    "## 为什么需要张量？\n",
    "\n",
    "为了回答这个问题，我们将PyTorch张量和Python列表、NumPy数组做了一个简单的对比。同时我们比较使用GPU加速的PyTorch张量计算和仅用CPU计算的情况。下面这段代码同学们可以不用运行，结果已经给出。"
   ]
  },
  {
   "cell_type": "code",
   "execution_count": 30,
   "metadata": {
    "ExecutionIndicator": {
     "show": false
    },
    "execution": {
     "iopub.execute_input": "2024-10-19T09:15:17.382150Z",
     "iopub.status.busy": "2024-10-19T09:15:17.381582Z",
     "iopub.status.idle": "2024-10-19T09:15:17.459657Z",
     "shell.execute_reply": "2024-10-19T09:15:17.459060Z",
     "shell.execute_reply.started": "2024-10-19T09:15:17.382131Z"
    },
    "tags": []
   },
   "outputs": [
    {
     "name": "stdout",
     "output_type": "stream",
     "text": [
      "Python List Time: 0.045069217681884766 seconds\n",
      "NumPy Array Time: 0.0017247200012207031 seconds\n",
      "PyTorch Tensor Time: 0.0009222030639648438 seconds\n",
      "PyTorch Tensor Cuda Time: 0.00013303756713867188 seconds\n"
     ]
    }
   ],
   "source": [
    "import numpy as np\n",
    "import torch\n",
    "import time\n",
    "\n",
    "how_long = 1000000\n",
    "\n",
    "a = list(range(how_long))\n",
    "b = np.arange(how_long)\n",
    "c = torch.arange(how_long)\n",
    "d = torch.arange(how_long).cuda()\n",
    "\n",
    "start_time = time.time() #记录当前时间戳\n",
    "a = [tmp + 1 for tmp in a] #这是一个列表推导式 操作/取出元素/对象\n",
    "print(f\"Python List Time: {time.time() - start_time} seconds\") \n",
    "#f为格式化字符串，允许在字符串里插入变量，大括号包裹即可\n",
    "\n",
    "start_time = time.time()\n",
    "b = b + 1.0 #对 b 中的所有元素逐个执行加法运算,直接作用在整个数组\n",
    "print(f\"NumPy Array Time: {time.time() - start_time} seconds\")\n",
    "\n",
    "start_time = time.time()\n",
    "c = c + 1.0\n",
    "print(f\"PyTorch Tensor Time: {time.time() - start_time} seconds\")\n",
    "\n",
    "start_time = time.time()\n",
    "d = d + 1.0\n",
    "print(f\"PyTorch Tensor Cuda Time: {time.time() - start_time} seconds\")"
   ]
  },
  {
   "attachments": {
    "4f74880d-7355-42af-ae01-2363bc0e9506.png": {
     "image/png": "[encoded data removed]"
    }
   },
   "cell_type": "markdown",
   "metadata": {},
   "source": [
    "对一个长度为一百万的数组每个元素加一，我们可以看到四种方式的用时比较：\n",
    "\n",
    "![1708170565359.png](attachment:4f74880d-7355-42af-ae01-2363bc0e9506.png)\n",
    "\n",
    "速度上：PyTorch Tensor Cuda (GPU) > PyTorch Tensor (CPU) > NumPy Array > Python List\n",
    "\n",
    "利用GPU并行计算的特性，速度会大大加快。深度学习中涉及大量的矩阵加法、矩阵乘法，而这些操作可以很好地并行，因此使用PyTorch Tensor，可以帮助我们高效地进行深度学习的模型训练、推理。尤其是在深度学习模型、数据集规模都非常庞大的今天。"
   ]
  },
  {
   "cell_type": "markdown",
   "metadata": {},
   "source": [
    "## Tensor基础\n",
    "\n",
    "### 创建、读写张量\n",
    "+ 一个张量（Tensor）是一个多维的数组，其中所有元素值的类型（int, long, boolean, float32, ...）相同。\n",
    "+ 张量维度的数量是张量的秩（rank）；张量的形状（shape）是一个整数元组，给出了数组沿每个维度的大小。\n",
    "+ 我们可以从Python列表、NumPy数组来初始化torch张量。类似于Python列表，我们可以使用方括号访问或修改PyTorch张量的元素。\n",
    "+ 从PyTorch张量访问一个元素返回一个PyTorch标量；我们可以使用.item()方法将其转换为Python标量。"
   ]
  },
  {
   "cell_type": "code",
   "execution_count": 9,
   "metadata": {
    "ExecutionIndicator": {
     "show": true
    },
    "execution": {
     "iopub.execute_input": "2024-10-18T07:27:20.005585Z",
     "iopub.status.busy": "2024-10-18T07:27:20.004950Z",
     "iopub.status.idle": "2024-10-18T07:27:20.021865Z",
     "shell.execute_reply": "2024-10-18T07:27:20.021183Z",
     "shell.execute_reply.started": "2024-10-18T07:27:20.005559Z"
    },
    "tags": []
   },
   "outputs": [
    {
     "name": "stdout",
     "output_type": "stream",
     "text": [
      "Here is b:\n",
      "tensor([[1, 2, 3],\n",
      "        [4, 5, 5]])\n",
      "rank of b: 2\n",
      "b.shape:  torch.Size([2, 3])\n",
      "\n",
      "b[0, 1]: tensor(2)\n",
      "b[1, 2]: tensor(5)\n",
      "\n",
      "b after mutating:\n",
      "tensor([[  1,   2,   3],\n",
      "        [  4, 100,   5]])\n"
     ]
    }
   ],
   "source": [
    "# Create a two-dimensional tensor\n",
    "import torch\n",
    "b = torch.tensor([[1, 2, 3], [4, 5, 5]])\n",
    "print('Here is b:')\n",
    "print(b)\n",
    "print('rank of b:', b.dim())\n",
    "print('b.shape: ', b.shape)\n",
    "# Access elements\n",
    "print()\n",
    "print('b[0, 1]:', b[0, 1]) #第0行第0列开始\n",
    "print('b[1, 2]:', b[1, 2])\n",
    "# Mutate elements\n",
    "b[1, 1] = 100\n",
    "print()\n",
    "print('b after mutating:')\n",
    "print(b)"
   ]
  },
  {
   "cell_type": "markdown",
   "metadata": {
    "tags": []
   },
   "source": [
    "### Tensor构造函数\n",
    "PyTorch提供了很多内置的构造函数来构造张量，从而避免我们重复地手写Python列表。一些常用的构造函数如下：\n",
    "+ [`torch.zeros`](https://pytorch.org/docs/stable/generated/torch.zeros.html): 创建一个全是0的张量\n",
    "+ [`torch.ones`](https://pytorch.org/docs/stable/generated/torch.ones.html): 创建一个全是1的张量\n",
    "+ [`torch.rand`](https://pytorch.org/docs/stable/generated/torch.rand.html): 创建一个包含正态分布随机数的张量\n",
    "+ [更多构造函数](https://pytorch.org/docs/stable/torch.html#creation-ops)"
   ]
  },
  {
   "cell_type": "code",
   "execution_count": 19,
   "metadata": {
    "execution": {
     "iopub.execute_input": "2024-10-17T11:42:52.575088Z",
     "iopub.status.busy": "2024-10-17T11:42:52.574527Z",
     "iopub.status.idle": "2024-10-17T11:42:52.580366Z",
     "shell.execute_reply": "2024-10-17T11:42:52.579895Z",
     "shell.execute_reply.started": "2024-10-17T11:42:52.575069Z"
    },
    "tags": []
   },
   "outputs": [
    {
     "name": "stdout",
     "output_type": "stream",
     "text": [
      "tensor of zeros:\n",
      "tensor([[0., 0., 0.],\n",
      "        [0., 0., 0.]])\n",
      "\n",
      "tensor of ones:\n",
      "tensor([[1., 1.]])\n",
      "\n",
      "identity matrix:\n",
      "tensor([[1., 0., 0.],\n",
      "        [0., 1., 0.],\n",
      "        [0., 0., 1.]])\n",
      "\n",
      "random tensor:\n",
      "tensor([[0.9664, 0.2850, 0.4516, 0.8149, 0.1477],\n",
      "        [0.3619, 0.9907, 0.1075, 0.1545, 0.5399],\n",
      "        [0.1312, 0.2888, 0.8977, 0.6411, 0.9614],\n",
      "        [0.5705, 0.1212, 0.0764, 0.3816, 0.3106]])\n",
      "shape of d: torch.Size([4, 5])\n"
     ]
    }
   ],
   "source": [
    "# Create a tensor of all zeros\n",
    "a = torch.zeros(2, 3)\n",
    "print('tensor of zeros:')\n",
    "print(a)\n",
    "\n",
    "# Create a tensor of all ones\n",
    "b = torch.ones(1, 2)\n",
    "print('\\ntensor of ones:')\n",
    "print(b)\n",
    "\n",
    "# Create a 3x3 identity matrix\n",
    "c = torch.eye(3)\n",
    "print('\\nidentity matrix:')\n",
    "print(c)\n",
    "\n",
    "# Tensor of random values\n",
    "d = torch.rand(4, 5)\n",
    "print('\\nrandom tensor:')\n",
    "print(d)\n",
    "print(f'shape of d: {d.shape}')"
   ]
  },
  {
   "cell_type": "markdown",
   "metadata": {},
   "source": [
    "### 数据类型\n",
    "在上面的例子中，你可能已经注意到，我们的一些张量包含了浮点值，而其他的包含了整数值。PyTorch 提供了一大套数值数据类型，你可以用它们来构造张量。当你创建一个张量时，PyTorch 会尝试猜测一个数据类型；构造张量的函数通常有一个 dtype 参数，你可以使用它来显式指定一个数据类型，也可以对某个张量访问这个参数来知道它的数据类型是什么。"
   ]
  },
  {
   "cell_type": "code",
   "execution_count": 20,
   "metadata": {
    "execution": {
     "iopub.execute_input": "2024-10-17T11:42:55.403610Z",
     "iopub.status.busy": "2024-10-17T11:42:55.403043Z",
     "iopub.status.idle": "2024-10-17T11:42:55.409033Z",
     "shell.execute_reply": "2024-10-17T11:42:55.408537Z",
     "shell.execute_reply.started": "2024-10-17T11:42:55.403591Z"
    },
    "tags": []
   },
   "outputs": [
    {
     "name": "stdout",
     "output_type": "stream",
     "text": [
      "dtype when torch chooses for us:\n",
      "List of integers: torch.int64\n",
      "List of floats: torch.float32\n",
      "Mixed list: torch.float32\n",
      "\n",
      "dtype when we force a datatype:\n",
      "32-bit float:  torch.float32\n",
      "32-bit integer:  torch.int32\n",
      "\n",
      "torch.ones with different dtypes\n",
      "default dtype: torch.float32\n",
      "16-bit integer: torch.int16\n"
     ]
    }
   ],
   "source": [
    "# Let torch choose the datatype\n",
    "x0 = torch.tensor([1, 2])   # List of integers\n",
    "x1 = torch.tensor([1., 2.]) # List of floats\n",
    "x2 = torch.tensor([1., 2])  # Mixed list\n",
    "print('dtype when torch chooses for us:')\n",
    "print('List of integers:', x0.dtype)\n",
    "print('List of floats:', x1.dtype)\n",
    "print('Mixed list:', x2.dtype)\n",
    "\n",
    "# Force a particular datatype\n",
    "y0 = torch.tensor([1, 2], dtype=torch.float32)  # 32-bit float\n",
    "y1 = torch.tensor([1, 2], dtype=torch.int32)    # 32-bit (signed) integer\n",
    "print('\\ndtype when we force a datatype:')\n",
    "print('32-bit float: ', y0.dtype)\n",
    "print('32-bit integer: ', y1.dtype)\n",
    "\n",
    "# Other creation ops also take a dtype argument\n",
    "z0 = torch.ones(1, 2)  # Let torch choose for us\n",
    "z1 = torch.ones(1, 2, dtype=torch.int16) # 16-bit (signed) integer\n",
    "print('\\ntorch.ones with different dtypes')\n",
    "print('default dtype:', z0.dtype)\n",
    "print('16-bit integer:', z1.dtype)"
   ]
  },
  {
   "cell_type": "markdown",
   "metadata": {},
   "source": [
    "### Tensor索引（切片，Slice）\n",
    "类似于 Python 列表和 numpy 数组，PyTorch 张量可以使用 start:stop 或 start:stop:step 语法进行切片。这里和Python列表类似是左闭右开区间，即选择出来的元素包含start，但是不包含stop。\n",
    "\n",
    "开始和停止索引可以是负数，在这种情况下，它们从张量的末尾向后计数。"
   ]
  },
  {
   "cell_type": "code",
   "execution_count": 21,
   "metadata": {
    "execution": {
     "iopub.execute_input": "2024-10-17T11:42:58.856113Z",
     "iopub.status.busy": "2024-10-17T11:42:58.855647Z",
     "iopub.status.idle": "2024-10-17T11:42:58.864073Z",
     "shell.execute_reply": "2024-10-17T11:42:58.863617Z",
     "shell.execute_reply.started": "2024-10-17T11:42:58.856095Z"
    },
    "tags": []
   },
   "outputs": [
    {
     "name": "stdout",
     "output_type": "stream",
     "text": [
      "0 [1, 2, 3, 4, 5, 6, 7, 8, 9, 10]\n",
      "1 [3, 4, 5]\n",
      "2 [3, 4, 5, 6, 7, 8, 9, 10]\n",
      "3 [1, 2, 3, 4, 5]\n",
      "4 [1, 2, 3, 4, 5, 6, 7, 8, 9, 10]\n",
      "5 [2, 4]\n",
      "6 [1, 2, 3, 4, 5, 6, 7, 8, 9]\n",
      "7 [7, 9]\n",
      "0 tensor([ 1,  2,  3,  4,  5,  6,  7,  8,  9, 10])\n",
      "1 tensor([3, 4, 5])\n",
      "2 tensor([ 3,  4,  5,  6,  7,  8,  9, 10])\n",
      "3 tensor([1, 2, 3, 4, 5])\n",
      "4 tensor([ 1,  2,  3,  4,  5,  6,  7,  8,  9, 10])\n",
      "5 tensor([2, 4])\n",
      "6 tensor([1, 2, 3, 4, 5, 6, 7, 8, 9])\n",
      "7 tensor([7, 9])\n"
     ]
    }
   ],
   "source": [
    "# A quick review for slicing Python list\n",
    "a = [1, 2, 3, 4, 5, 6, 7, 8, 9, 10]\n",
    "print(0, a)        # (0) Original\n",
    "print(1, a[2:5])   # (1) Elements between index 2 and 5\n",
    "print(2, a[2:])    # (2) Elements after index 2\n",
    "print(3, a[:5])    # (3) Elements before index 5\n",
    "print(4, a[:])     # (4) All elements\n",
    "print(5, a[1:5:2]) # (5) Every second element between indices 1 and 5\n",
    "print(6, a[:-1])   # (6) All but the last element\n",
    "print(7, a[-4::2]) # (7) Every second element, starting from the fourth-last\n",
    "\n",
    "# PyTorch has the same behavior\n",
    "a = torch.tensor([1, 2, 3, 4, 5, 6, 7, 8, 9, 10])\n",
    "print(0, a)        # (0) Original tensor\n",
    "print(1, a[2:5])   # (1) Elements between index 2 and 5\n",
    "print(2, a[2:])    # (2) Elements after index 2\n",
    "print(3, a[:5])    # (3) Elements before index 5\n",
    "print(4, a[:])     # (4) All elements\n",
    "print(5, a[1:5:2]) # (5) Every second element between indices 1 and 5\n",
    "print(6, a[:-1])   # (6) All but the last element\n",
    "print(7, a[-4::2]) # (7) Every second element, starting from the fourth-last"
   ]
  },
  {
   "cell_type": "markdown",
   "metadata": {},
   "source": [
    "对于多维数组，你可以为每一个数组维度提供这样一个切片来索引出你需要的部分。"
   ]
  },
  {
   "cell_type": "code",
   "execution_count": 23,
   "metadata": {
    "ExecutionIndicator": {
     "show": true
    },
    "execution": {
     "iopub.execute_input": "2024-10-17T11:43:05.728318Z",
     "iopub.status.busy": "2024-10-17T11:43:05.727741Z",
     "iopub.status.idle": "2024-10-17T11:43:05.733188Z",
     "shell.execute_reply": "2024-10-17T11:43:05.732724Z",
     "shell.execute_reply.started": "2024-10-17T11:43:05.728299Z"
    },
    "tags": []
   },
   "outputs": [
    {
     "name": "stdout",
     "output_type": "stream",
     "text": [
      "Original tensor\n",
      "tensor([[ 1,  2,  3,  4],\n",
      "        [ 5,  6,  7,  8],\n",
      "        [ 9, 10, 11, 12]])\n",
      "tensor([[ 5,  6],\n",
      "        [ 9, 10]]) torch.Size([2, 2])\n",
      "tensor([[5]]) torch.Size([1, 1])\n",
      "tensor(5) torch.Size([])\n"
     ]
    }
   ],
   "source": [
    "# Create the following rank 2 tensor with shape (3, 4)\n",
    "a = torch.tensor([[1,2,3,4], [5,6,7,8], [9,10,11,12]])\n",
    "print('Original tensor')\n",
    "print(a)\n",
    "\n",
    "# From row 1 to row 2; From col 0 to col 1\n",
    "a1 = a[1:3, 0:2]\n",
    "print(a1, a1.shape)\n",
    "\n",
    "# From row 1 to row 1; From col 0 to col 0\n",
    "a2 = a[1:2, 0:1]\n",
    "print(a2, a2.shape) # rank is preserved\n",
    "\n",
    "# row 1; col 0\n",
    "\n",
    "a3 = a[1, 0]\n",
    "print(a3, a3.shape) # rank is not preserved"
   ]
  },
  {
   "cell_type": "markdown",
   "metadata": {},
   "source": [
    "### Tensor索引（数组索引）\n",
    "当你使用切片对 torch 张量进行索引时，得到的张量视图将始终是原张量的一个子数组。\n",
    "相比于切片，我们还可以使用一个数组来索引张量，让我们在构造新张量时比使用切片拥有更多的灵活性。\n",
    "\n",
    "这个步骤可以理解为：我们先定义一个数组，并将数组中的每一个元素作为索引找出我们需要的部分，并按照数组的顺序将这些部分组合成新的张量。\n",
    "\n",
    "例如，我们可以使用数组来按照某一个特定维度索引张量（一次取出某一个行/列），也可以同时对多个维度进行索引："
   ]
  },
  {
   "cell_type": "code",
   "execution_count": 25,
   "metadata": {
    "ExecutionIndicator": {
     "show": true
    },
    "execution": {
     "iopub.execute_input": "2024-10-17T11:43:23.164656Z",
     "iopub.status.busy": "2024-10-17T11:43:23.164190Z",
     "iopub.status.idle": "2024-10-17T11:43:23.170641Z",
     "shell.execute_reply": "2024-10-17T11:43:23.170163Z",
     "shell.execute_reply.started": "2024-10-17T11:43:23.164638Z"
    },
    "tags": []
   },
   "outputs": [
    {
     "name": "stdout",
     "output_type": "stream",
     "text": [
      "Original tensor:\n",
      "tensor([[ 1,  2,  3,  4],\n",
      "        [ 5,  6,  7,  8],\n",
      "        [ 9, 10, 11, 12]])\n",
      "\n",
      "Reordered rows:\n",
      "tensor([[ 1,  2,  3,  4],\n",
      "        [ 1,  2,  3,  4],\n",
      "        [ 9, 10, 11, 12],\n",
      "        [ 5,  6,  7,  8],\n",
      "        [ 5,  6,  7,  8]])\n",
      "\n",
      "Reordered columns:\n",
      "tensor([[ 4,  3,  2,  1],\n",
      "        [ 8,  7,  6,  5],\n",
      "        [12, 11, 10,  9]])\n",
      "\n",
      "Indexing multiple dimensions:\n",
      "tensor([10,  7,  1])\n"
     ]
    }
   ],
   "source": [
    "# Create the following rank 2 tensor with shape (3, 4)\n",
    "# [[ 1  2  3  4]\n",
    "#  [ 5  6  7  8]\n",
    "#  [ 9 10 11 12]]\n",
    "a = torch.tensor([[1, 2, 3, 4], [5, 6, 7, 8], [9, 10, 11, 12]])\n",
    "print('Original tensor:')\n",
    "print(a)\n",
    "\n",
    "# Create a new tensor of shape (5, 4) by reordering rows from a:\n",
    "# - First two rows same as the first row of a\n",
    "# - Third row is the same as the last row of a\n",
    "# - Fourth and fifth rows are the same as the second row from a\n",
    "idx = [0, 0, 2, 1, 1]  # index arrays can be Python lists of integers\n",
    "print('\\nReordered rows:')\n",
    "print(a[idx])\n",
    "\n",
    "# Create a new tensor of shape (3, 4) by reversing the columns from a\n",
    "idx = torch.tensor([3, 2, 1, 0])  # Index arrays can be int64 torch tensors\n",
    "print('\\nReordered columns:')\n",
    "print(a[:, idx])\n",
    "\n",
    "# Indexing multiple dimensions together\n",
    "# idx_row and idx_col should have the same shape\n",
    "# or be broadcastable together (refer to following chapters for broadcasting)\n",
    "# In the following example, we index elements at (2, 1), (1, 2), (0, 0)\n",
    "idx_row = torch.tensor([2, 1, 0])\n",
    "idx_col = torch.tensor([1, 2, 0])\n",
    "print('\\nIndexing multiple dimensions:')\n",
    "print(a[idx_row, idx_col])"
   ]
  },
  {
   "cell_type": "markdown",
   "metadata": {},
   "source": [
    "### 根据索引给Tensor赋值\n",
    "当你使用切片、数组这两种方式来索引一个Tensor时，可以对选定的部分赋上新的值。这种赋值操作被称为in-place操作，也就是该张量并没有被新建，只有它内部的元素值发生变化。具体来说，它内存的地址没有变化。\n",
    "\n",
    "因此，如果我们把同一个张量赋值给多个Python变量，更改其中一个会导致原始张量发生变化。但是如果我们将某个张量克隆，它们就有了新的地址，可以被区分。我们看看代码区分这两种操作。\n",
    "\n",
    "我们通常可以用.data_ptr()来看两个变量是否指向了同一个张量。"
   ]
  },
  {
   "cell_type": "code",
   "execution_count": 28,
   "metadata": {
    "execution": {
     "iopub.execute_input": "2024-10-17T11:44:39.672975Z",
     "iopub.status.busy": "2024-10-17T11:44:39.672367Z",
     "iopub.status.idle": "2024-10-17T11:44:39.680809Z",
     "shell.execute_reply": "2024-10-17T11:44:39.680259Z",
     "shell.execute_reply.started": "2024-10-17T11:44:39.672956Z"
    },
    "tags": []
   },
   "outputs": [
    {
     "name": "stdout",
     "output_type": "stream",
     "text": [
      "Original tensor:\n",
      "tensor([[ 1,  2,  3,  4],\n",
      "        [ 5,  6,  7,  8],\n",
      "        [ 9, 10, 11, 12]])\n",
      "\n",
      "a with new Values at col.1:\n",
      "tensor([[  1, 100,   3,   4],\n",
      "        [  5, 100,   7,   8],\n",
      "        [  9, 100,  11,  12]])\n",
      "\n",
      "modifying b also changes a:\n",
      "tensor([[  1, 100,  10,   4],\n",
      "        [  5, 100,  10,   8],\n",
      "        [  9, 100,  10,  12]])\n",
      "tensor([[  1, 100,  10,   4],\n",
      "        [  5, 100,  10,   8],\n",
      "        [  9, 100,  10,  12]])\n",
      "\n",
      "modifying c does not change a or b:\n",
      "tensor([[  1, 100,  10,   4],\n",
      "        [  5, 100,  10,   8],\n",
      "        [  9, 100,  10,  12]])\n",
      "tensor([[  1, 100,  10,   4],\n",
      "        [  5, 100,  10,   8],\n",
      "        [  9, 100,  10,  12]])\n",
      "tensor([[  1, 100,  10,   0],\n",
      "        [  5, 100,  10,   0],\n",
      "        [  9, 100,  10,   0]])\n",
      "\n",
      "a's address':\n",
      "1155343296\n",
      "b's address':\n",
      "1155343296\n",
      "c's address':\n",
      "1155348160\n"
     ]
    }
   ],
   "source": [
    "# Create the following rank 2 tensor with shape (3, 4)\n",
    "# [[ 1  2  3  4]\n",
    "#  [ 5  6  7  8]\n",
    "#  [ 9 10 11 12]]\n",
    "a = torch.tensor([[1, 2, 3, 4], [5, 6, 7, 8], [9, 10, 11, 12]])\n",
    "print('Original tensor:')\n",
    "print(a)\n",
    "print()\n",
    "\n",
    "# inplace operation: give new values to a based on indexing\n",
    "# given new values to col.1 \n",
    "a[:, 1] = 100\n",
    "print('a with new Values at col.1:')\n",
    "print(a)\n",
    "print()\n",
    "\n",
    "# create a tensor based on a\n",
    "b = a\n",
    "b[:, 2] = 10\n",
    "print('modifying b also changes a:')\n",
    "print(a)\n",
    "print(b)\n",
    "print()\n",
    "\n",
    "# create a tensor based on a's clone\n",
    "c = a.clone()\n",
    "c[:, 3] = 0\n",
    "print('modifying c does not change a or b:')\n",
    "print(a)\n",
    "print(b)\n",
    "print(c)\n",
    "print()\n",
    "\n",
    "# a and b share the same memory addr\n",
    "print('a\\'s address\\':')\n",
    "print(a.data_ptr())\n",
    "print('b\\'s address\\':')\n",
    "print(b.data_ptr())\n",
    "print('c\\'s address\\':')\n",
    "print(c.data_ptr())"
   ]
  },
  {
   "cell_type": "markdown",
   "metadata": {},
   "source": [
    "### 形状操作\n",
    "#### View\n",
    "PyTorch 提供了许多方法来操作张量的形状。最简单的例子是 [`.view()`](https://pytorch.org/docs/stable/generated/torch.Tensor.view.html)：这会返回一个新的张量，其元素数量与输入相同，但形状不同。\n",
    "我们可以使用 .view() 将矩阵展平成向量，以及将秩为 1 的向量转换成秩为 2 的行或列矩阵："
   ]
  },
  {
   "cell_type": "code",
   "execution_count": 29,
   "metadata": {
    "execution": {
     "iopub.execute_input": "2024-10-17T12:05:58.469447Z",
     "iopub.status.busy": "2024-10-17T12:05:58.468844Z",
     "iopub.status.idle": "2024-10-17T12:05:58.476297Z",
     "shell.execute_reply": "2024-10-17T12:05:58.475706Z",
     "shell.execute_reply.started": "2024-10-17T12:05:58.469428Z"
    },
    "tags": []
   },
   "outputs": [
    {
     "name": "stdout",
     "output_type": "stream",
     "text": [
      "Original tensor x0:\n",
      "tensor([[1, 2, 3, 4],\n",
      "        [5, 6, 7, 8]])\n",
      "shape: torch.Size([2, 4])\n",
      "\n",
      "Flattened tensor x1:\n",
      "tensor([1, 2, 3, 4, 5, 6, 7, 8])\n",
      "shape: torch.Size([8])\n",
      "\n",
      "Row vector x2:\n",
      "tensor([[1, 2, 3, 4, 5, 6, 7, 8]])\n",
      "shape: torch.Size([1, 8])\n",
      "\n",
      "Column vector x3:\n",
      "tensor([[1],\n",
      "        [2],\n",
      "        [3],\n",
      "        [4],\n",
      "        [5],\n",
      "        [6],\n",
      "        [7],\n",
      "        [8]])\n",
      "shape: torch.Size([8, 1])\n",
      "\n",
      "Rank 3 tensor x4:\n",
      "tensor([[[1, 2],\n",
      "         [3, 4]],\n",
      "\n",
      "        [[5, 6],\n",
      "         [7, 8]]])\n",
      "shape: torch.Size([2, 2, 2])\n"
     ]
    }
   ],
   "source": [
    "x0 = torch.tensor([[1, 2, 3, 4], [5, 6, 7, 8]])\n",
    "print('Original tensor x0:')\n",
    "print(x0)\n",
    "print('shape:', x0.shape)\n",
    "\n",
    "# Flatten x0 into a rank 1 vector of shape (8,)\n",
    "x1 = x0.view(8)\n",
    "print('\\nFlattened tensor x1:')\n",
    "print(x1)\n",
    "print('shape:', x1.shape)\n",
    "\n",
    "# Convert x1 to a rank 2 \"row vector\" of shape (1, 8)\n",
    "x2 = x1.view(1, 8)\n",
    "print('\\nRow vector x2:')\n",
    "print(x2)\n",
    "print('shape:', x2.shape)\n",
    "\n",
    "# Convert x1 to a rank 2 \"column vector\" of shape (8, 1)\n",
    "x3 = x1.view(8, 1)\n",
    "print('\\nColumn vector x3:')\n",
    "print(x3)\n",
    "print('shape:', x3.shape)\n",
    "\n",
    "# Convert x1 to a rank 3 tensor of shape (2, 2, 2):\n",
    "x4 = x1.view(2, 2, 2)\n",
    "print('\\nRank 3 tensor x4:')\n",
    "print(x4)\n",
    "print('shape:', x4.shape)"
   ]
  },
  {
   "cell_type": "markdown",
   "metadata": {},
   "source": [
    "为了方便起见，调用 .view() 时可以包含一个单独的 -1 参数，-1代表了我们在该维度上放置尽可能多的元素。\n",
    "\n",
    "假设我们对于元素个数为 N=x*y*z 的张量做\n",
    "+ .view(x, -1, z) 操作，那么 -1 这个维度上会有 y 个元素\n",
    "+ .view(x, -1) 操作，那么 -1 这个维度上会有 yz 个元素"
   ]
  },
  {
   "cell_type": "code",
   "execution_count": 30,
   "metadata": {
    "execution": {
     "iopub.execute_input": "2024-10-17T12:07:36.875916Z",
     "iopub.status.busy": "2024-10-17T12:07:36.875314Z",
     "iopub.status.idle": "2024-10-17T12:07:36.880811Z",
     "shell.execute_reply": "2024-10-17T12:07:36.880201Z",
     "shell.execute_reply.started": "2024-10-17T12:07:36.875897Z"
    },
    "tags": []
   },
   "outputs": [
    {
     "name": "stdout",
     "output_type": "stream",
     "text": [
      "x0:\n",
      "tensor([[1, 2, 3],\n",
      "        [4, 5, 6]])\n",
      "x0_flat:\n",
      "tensor([1, 2, 3, 4, 5, 6]) torch.Size([6])\n",
      "x0_flat:\n",
      "tensor([[1, 2, 3, 4, 5, 6]]) torch.Size([1, 6])\n"
     ]
    }
   ],
   "source": [
    "# We can reuse these functions for tensors of different shapes\n",
    "x0 = torch.tensor([[1, 2, 3], [4, 5, 6]])\n",
    "\n",
    "print('x0:')\n",
    "print(x0)\n",
    "print('x0_flat:')\n",
    "print(x0.view(-1), x0.view(-1).shape)\n",
    "print('x0_flat:')\n",
    "print(x0.view(1, -1), x0.view(1, -1).shape)"
   ]
  },
  {
   "cell_type": "markdown",
   "metadata": {},
   "source": [
    "#### 转置\n",
    "要执行的另一个常见的形状是转置矩阵。如果你尝试使用 .view() 转置矩阵，不可行：view() 函数按行主序取元素，因此你不能使用 .view() 来转置矩阵。.view() 只能用来给张量添加新的维度，或者折叠张量的相邻维度。\n",
    "\n",
    "对于其他类型的重塑操作，你通常需要使用可以交换张量轴的函数。最简单的此类函数是 .t()，专门用于转置矩阵。"
   ]
  },
  {
   "cell_type": "code",
   "execution_count": 31,
   "metadata": {
    "execution": {
     "iopub.execute_input": "2024-10-17T12:12:42.673311Z",
     "iopub.status.busy": "2024-10-17T12:12:42.672711Z",
     "iopub.status.idle": "2024-10-17T12:12:42.678772Z",
     "shell.execute_reply": "2024-10-17T12:12:42.678292Z",
     "shell.execute_reply.started": "2024-10-17T12:12:42.673291Z"
    },
    "tags": []
   },
   "outputs": [
    {
     "name": "stdout",
     "output_type": "stream",
     "text": [
      "Original matrix:\n",
      "tensor([[1, 2, 3],\n",
      "        [4, 5, 6]])\n",
      "\n",
      "Transposing with view DOES NOT WORK!\n",
      "tensor([[1, 2],\n",
      "        [3, 4],\n",
      "        [5, 6]])\n",
      "\n",
      "Transposed matrix:\n",
      "tensor([[1, 4],\n",
      "        [2, 5],\n",
      "        [3, 6]])\n",
      "tensor([[1, 4],\n",
      "        [2, 5],\n",
      "        [3, 6]])\n"
     ]
    }
   ],
   "source": [
    "x = torch.tensor([[1, 2, 3], [4, 5, 6]])\n",
    "print('Original matrix:')\n",
    "print(x)\n",
    "print('\\nTransposing with view DOES NOT WORK!')\n",
    "print(x.view(3, 2))\n",
    "print('\\nTransposed matrix:')\n",
    "print(torch.t(x))\n",
    "print(x.t())"
   ]
  },
  {
   "cell_type": "markdown",
   "metadata": {},
   "source": [
    ".t() 方法只能用以处理两个维度的情况，如果出现了更多的维度，那么需要使用 [`torch.transpose`](https://pytorch.org/docs/stable/generated/torch.transpose.html)来进行处理。\n",
    "\n",
    "此外，[`torch.permute`](https://pytorch.org/docs/stable/generated/torch.permute.html)可以同时交换多个轴的元素。"
   ]
  },
  {
   "cell_type": "code",
   "execution_count": 15,
   "metadata": {
    "execution": {
     "iopub.execute_input": "2024-10-16T01:09:08.564403Z",
     "iopub.status.busy": "2024-10-16T01:09:08.564088Z",
     "iopub.status.idle": "2024-10-16T01:09:08.570003Z",
     "shell.execute_reply": "2024-10-16T01:09:08.569564Z",
     "shell.execute_reply.started": "2024-10-16T01:09:08.564384Z"
    },
    "tags": []
   },
   "outputs": [
    {
     "name": "stdout",
     "output_type": "stream",
     "text": [
      "Original tensor:\n",
      "tensor([[[ 1,  2,  3,  4],\n",
      "         [ 5,  6,  7,  8],\n",
      "         [ 9, 10, 11, 12]],\n",
      "\n",
      "        [[13, 14, 15, 16],\n",
      "         [17, 18, 19, 20],\n",
      "         [21, 22, 23, 24]]])\n",
      "shape: torch.Size([2, 3, 4])\n",
      "\n",
      "Swap axes 1 and 2:\n",
      "tensor([[[ 1,  5,  9],\n",
      "         [ 2,  6, 10],\n",
      "         [ 3,  7, 11],\n",
      "         [ 4,  8, 12]],\n",
      "\n",
      "        [[13, 17, 21],\n",
      "         [14, 18, 22],\n",
      "         [15, 19, 23],\n",
      "         [16, 20, 24]]])\n",
      "torch.Size([2, 4, 3])\n",
      "\n",
      "Permute axes\n",
      "tensor([[[ 1, 13],\n",
      "         [ 2, 14],\n",
      "         [ 3, 15],\n",
      "         [ 4, 16]],\n",
      "\n",
      "        [[ 5, 17],\n",
      "         [ 6, 18],\n",
      "         [ 7, 19],\n",
      "         [ 8, 20]],\n",
      "\n",
      "        [[ 9, 21],\n",
      "         [10, 22],\n",
      "         [11, 23],\n",
      "         [12, 24]]])\n",
      "shape: torch.Size([3, 4, 2])\n"
     ]
    }
   ],
   "source": [
    "# Create a tensor of shape (2, 3, 4)\n",
    "x0 = torch.tensor([\n",
    "     [[1,  2,  3,  4],\n",
    "      [5,  6,  7,  8],\n",
    "      [9, 10, 11, 12]],\n",
    "     [[13, 14, 15, 16],\n",
    "      [17, 18, 19, 20],\n",
    "      [21, 22, 23, 24]]])\n",
    "print('Original tensor:')\n",
    "print(x0)\n",
    "print('shape:', x0.shape)\n",
    "\n",
    "# Swap axes 1 and 2; shape is (2, 4, 3)\n",
    "x1 = x0.transpose(1, 2)\n",
    "print('\\nSwap axes 1 and 2:')\n",
    "print(x1)\n",
    "print(x1.shape)\n",
    "\n",
    "# Permute axes; the argument (1, 2, 0) means:\n",
    "# - Make the old dimension 1 appear at dimension 0;\n",
    "# - Make the old dimension 2 appear at dimension 1;\n",
    "# - Make the old dimension 0 appear at dimension 2\n",
    "# This results in a tensor of shape (3, 4, 2)\n",
    "x2 = x0.permute(1, 2, 0)\n",
    "print('\\nPermute axes')\n",
    "print(x2)\n",
    "print('shape:', x2.shape)"
   ]
  },
  {
   "cell_type": "markdown",
   "metadata": {},
   "source": [
    "### Tensor运算\n",
    "到目前为止，我们已经看到了如何构建、访问和处理张量形状。但使用张量的最重要原因之一是为了计算。PyTorch 提供了许多不同的操作来对张量执行计算。\n",
    "\n",
    "#### 元素级（Elementwise）运算\n",
    "如果我们在两个张量上用基本数学符号，那么会逐元素进行运算。此外，PyTorch提供了sin、cos、sqrt等多种[数学运算](https://pytorch.org/docs/stable/torch.html#pointwise-ops)。"
   ]
  },
  {
   "cell_type": "code",
   "execution_count": 17,
   "metadata": {
    "execution": {
     "iopub.execute_input": "2024-10-16T01:09:43.759764Z",
     "iopub.status.busy": "2024-10-16T01:09:43.759203Z",
     "iopub.status.idle": "2024-10-16T01:09:43.769755Z",
     "shell.execute_reply": "2024-10-16T01:09:43.769215Z",
     "shell.execute_reply.started": "2024-10-16T01:09:43.759744Z"
    },
    "tags": []
   },
   "outputs": [
    {
     "name": "stdout",
     "output_type": "stream",
     "text": [
      "Elementwise sum:\n",
      "tensor([[ 6.,  8., 10., 12.]])\n",
      "tensor([[ 6.,  8., 10., 12.]])\n",
      "tensor([[ 6.,  8., 10., 12.]])\n",
      "\n",
      "Elementwise difference:\n",
      "tensor([[-4., -4., -4., -4.]])\n",
      "tensor([[-4., -4., -4., -4.]])\n",
      "tensor([[-4., -4., -4., -4.]])\n",
      "\n",
      "Elementwise product:\n",
      "tensor([[ 5., 12., 21., 32.]])\n",
      "tensor([[ 5., 12., 21., 32.]])\n",
      "tensor([[ 5., 12., 21., 32.]])\n",
      "\n",
      "Elementwise division\n",
      "tensor([[0.2000, 0.3333, 0.4286, 0.5000]])\n",
      "tensor([[0.2000, 0.3333, 0.4286, 0.5000]])\n",
      "tensor([[0.2000, 0.3333, 0.4286, 0.5000]])\n",
      "\n",
      "Elementwise power\n",
      "tensor([[1.0000e+00, 6.4000e+01, 2.1870e+03, 6.5536e+04]])\n",
      "tensor([[1.0000e+00, 6.4000e+01, 2.1870e+03, 6.5536e+04]])\n",
      "tensor([[1.0000e+00, 6.4000e+01, 2.1870e+03, 6.5536e+04]])\n",
      "\n",
      "Square root:\n",
      "tensor([[1.0000, 1.4142, 1.7321, 2.0000]])\n",
      "tensor([[1.0000, 1.4142, 1.7321, 2.0000]])\n",
      "\n",
      "Trig functions:\n",
      "tensor([[ 0.8415,  0.9093,  0.1411, -0.7568]])\n",
      "tensor([[ 0.8415,  0.9093,  0.1411, -0.7568]])\n",
      "tensor([[ 0.5403, -0.4161, -0.9900, -0.6536]])\n",
      "tensor([[ 0.5403, -0.4161, -0.9900, -0.6536]])\n"
     ]
    }
   ],
   "source": [
    "x = torch.tensor([[1, 2, 3, 4]], dtype=torch.float32)\n",
    "y = torch.tensor([[5, 6, 7, 8]], dtype=torch.float32)\n",
    "\n",
    "# Elementwise sum; all give the same result\n",
    "print('Elementwise sum:')\n",
    "print(x + y)\n",
    "print(torch.add(x, y))\n",
    "print(x.add(y))\n",
    "\n",
    "# Elementwise difference\n",
    "print('\\nElementwise difference:')\n",
    "print(x - y)\n",
    "print(torch.sub(x, y))\n",
    "print(x.sub(y))\n",
    "\n",
    "# Elementwise product\n",
    "print('\\nElementwise product:')\n",
    "print(x * y)\n",
    "print(torch.mul(x, y))\n",
    "print(x.mul(y))\n",
    "\n",
    "# Elementwise division\n",
    "print('\\nElementwise division')\n",
    "print(x / y)\n",
    "print(torch.div(x, y))\n",
    "print(x.div(y))\n",
    "\n",
    "# Elementwise power\n",
    "print('\\nElementwise power')\n",
    "print(x ** y)\n",
    "print(torch.pow(x, y))\n",
    "print(x.pow(y))\n",
    "\n",
    "print('\\nSquare root:')\n",
    "print(torch.sqrt(x))\n",
    "print(x.sqrt())\n",
    "\n",
    "print('\\nTrig functions:')\n",
    "print(torch.sin(x))\n",
    "print(x.sin())\n",
    "print(torch.cos(x))\n",
    "print(x.cos())"
   ]
  },
  {
   "cell_type": "markdown",
   "metadata": {},
   "source": [
    "#### 聚合（Reduction）运算\n",
    "\n",
    "到目前为止，我们已经看到了在张量上执行逐元素运算。有时，我们可能希望执行在张量的部分或全部上进行聚合的操作，例如对多个元素求和、求平均、求最大最小值。\n",
    "\n",
    "最简单的缩减操作是求和。我们可以使用[.sum()](https://pytorch.org/docs/stable/generated/torch.Tensor.sum.html) 方法来对整个张量进行缩减，或者使用 dim 参数沿着张量的某个维度进行缩减："
   ]
  },
  {
   "cell_type": "code",
   "execution_count": 13,
   "metadata": {
    "execution": {
     "iopub.execute_input": "2024-10-18T07:27:36.685947Z",
     "iopub.status.busy": "2024-10-18T07:27:36.685574Z",
     "iopub.status.idle": "2024-10-18T07:27:36.692793Z",
     "shell.execute_reply": "2024-10-18T07:27:36.692280Z",
     "shell.execute_reply.started": "2024-10-18T07:27:36.685925Z"
    },
    "tags": []
   },
   "outputs": [
    {
     "name": "stdout",
     "output_type": "stream",
     "text": [
      "Original tensor:\n",
      "tensor([[1., 2., 3.],\n",
      "        [4., 5., 6.]])\n",
      "\n",
      "Sum over entire tensor:\n",
      "tensor(21.)\n",
      "tensor(21.)\n",
      "\n",
      "Sum over the first dimension:\n",
      "tensor([5., 7., 9.])\n",
      "tensor([5., 7., 9.])\n",
      "\n",
      "Sum over the second dimension:\n",
      "tensor([ 6., 15.])\n",
      "tensor([ 6., 15.])\n"
     ]
    }
   ],
   "source": [
    "x = torch.tensor([[1, 2, 3], \n",
    "                  [4, 5, 6]], dtype=torch.float32)\n",
    "print('Original tensor:')\n",
    "print(x)\n",
    "\n",
    "print('\\nSum over entire tensor:')\n",
    "print(torch.sum(x))\n",
    "print(x.sum())\n",
    "\n",
    "# We can sum over the first dimension:\n",
    "print('\\nSum over the first dimension:')\n",
    "print(torch.sum(x, dim=0))\n",
    "print(x.sum(dim=0))\n",
    "\n",
    "# Sum over the second dimension:\n",
    "print('\\nSum over the second dimension:')\n",
    "print(torch.sum(x, dim=1))\n",
    "print(x.sum(dim=1))"
   ]
  },
  {
   "cell_type": "markdown",
   "metadata": {},
   "source": [
    "对于某一个维度（dim）的求和，会将这一个维度从原本的张量中去除。如果我们将 .sum() 方法中的keepdim参数设置为True，那么这个维度会被保留。维度大小变为1，其实也就相当于去除了。"
   ]
  },
  {
   "cell_type": "code",
   "execution_count": 17,
   "metadata": {
    "execution": {
     "iopub.execute_input": "2024-10-18T08:02:56.237346Z",
     "iopub.status.busy": "2024-10-18T08:02:56.236721Z",
     "iopub.status.idle": "2024-10-18T08:02:56.243006Z",
     "shell.execute_reply": "2024-10-18T08:02:56.242385Z",
     "shell.execute_reply.started": "2024-10-18T08:02:56.237319Z"
    },
    "tags": []
   },
   "outputs": [
    {
     "name": "stdout",
     "output_type": "stream",
     "text": [
      "x.shape:  torch.Size([3, 4, 5, 6])\n",
      "x.sum(dim=0).shape:  torch.Size([4, 5, 6])\n",
      "x.sum(dim=0, keepdim=True).shape:  torch.Size([1, 4, 5, 6])\n",
      "x.sum(dim=1).shape:  torch.Size([3, 5, 6])\n",
      "x.sum(dim=1, keepdim=True).shape:  torch.Size([3, 1, 5, 6])\n",
      "x.sum(dim=2).shape:  torch.Size([3, 4, 6])\n",
      "x.sum(dim=2, keepdim=True).shape:  torch.Size([3, 4, 1, 6])\n",
      "x.sum(dim=3).shape:  torch.Size([3, 4, 5])\n",
      "x.sum(dim=3, keepdim=True).shape:  torch.Size([3, 4, 5, 1])\n"
     ]
    }
   ],
   "source": [
    "# Create a tensor of shape (3, 4, 5, 6)\n",
    "x = torch.randn(3, 4, 5, 6)\n",
    "print('x.shape: ', x.shape)\n",
    "\n",
    "# Summing over dim=0 eliminates the dimension at index 0 (of size 3):\n",
    "print('x.sum(dim=0).shape: ', x.sum(dim=0).shape)\n",
    "print('x.sum(dim=0, keepdim=True).shape: ', x.sum(dim=0, keepdim=True).shape)\n",
    "\n",
    "# Summing with dim=1 eliminates the dimension at index 1 (of size 4):\n",
    "print('x.sum(dim=1).shape: ', x.sum(dim=1).shape)\n",
    "print('x.sum(dim=1, keepdim=True).shape: ', x.sum(dim=1, keepdim=True).shape)\n",
    "\n",
    "# Summing with dim=2 eliminates the dimension at index 2 (of size 5):\n",
    "print('x.sum(dim=2).shape: ', x.sum(dim=2).shape)\n",
    "print('x.sum(dim=2, keepdim=True).shape: ', x.sum(dim=2, keepdim=True).shape)\n",
    "\n",
    "# Summing with dim=3 eliminates the dimension at index 3 (of size 6):\n",
    "print('x.sum(dim=3).shape: ', x.sum(dim=3).shape)\n",
    "print('x.sum(dim=3, keepdim=True).shape: ', x.sum(dim=3, keepdim=True).shape)"
   ]
  },
  {
   "cell_type": "markdown",
   "metadata": {},
   "source": [
    "求平均方法 [.mean()](https://pytorch.org/docs/stable/generated/torch.mean.html#torch.mean) 和求和的使用方法类似，我们接着简要介绍最值计算方式，以最小值 [.min()](https://pytorch.org/docs/stable/generated/torch.min.html#torch.min) 为例。我们既可以算出整个张量的最小值，也可以算沿着某一维度的最小值，和 .sum()的过程十分类似。需要注意的是， .min() 与 .max() 方法会返回两个结果，一个是最值，还有一个是最值在当前维度的数组下标。这个下标也可以通过 [.argmin()](https://pytorch.org/docs/stable/generated/torch.argmin.html#torch.argmin) 与 [.argmax()](https://pytorch.org/docs/stable/generated/torch.argmax.html#torch.argmax) 方法直接算出。"
   ]
  },
  {
   "cell_type": "code",
   "execution_count": 5,
   "metadata": {
    "execution": {
     "iopub.execute_input": "2024-10-18T11:43:46.013740Z",
     "iopub.status.busy": "2024-10-18T11:43:46.013417Z",
     "iopub.status.idle": "2024-10-18T11:43:46.020204Z",
     "shell.execute_reply": "2024-10-18T11:43:46.019600Z",
     "shell.execute_reply.started": "2024-10-18T11:43:46.013722Z"
    },
    "tags": []
   },
   "outputs": [
    {
     "name": "stdout",
     "output_type": "stream",
     "text": [
      "Original tensor:\n",
      "tensor([[2., 4., 3., 5.],\n",
      "        [3., 3., 5., 2.]]) torch.Size([2, 4])\n",
      "\n",
      "Overall minimum:  tensor(2.)\n",
      "\n",
      "Minimum along each column:\n",
      "values: tensor([2., 3., 3., 2.])\n",
      "idxs: tensor([0, 1, 0, 1])\n",
      "\n",
      "Minimum along each row:\n",
      "values: tensor([2., 2.])\n",
      "idxs: tensor([0, 3])\n"
     ]
    }
   ],
   "source": [
    "x = torch.tensor([[2, 4, 3, 5], [3, 3, 5, 2]], dtype=torch.float32)\n",
    "print('Original tensor:')\n",
    "print(x, x.shape)\n",
    "\n",
    "# Finding the overall minimum only returns a single value\n",
    "print('\\nOverall minimum: ', x.min())\n",
    "\n",
    "# Compute the minimum along each column; we get both the value and location:\n",
    "# The minimum of the first column is 2, and it appears at index 0;\n",
    "# the minimum of the second column is 3 and it appears at index 1; etc\n",
    "col_min_vals, col_min_idxs = x.min(dim=0)\n",
    "print('\\nMinimum along each column:')\n",
    "print('values:', col_min_vals)\n",
    "print('idxs:', col_min_idxs)\n",
    "\n",
    "# Compute the minimum along each row; we get both the value and the minimum\n",
    "row_min_vals, row_min_idxs = x.min(dim=1)\n",
    "print('\\nMinimum along each row:')\n",
    "print('values:', row_min_vals)\n",
    "print('idxs:', row_min_idxs)"
   ]
  },
  {
   "cell_type": "markdown",
   "metadata": {},
   "source": [
    "#### 矩阵运算\n",
    "与MATLAB不同，* 在PyTorch中表示逐元素乘法，而不是矩阵乘法。PyTorch提供了许多方法来计算不同类型的向量和矩阵积。其中最常用的有：\n",
    "+ [`torch.dot`](https://pytorch.org/docs/stable/generated/torch.dot.html): 计算向量的内积\n",
    "+ [`torch.mm`](https://pytorch.org/docs/stable/generated/torch.mm.html): 计算矩阵-矩阵乘积\n",
    "+ [`torch.mv`](https://pytorch.org/docs/stable/generated/torch.mv.html): 计算矩阵-向量乘积\n",
    "所有这些函数也作为张量实例方法提供，例如 Tensor.dot 而不是 torch.dot。\n",
    "\n",
    "以下是使用 torch.dot 计算内积的示例。"
   ]
  },
  {
   "cell_type": "code",
   "execution_count": 27,
   "metadata": {
    "execution": {
     "iopub.execute_input": "2024-10-19T09:14:50.964038Z",
     "iopub.status.busy": "2024-10-19T09:14:50.963730Z",
     "iopub.status.idle": "2024-10-19T09:14:51.003609Z",
     "shell.execute_reply": "2024-10-19T09:14:51.003087Z",
     "shell.execute_reply.started": "2024-10-19T09:14:50.964022Z"
    },
    "tags": []
   },
   "outputs": [
    {
     "name": "stdout",
     "output_type": "stream",
     "text": [
      "Dot products:\n",
      "tensor(219.)\n",
      "tensor(219.)\n",
      "\n",
      "1D tensors expected, but got 2D and 2D tensors\n",
      "\n",
      "Matrix-matrix product:\n",
      "tensor([[19., 22.],\n",
      "        [43., 50.]])\n",
      "tensor([[19., 22.],\n",
      "        [43., 50.]])\n"
     ]
    }
   ],
   "source": [
    "v = torch.tensor([9,10], dtype=torch.float32)\n",
    "w = torch.tensor([11, 12], dtype=torch.float32)\n",
    "\n",
    "# Inner product of vectors\n",
    "print('Dot products:')\n",
    "print(torch.dot(v, w))\n",
    "print(v.dot(w))\n",
    "print()\n",
    "\n",
    "# dot only works for vectors -- it will give an error for tensors of rank > 1\n",
    "x = torch.tensor([[1,2],[3,4]], dtype=torch.float32)\n",
    "y = torch.tensor([[5,6],[7,8]], dtype=torch.float32)\n",
    "try:\n",
    "  print(x.dot(y))\n",
    "except RuntimeError as e:\n",
    "  print(e)\n",
    "  \n",
    "# Instead we use mm for matrix-matrix products:\n",
    "print('\\nMatrix-matrix product:')\n",
    "print(torch.mm(x, y))\n",
    "print(x.mm(y))"
   ]
  },
  {
   "cell_type": "markdown",
   "metadata": {},
   "source": [
    "#### 运算中的数组广播（Broadcasting）\n",
    "\n",
    "类似NumPy，PyTorch提供了数组广播的机制。广播允许PyTorch在执行算术操作时使用不同形状的数组。通常我们有一个较小的张量和一个较大的张量，我们希望多次使用较小的张量对较大的张量执行某些操作。\n",
    "\n",
    "例如，假设我们想要将一个常数向量添加到张量的每一行。我们可以这样做："
   ]
  },
  {
   "cell_type": "code",
   "execution_count": 11,
   "metadata": {
    "execution": {
     "iopub.execute_input": "2024-10-18T12:14:56.187567Z",
     "iopub.status.busy": "2024-10-18T12:14:56.187269Z",
     "iopub.status.idle": "2024-10-18T12:14:56.191810Z",
     "shell.execute_reply": "2024-10-18T12:14:56.191378Z",
     "shell.execute_reply.started": "2024-10-18T12:14:56.187550Z"
    },
    "tags": []
   },
   "outputs": [
    {
     "name": "stdout",
     "output_type": "stream",
     "text": [
      "tensor([[ 2,  2,  4],\n",
      "        [ 5,  5,  7],\n",
      "        [ 8,  8, 10],\n",
      "        [11, 11, 13]])\n"
     ]
    }
   ],
   "source": [
    "# We will add the vector v to each row of the matrix x,\n",
    "# storing the result in the matrix y\n",
    "x = torch.tensor([[1,2,3], [4,5,6], [7,8,9], [10, 11, 12]])\n",
    "v = torch.tensor([1, 0, 1])\n",
    "y = torch.zeros_like(x)   # Create an empty matrix with the same shape as x\n",
    "\n",
    "# Add the vector v to each row of the matrix x with an explicit loop\n",
    "for i in range(4):\n",
    "    y[i, :] = x[i, :] + v\n",
    "\n",
    "print(y)"
   ]
  },
  {
   "cell_type": "markdown",
   "metadata": {},
   "source": [
    "这个方法是有效的；然而，当张量 x 非常大时，在 Python 中计算显式循环可能会很慢。请注意，将向量 v 添加到张量 x 的每一行等同于通过垂直堆叠 v 的多个副本形成张量 vv，然后对 x 和 vv 进行逐元素求和。我们可以这样实现这个方法："
   ]
  },
  {
   "cell_type": "code",
   "execution_count": 13,
   "metadata": {
    "ExecutionIndicator": {
     "show": true
    },
    "execution": {
     "iopub.execute_input": "2024-10-18T12:20:33.301695Z",
     "iopub.status.busy": "2024-10-18T12:20:33.301401Z",
     "iopub.status.idle": "2024-10-18T12:20:33.305570Z",
     "shell.execute_reply": "2024-10-18T12:20:33.305150Z",
     "shell.execute_reply.started": "2024-10-18T12:20:33.301678Z"
    },
    "tags": []
   },
   "outputs": [
    {
     "name": "stdout",
     "output_type": "stream",
     "text": [
      "tensor([[ 2,  2,  4],\n",
      "        [ 5,  5,  7],\n",
      "        [ 8,  8, 10],\n",
      "        [11, 11, 13]])\n"
     ]
    }
   ],
   "source": [
    "v = torch.tensor([1, 0, 1])\n",
    "vv = v.repeat((4, 1))  # Stack 4 copies of v on top of each other\n",
    "y = x + vv  # Add x and vv elementwise\n",
    "print(y)"
   ]
  },
  {
   "cell_type": "markdown",
   "metadata": {},
   "source": [
    "这样也是有效的；但是，这个做法中 vv 张量相较于前一种方法占据了4倍的内存，在我们使用GPU加速时，显存是非常珍贵的，因此这也不是一个好方法。正确的做法是："
   ]
  },
  {
   "cell_type": "code",
   "execution_count": 26,
   "metadata": {
    "execution": {
     "iopub.execute_input": "2024-10-19T09:14:46.395978Z",
     "iopub.status.busy": "2024-10-19T09:14:46.395491Z",
     "iopub.status.idle": "2024-10-19T09:14:46.400228Z",
     "shell.execute_reply": "2024-10-19T09:14:46.399780Z",
     "shell.execute_reply.started": "2024-10-19T09:14:46.395960Z"
    },
    "tags": []
   },
   "outputs": [
    {
     "name": "stdout",
     "output_type": "stream",
     "text": [
      "tensor([[ 2,  2,  4],\n",
      "        [ 5,  5,  7],\n",
      "        [ 8,  8, 10],\n",
      "        [11, 11, 13]])\n"
     ]
    }
   ],
   "source": [
    "# We will add the vector v to each row of the matrix x,\n",
    "# storing the result in the matrix y\n",
    "x = torch.tensor([[1,2,3], [4,5,6], [7,8,9], [10, 11, 12]])\n",
    "v = torch.tensor([1, 0, 1])\n",
    "y = x + v  # Add v to each row of x using broadcasting\n",
    "print(y)"
   ]
  },
  {
   "cell_type": "markdown",
   "metadata": {},
   "source": [
    "\"y = x + v\" 这一行之所以能够工作，尽管 x 的形状是 (4, 3)，而 v 的形状是 (3,)，是因为PyTorch在计算过程中对 v 使用了广播。我们可以认为在形状上，v: (3, ) -> (1, 3) -> (4, 3)；即 v 这个向量被重复了四份和 x 的第一个维度匹配，但是这个重复过程是隐式的，而不是像 .repeat() 方法那样会显式占据内存。广播遵循以下规则：\n",
    "\n",
    "1. 只有在所有维度上都是兼容的情况下，这两个张量才能进行广播。\n",
    "2. 如果两个张量在某一维度上的大小相同，或者其中一个张量在该维度上的大小为 1，则认为它们在该维度上是兼容的。\n",
    "3. 如果张量的秩不同，会默认在较低秩数组的形状前面添加 1，直到两个形状的长度相同。\n",
    "4. 在任何一个维度上，其中一个张量的大小为 1，而另一个张量的大小大于 1，那么前一个张量在该维度上的行为就好像它被沿着那个维度复制。\n",
    "\n",
    "同学可以阅读[文档](https://pytorch.org/docs/stable/notes/broadcasting.html)以获取更详细的理解。"
   ]
  },
  {
   "cell_type": "markdown",
   "metadata": {},
   "source": [
    "## 运用GPU处理张量\n",
    "\n",
    "我们先打开Kaggle的GPU环境——点击左上角Settings->Accelerator，选择GPU T4 x2。"
   ]
  },
  {
   "cell_type": "code",
   "execution_count": 24,
   "metadata": {
    "execution": {
     "iopub.execute_input": "2024-10-19T09:14:40.165436Z",
     "iopub.status.busy": "2024-10-19T09:14:40.165109Z",
     "iopub.status.idle": "2024-10-19T09:14:40.217194Z",
     "shell.execute_reply": "2024-10-19T09:14:40.216725Z",
     "shell.execute_reply.started": "2024-10-19T09:14:40.165419Z"
    },
    "tags": []
   },
   "outputs": [
    {
     "name": "stdout",
     "output_type": "stream",
     "text": [
      "PyTorch can use GPUs!\n"
     ]
    }
   ],
   "source": [
    "import torch\n",
    "\n",
    "if torch.cuda.is_available():\n",
    "  print('PyTorch can use GPUs!')\n",
    "else:\n",
    "  print('PyTorch cannot use GPUs.')"
   ]
  },
  {
   "cell_type": "markdown",
   "metadata": {},
   "source": [
    "如果要利用GPU加速张量的运算，那么要把张量从CPU迁移到GPU上，使用 .to() 或者 .cuda() 方法。我们也可以直接在GPU上创建张量。"
   ]
  },
  {
   "cell_type": "code",
   "execution_count": 19,
   "metadata": {
    "execution": {
     "iopub.execute_input": "2024-10-18T12:42:08.367215Z",
     "iopub.status.busy": "2024-10-18T12:42:08.366876Z",
     "iopub.status.idle": "2024-10-18T12:42:08.372577Z",
     "shell.execute_reply": "2024-10-18T12:42:08.372146Z",
     "shell.execute_reply.started": "2024-10-18T12:42:08.367196Z"
    },
    "tags": []
   },
   "outputs": [
    {
     "name": "stdout",
     "output_type": "stream",
     "text": [
      "x0 device: cpu\n",
      "x1 device: cuda:0\n",
      "x2 device: cuda:0\n",
      "x3 device: cpu\n",
      "x4 device: cpu\n",
      "y device / dtype: cuda:0 torch.float64\n",
      "x5 device / dtype: cuda:0 torch.float64\n"
     ]
    }
   ],
   "source": [
    "# Construct a tensor on the CPU\n",
    "x0 = torch.tensor([[1, 2], [3, 4]], dtype=torch.float32)\n",
    "print('x0 device:', x0.device)\n",
    "\n",
    "# Move it to the GPU using .to()\n",
    "x1 = x0.to('cuda')\n",
    "print('x1 device:', x1.device)\n",
    "\n",
    "# Move it to the GPU using .cuda()\n",
    "x2 = x0.cuda()\n",
    "print('x2 device:', x2.device)\n",
    "\n",
    "# Move it back to the CPU using .to()\n",
    "x3 = x1.to('cpu')\n",
    "print('x3 device:', x3.device)\n",
    "\n",
    "# Move it back to the CPU using .cpu()\n",
    "x4 = x2.cpu()\n",
    "print('x4 device:', x4.device)\n",
    "\n",
    "# We can construct tensors directly on the GPU as well\n",
    "y = torch.tensor([[1, 2, 3], [4, 5, 6]], dtype=torch.float64, device='cuda')\n",
    "print('y device / dtype:', y.device, y.dtype)\n",
    "\n",
    "# Calling x.to(y) where y is a tensor will return a copy of x with the same\n",
    "# device and dtype as y\n",
    "x5 = x0.to(y)\n",
    "print('x5 device / dtype:', x5.device, x5.dtype)"
   ]
  },
  {
   "cell_type": "markdown",
   "metadata": {},
   "source": [
    "cuda:0与cuda:1表示当前机器的第0号和1号GPU，在没有显式声明的情况下，默认将张量迁移到0号GPU上。\n",
    "\n",
    "如果两个张量在不同的设备上（一个CPU、一个cuda:0或一个cuda:0、一个cuda:1），那么把拿这两个张量做运算会报错。此时我们需要使用 .to() 方法将它们迁移到同一个设备上。\n",
    "\n",
    "以上就是教程的全部，接下来请同学看练习。"
   ]
  },
  {
   "cell_type": "markdown",
   "metadata": {
    "tags": []
   },
   "source": [
    "## 练习\n",
    "请编写代码使程序能够运行并且通过测试用例。\n",
    "\n",
    "将你完成的练习全部运行一遍后，左上角File->Download Notebook。将下载的ipynb文件按照Lab文档要求进行处理，上传到elearning。该部分完成后还有第二部分https://www.kaggle.com/code/donquijote7/pytorch-logistic-regression\n",
    "\n",
    "如果代码中使用了 for 去遍历张量的某个维度，那么这段代码会扣分。Python中的 for 是非常低效的，使用PyTorch张量的目的就是提高计算效率。在大多数情况下，PyTorch提供的接口能让我们避免 for 的使用。\n",
    "\n",
    "总共四题，每一题25分。\n",
    "\n",
    "如果遇到困难，可以：\n",
    "+ 看看前面的基础知识\n",
    "+ 看看提示\n",
    "+ 点击提示中给出的pytorch函数链接，去官方文档看看这个函数是怎么使用的。感兴趣的同学可以看看[pytorch官网总文档](https://pytorch.org/docs/stable/index.html)，里面内容较多。\n",
    "+ 鼓励大家助教群中提问交流，不要抄袭同学"
   ]
  },
  {
   "cell_type": "markdown",
   "metadata": {},
   "source": [
    "### 创建Tensor\n",
    "在函数`multiples_of_ten`中创建一个tensor，数据类型是`torch.float64`，包含了从start到stop之间的10的倍数。\n",
    "\n",
    "提示：[`torch.arange`](https://pytorch.org/docs/stable/generated/torch.arange.html) [`torch.empty`](https://pytorch.org/docs/stable/generated/torch.empty.html#torch.empty)"
   ]
  },
  {
   "cell_type": "code",
   "execution_count": 5,
   "metadata": {
    "ExecutionIndicator": {
     "show": true
    },
    "execution": {
     "iopub.execute_input": "2024-10-19T06:18:07.676801Z",
     "iopub.status.busy": "2024-10-19T06:18:07.676472Z",
     "iopub.status.idle": "2024-10-19T06:18:07.682428Z",
     "shell.execute_reply": "2024-10-19T06:18:07.681963Z",
     "shell.execute_reply.started": "2024-10-19T06:18:07.676783Z"
    },
    "tags": []
   },
   "outputs": [
    {
     "name": "stdout",
     "output_type": "stream",
     "text": [
      "Correct dtype:  True\n",
      "Correct shape:  True\n",
      "Correct values:  True\n",
      "\n",
      "Correct dtype:  True\n",
      "Correct shape:  True\n"
     ]
    }
   ],
   "source": [
    "import torch\n",
    "\n",
    "def multiples_of_ten(start: int, stop: int) -> torch.Tensor:\n",
    "    assert start <= stop\n",
    "    x = None\n",
    "    x=torch.arange(start,stop+1,dtype=torch.float64)\n",
    "    if (x%10==0).any():\n",
    "        x1=x[x%10==0]\n",
    "        return x1\n",
    "    else:\n",
    "        x=torch.empty((0,),dtype=torch.float64)\n",
    "        return x\n",
    "    \n",
    "start = 5\n",
    "stop = 25\n",
    "x = multiples_of_ten(start, stop)\n",
    "#print(x)\n",
    "print('Correct dtype: ', x.dtype == torch.float64)\n",
    "print('Correct shape: ', x.shape == (2,))\n",
    "print('Correct values: ', x.tolist() == [10, 20])\n",
    "\n",
    "# If there are no multiples of ten in the given range you should return an empty tensor\n",
    "start = 5\n",
    "stop = 7\n",
    "x = multiples_of_ten(start, stop)\n",
    "#print(x)\n",
    "print('\\nCorrect dtype: ', x.dtype == torch.float64)\n",
    "print('Correct shape: ', x.shape == (0,))"
   ]
  },
  {
   "cell_type": "markdown",
   "metadata": {},
   "source": [
    "### 切片、形状操作\n",
    "实现函数`reshape_practice`使输出和`expected`相同。\n",
    "\n",
    "提示：使用 .view() 以及[torch.cat](https://pytorch.org/docs/stable/generated/torch.cat.html)。这题有一定难度，同学可以先观察y中连续的部分，使用 .view() 将x转化为类似的形状。随后使用切片的方式切出两个部分。最后把两个部分利用cat函数拼接。\n",
    "\n",
    "在这个过程中同学可以输出一些中间值观察一下，便于理解和debug。"
   ]
  },
  {
   "cell_type": "code",
   "execution_count": 9,
   "metadata": {
    "ExecutionIndicator": {
     "show": true
    },
    "execution": {
     "iopub.execute_input": "2024-10-19T07:43:44.033702Z",
     "iopub.status.busy": "2024-10-19T07:43:44.033384Z",
     "iopub.status.idle": "2024-10-19T07:43:44.040731Z",
     "shell.execute_reply": "2024-10-19T07:43:44.040246Z",
     "shell.execute_reply.started": "2024-10-19T07:43:44.033685Z"
    },
    "tags": []
   },
   "outputs": [
    {
     "name": "stdout",
     "output_type": "stream",
     "text": [
      "Here is x:\n",
      "tensor([ 0,  1,  2,  3,  4,  5,  6,  7,  8,  9, 10, 11, 12, 13, 14, 15, 16, 17,\n",
      "        18, 19, 20, 21, 22, 23])\n",
      "Here is y:\n",
      "tensor([[ 0,  2,  1,  3, 12, 13, 14, 15],\n",
      "        [ 4,  6,  5,  7, 16, 17, 18, 19],\n",
      "        [ 8, 10,  9, 11, 20, 21, 22, 23]])\n",
      "Correct: True\n"
     ]
    }
   ],
   "source": [
    "import torch\n",
    "\n",
    "def reshape_practice(x: torch.Tensor) -> torch.Tensor:\n",
    "    y = None\n",
    "    x1=x[12:24]\n",
    "    x2=x1.view(3,4)\n",
    "    #print(x2)\n",
    "    z1=x[0:12]\n",
    "    #print(z1)\n",
    "    z2=z1.view(3,4)\n",
    "    #print(z2)\n",
    "    idx=[0,2,1,3]\n",
    "    z3=z2[:,idx]\n",
    "    #print(z2[:,idx])\n",
    "    y=torch.cat((z3,x2),dim=1)\n",
    "    #print(y)\n",
    "    return y\n",
    "\n",
    "x = torch.arange(24)\n",
    "print('Here is x:')\n",
    "print(x)\n",
    "y = reshape_practice(x)\n",
    "print('Here is y:')\n",
    "print(y)\n",
    "\n",
    "expected = [\n",
    "    [0,  2,  1,  3, 12, 13, 14, 15],\n",
    "    [4,  6,  5,  7, 16, 17, 18, 19],\n",
    "    [8, 10,  9, 11, 20, 21, 22, 23]]\n",
    "print('Correct:', y.tolist() == expected)"
   ]
  },
  {
   "cell_type": "markdown",
   "metadata": {},
   "source": [
    "### 聚合运算\n",
    "实现函数`normalize_columns`，该函数对矩阵的列做normalize操作。\n",
    "\n",
    "```\n",
    "x = [[ 0,  30,  600],\n",
    "     [ 1,  10,  200],\n",
    "     [-1,  20,  400]]\n",
    "```\n",
    "- 第一列均值 0、 标准差 1\n",
    "- 第二列均值 20、 标准差 10\n",
    "- 第三列均值 400、 标准差 200\n",
    "\n",
    "```\n",
    "y = [[ 0,  1,  1],\n",
    "     [ 1, -1, -1],\n",
    "     [-1,  0,  0]]\n",
    "```\n",
    "\n",
    "如果某一列为 $x_1,\\ldots,x_M$、均值 $\\mu$、标准差 $\\sigma$，则\n",
    "\n",
    "$$\\mu=\\frac{1}{M}\\sum_{i=1}^M x_i \\hspace{4pc} \\sigma = \\sqrt{\\frac{1}{M-1}\\sum_{i=1}^M(x_i-\\mu)^2}$$\n",
    "\n",
    "归一化后的结果为$$y_i=\\frac{x_i-\\mu}{\\sigma}$$\n",
    "\n",
    "注意：只允许使用`+, -, *, /, **, sqrt, sum`等基础操作，不允许使用`torch.mean`和`torch.std`方法。"
   ]
  },
  {
   "cell_type": "code",
   "execution_count": 18,
   "metadata": {
    "ExecutionIndicator": {
     "show": true
    },
    "execution": {
     "iopub.execute_input": "2024-10-19T08:35:20.006001Z",
     "iopub.status.busy": "2024-10-19T08:35:20.005449Z",
     "iopub.status.idle": "2024-10-19T08:35:20.012128Z",
     "shell.execute_reply": "2024-10-19T08:35:20.011669Z",
     "shell.execute_reply.started": "2024-10-19T08:35:20.005983Z"
    },
    "tags": []
   },
   "outputs": [
    {
     "name": "stdout",
     "output_type": "stream",
     "text": [
      "Here is x:\n",
      "tensor([[  0.,  30., 600.],\n",
      "        [  1.,  10., 200.],\n",
      "        [ -1.,  20., 400.]])\n",
      "Here is y:\n",
      "tensor([[ 0.,  1.,  1.],\n",
      "        [ 1., -1., -1.],\n",
      "        [-1.,  0.,  0.]])\n",
      "y correct:  True\n",
      "x unchanged:  True\n"
     ]
    }
   ],
   "source": [
    "import torch\n",
    "\n",
    "def normalize_columns(x: torch.Tensor) -> torch.Tensor:\n",
    "    y = None\n",
    "    mean=x.sum(dim=0)/x.size(0)\n",
    "    var=((x-mean)**2).sum(dim=0)/(x.size(0)-1)\n",
    "    std=torch.sqrt(var)\n",
    "    y=(x-mean)/std\n",
    "    return y\n",
    "\n",
    "x = torch.tensor([[0., 30., 600.], [1., 10., 200.], [-1., 20., 400.]])\n",
    "y = normalize_columns(x)\n",
    "print('Here is x:')\n",
    "print(x)\n",
    "print('Here is y:')\n",
    "print(y)\n",
    "\n",
    "x_expected = [[0., 30., 600.], [1., 10., 200.], [-1., 20., 400.]]\n",
    "y_expected = [[0., 1., 1.], [1., -1., -1.], [-1., 0., 0.]]\n",
    "y_correct = y.tolist() == y_expected\n",
    "x_correct = x.tolist() == x_expected\n",
    "print('y correct: ', y_correct)\n",
    "print('x unchanged: ', x_correct)"
   ]
  },
  {
   "cell_type": "markdown",
   "metadata": {},
   "source": [
    "### 聚合、索引赋值\n",
    "\n",
    "在不用for循环的情况下，使用reduction和indexing操作，把张量每一行最小的元素设置为0.\n",
    "\n",
    "提示：在这题中，同学需要先找出最小值所在的位置。随后利用这个位置进行索引+赋值操作。"
   ]
  },
  {
   "cell_type": "code",
   "execution_count": 23,
   "metadata": {
    "ExecutionIndicator": {
     "show": true
    },
    "execution": {
     "iopub.execute_input": "2024-10-19T09:13:10.553075Z",
     "iopub.status.busy": "2024-10-19T09:13:10.552759Z",
     "iopub.status.idle": "2024-10-19T09:13:10.560870Z",
     "shell.execute_reply": "2024-10-19T09:13:10.560364Z",
     "shell.execute_reply.started": "2024-10-19T09:13:10.553058Z"
    },
    "tags": []
   },
   "outputs": [
    {
     "name": "stdout",
     "output_type": "stream",
     "text": [
      "Here is x0:\n",
      "tensor([[10, 20, 30],\n",
      "        [ 2,  5,  1]])\n",
      "Here is y0:\n",
      "tensor([[ 0, 20, 30],\n",
      "        [ 2,  5,  0]])\n",
      "y0 correct:  True\n",
      "\n",
      "Here is x1:\n",
      "tensor([[ 2,  5, 10, -1],\n",
      "        [ 1,  3,  2,  4],\n",
      "        [ 5,  6,  2, 10]])\n",
      "Here is y1:\n",
      "tensor([[ 2,  5, 10,  0],\n",
      "        [ 0,  3,  2,  4],\n",
      "        [ 5,  6,  0, 10]])\n",
      "y1 correct:  True\n"
     ]
    }
   ],
   "source": [
    "import torch\n",
    "\n",
    "def zero_row_min(x: torch.Tensor) -> torch.Tensor:\n",
    "    y = x.clone()\n",
    "    _,idx=x.min(dim=1)\n",
    "    y[torch.arange(x.size(0)),idx]=0 #the locations where the mins on and let them = 0\n",
    "    return y\n",
    "\n",
    "x0 = torch.tensor([[10, 20, 30], [2, 5, 1]])\n",
    "print('Here is x0:')\n",
    "print(x0)\n",
    "y0 = zero_row_min(x0)\n",
    "print('Here is y0:')\n",
    "print(y0)\n",
    "expected = [[0, 20, 30], [2, 5, 0]]\n",
    "y0_correct = torch.is_tensor(y0) and y0.tolist() == expected\n",
    "print('y0 correct: ', y0_correct)\n",
    "\n",
    "x1 = torch.tensor([[2, 5, 10, -1], [1, 3, 2, 4], [5, 6, 2, 10]])\n",
    "print('\\nHere is x1:')\n",
    "print(x1)\n",
    "y1 = zero_row_min(x1)\n",
    "print('Here is y1:')\n",
    "print(y1)\n",
    "expected = [[2, 5, 10, 0], [0, 3, 2, 4], [5, 6, 0, 10]]\n",
    "y1_correct = torch.is_tensor(y1) and y1.tolist() == expected\n",
    "print('y1 correct: ', y1_correct)"
   ]
  }
 ],
 "metadata": {
  "kaggle": {
   "accelerator": "none",
   "dataSources": [],
   "dockerImageVersionId": 30761,
   "isGpuEnabled": false,
   "isInternetEnabled": false,
   "language": "python",
   "sourceType": "notebook"
  },
  "kernelspec": {
   "display_name": "Python 3 (ipykernel)",
   "language": "python",
   "name": "python3"
  },
  "language_info": {
   "codemirror_mode": {
    "name": "ipython",
    "version": 3
   },
   "file_extension": ".py",
   "mimetype": "text/x-python",
   "name": "python",
   "nbconvert_exporter": "python",
   "pygments_lexer": "ipython3",
   "version": "3.9.15"
  }
 },
 "nbformat": 4,
 "nbformat_minor": 4
}
